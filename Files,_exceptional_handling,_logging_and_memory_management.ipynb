{
  "nbformat": 4,
  "nbformat_minor": 0,
  "metadata": {
    "colab": {
      "provenance": [],
      "authorship_tag": "ABX9TyMhN4fvCjgeCAwitGgLdVEk",
      "include_colab_link": true
    },
    "kernelspec": {
      "name": "python3",
      "display_name": "Python 3"
    },
    "language_info": {
      "name": "python"
    }
  },
  "cells": [
    {
      "cell_type": "markdown",
      "metadata": {
        "id": "view-in-github",
        "colab_type": "text"
      },
      "source": [
        "<a href=\"https://colab.research.google.com/github/Razi9128/Python/blob/main/Files%2C_exceptional_handling%2C_logging_and_memory_management.ipynb\" target=\"_parent\"><img src=\"https://colab.research.google.com/assets/colab-badge.svg\" alt=\"Open In Colab\"/></a>"
      ]
    },
    {
      "cell_type": "markdown",
      "source": [],
      "metadata": {
        "id": "11d93OEAMJBV"
      }
    },
    {
      "cell_type": "markdown",
      "source": [
        "1. What is the difference between interpreted and compiled languages\n",
        "\n",
        "    The difference lies in how the code is translated and executed:\n",
        "\n",
        "    Interpreted Languages\n",
        "    Execute code line by line using an interpreter.\n",
        "\n",
        "    Slower performance but easier to debug.\n",
        "\n",
        "    Commonly used for scripting and rapid development.\n",
        "\n",
        "    Examples: Python, JavaScript, Ruby\n",
        "\n",
        "    Compiled Languages\n",
        "    Translate the entire code into machine language using a compiler before running.\n",
        "\n",
        "    Faster execution due to pre-compilation.\n",
        "\n",
        "    Typically used for performance-critical applications.\n",
        "\n",
        "    Examples: C, C++, Rust\n",
        "\n",
        "2.What is exception handling in Python?\n",
        "    Exception handling is a mechanism for detecting and responding to runtime errors, such as dividing by zero, accessing a file that doesn't exist, or referencing a missing key in a dictionary.\n",
        "    try:\n",
        "    # Code that might raise an exception\n",
        "    result = 10 / 0\n",
        "      except ZeroDivisionError:\n",
        "    # What to do if that exception occurs\n",
        "    print(\"Oops! You can't divide by zero.\")\n",
        "        finally:\n",
        "    # This runs no matter what\n",
        "    print(\"Execution finished.\")\n",
        "3. What is the purpose of the finally block in exception handling\n",
        "    The finally block in Python's exception handling plays a crucial role—it ensures that specific code runs no matter what happens in the try and except blocks.\n",
        "\n",
        "    Purpose of the finally block\n",
        "    It guarantees cleanup actions, like closing files, releasing resources, or resetting states.\n",
        "\n",
        "    Executes regardless of whether an exception was raised or handled.\n",
        "\n",
        "  4. What is logging in Python\n",
        "\n",
        "    Logging in Python is like keeping a diary for your program—tracking its behavior, errors, and important events as it runs. It helps developers understand what's going on behind the scenes.\n",
        "\n",
        "    Why Use Logging?\n",
        "    Debugging: Identify and trace bugs without interrupting program flow.\n",
        "\n",
        "    Monitoring: Track application status in real-time or after deployment.\n",
        "\n",
        "    Audit Trails: Record user actions or system events for review.\n",
        "\n",
        "    Error Reporting: Capture and report unexpected issues automatically.\n",
        "\n",
        "    How Logging Works\n",
        "    Python has a built-in logging module that lets you record messages at different severity levels:\n",
        "\n",
        "    python\n",
        "    import logging\n",
        "\n",
        "    # Basic configuration\n",
        "    logging.basicConfig(level=logging.INFO)\n",
        "\n",
        "    logging.debug(\"This is a debug message\")\n",
        "    logging.info(\"This is an info message\")\n",
        "    logging.warning(\"This is a warning\")\n",
        "    logging.error(\"This is an error\")\n",
        "    logging.critical(\"This is critical\"\n",
        "\n",
        "5.What is the significance of the __del__ method in Python\n",
        "    The __del__ method in Python is known as the destructor—a special method that's called when an object is about to be destroyed, typically when it's no longer referenced and garbage collected\n",
        "\n",
        "6. What is the difference between import and from ... import in Python\n",
        "    These two statements are both used to bring external modules or parts of modules into your Python code—but they behave a little differently:\n",
        "\n",
        "   import Statement\n",
        "    python\n",
        "    import math\n",
        "    print(math.sqrt(25))\n",
        "    Brings in the whole module\n",
        "    You access everything with the module name prefix (math.sqrt, math.pi, etc.)\n",
        "\n",
        "    from ... import Statement\n",
        "    python\n",
        "    from math import sqrt\n",
        "    print(sqrt(25))\n",
        "    Imports specific functions, classes, or variables\n",
        "    No need for a prefix—you use the name directly (sqrt, not math.sqrt)\n",
        "    No need for a prefix—you use the name directly (sqrt, not math.sqrt)\n",
        "    No need for a prefix—you use the name directly (sqrt, not math.sqrt)\n",
        "\n",
        "7.How can you handle multiple exceptions in Python\n",
        "\n",
        "    Python gives you flexible ways to handle multiple exceptions gracefully, helping your program avoid unexpected crashes and respond smartly to different error types.\n",
        "\n",
        "    Using Multiple except Blocks\n",
        "    You can catch different exception types with separate handlers:\n",
        "\n",
        "    python\n",
        "    try:\n",
        "        value = int(\"abc\")  # Raises ValueError\n",
        "        result = 10 / 0      # Raises ZeroDivisionError\n",
        "    except ValueError:\n",
        "        print(\"Invalid value conversion.\")\n",
        "    except ZeroDivisionError:\n",
        "        print(\"Cannot divide by zero.\")\n",
        "     Each except catches a specific exception, allowing tailored responses.\n",
        "\n",
        "     Catching Multiple Exceptions in One Block\n",
        "    Use a tuple to handle multiple exceptions with the same logic:\n",
        "\n",
        "    python\n",
        "    try:\n",
        "        # Some risky operations\n",
        "        value = int(\"abc\")\n",
        "    except (ValueError, TypeError):\n",
        "        print(\"Something went wrong with value handling.\")\n",
        "     Handy when different errors need the same treatment.\n",
        "\n",
        "     Using a Generic Exception Catch\n",
        "    python\n",
        "    try:\n",
        "        risky_code()\n",
        "    except Exception as e:\n",
        "        print(\"An unexpected error occurred:\", e)\n",
        "     Caution: Catching all exceptions this way can hide bugs if overused.\n",
        "8. What is the purpose of the with statement when handling files in Python\n",
        "\n",
        "    The with statement in Python is used for managing resources like files, network connections, or locks. Its main goal is to simplify the handling of these resources by automatically taking care of setup and cleanup—even if errors occur.\n",
        "\n",
        "9. What is the difference between multithreading and multiprocessing\n",
        "\n",
        "      Multithreading\n",
        "    Runs multiple threads within a single process.\n",
        "\n",
        "    Threads share the same memory space, making communication between them faster.\n",
        "\n",
        "    Best suited for I/O-bound tasks like file operations, network requests, or user input.\n",
        "\n",
        "    Limited by Python’s Global Interpreter Lock (GIL), which allows only one thread to execute Python bytecode at a time.\n",
        "\n",
        "    python\n",
        "    import threading\n",
        "\n",
        "    def task():\n",
        "        print(\"Running in thread\")\n",
        "\n",
        "    thread = threading.Thread(target=task)\n",
        "    thread.start()\n",
        "     Multiprocessing\n",
        "    Runs multiple processes, each with its own memory space.\n",
        "\n",
        "    Ideal for CPU-bound tasks like heavy computations or data processing.\n",
        "\n",
        "    Bypasses the GIL, allowing true parallel execution on multiple CPU cores.\n",
        "\n",
        "    Requires more memory and overhead due to separate processes.\n",
        "\n",
        "    python\n",
        "    import multiprocessing\n",
        "\n",
        "    def task():\n",
        "        print(\"Running in process\")\n",
        "\n",
        "    process = multiprocessing.Process(target=task)\n",
        "    process.start()\n",
        "\n",
        "10. What are the advantages of using logging in a program\n",
        "\n",
        "\n",
        "  Logging in a Python program offers several valuable benefits for developers and system administrators. Here’s a clear breakdown of the main advantages:\n",
        "\n",
        "  Traceability: Logging helps track the flow of program execution, making it easier to understand how and when events occur.\n",
        "\n",
        "  Debugging support: Logs provide detailed information about errors, warnings, and system state, which simplifies identifying and resolving issues.\n",
        "\n",
        "  Error detection: Logging allows real-time or post-mortem analysis of unexpected behaviors or failures, even if the program doesn't crash.\n",
        "\n",
        "  Monitoring and maintenance: Logs act as a monitoring tool, showing the system's performance and operational history, which is useful in production environments.\n",
        "\n",
        "  Audit trails: They offer a historical record of operations, access, or transactions—essential for compliance and security analysis.\n",
        "\n",
        "  Transparency: Logging improves program transparency, making collaboration among developers smoother since issues and events are recorded.\n",
        "\n",
        "  Flexibility: Python’s logging module lets you control output levels (INFO, WARNING, ERROR, etc.), redirect logs to files, streams, or external systems, and format messages precisely.\n",
        "\n",
        "  Non-intrusive reporting: Logging records information without interrupting or stopping the actual execution of your application.\n",
        "11.What is memory management in Python\n",
        "\n",
        "\n",
        "      Memory management in Python refers to the process of allocating, tracking, and reclaiming memory used by objects during a program's execution. Python handles most memory operations automatically, but understanding how it works is important for writing efficient and error-free programs.\n",
        "\n",
        "  Here are its key components:\n",
        "\n",
        "  Automatic memory allocation When you create objects like variables, lists, or dictionaries, Python automatically allocates memory based on object type and size.\n",
        "\n",
        "  Reference counting Python keeps a count of how many references exist to each object. When the count drops to zero—meaning no part of the program refers to it anymore—the memory can be freed.\n",
        "\n",
        "  Garbage collection Python has a built-in garbage collector that identifies and frees memory occupied by unused objects, especially those involved in circular references where reference counting alone wouldn't work.\n",
        "\n",
        "  Memory pools and blocks Python uses a system of object-specific memory pools to avoid frequent calls to the operating system. This improves efficiency and performance.\n",
        "\n",
        "  Dynamic typing Since Python variables are dynamically typed, the memory needed for each variable depends on the type of data assigned to it, which can change during execution.\n",
        "\n",
        "  Built-in functions and modules Python provides tools like sys.getsizeof() to inspect memory usage and modules like gc to interact with the garbage collector.\n",
        "\n",
        "  Efficiency and safety Proper memory management ensures programs run smoothly, avoid leaks, and use resources responsibly—especially important in long-running or data-intensive applications.\n",
        "\n",
        "12. What are the basic steps involved in exception handling in Python\n",
        "\n",
        "    The basic steps in Python exception handling are:\n",
        "\n",
        "    Try block Write code that might raise an exception.\n",
        "\n",
        "    Except block Handle specific or general exceptions raised from the try block.\n",
        "\n",
        "    Else block (optional) Runs if no exception was raised in the try block.\n",
        "\n",
        "    Finally block (optional) Executes cleanup code whether an exception occurred or not.\n",
        "\n",
        "\n",
        "13. Why is memory management important in Python\n",
        "\n",
        "\n",
        "  Memory management is important in Python because it helps programs run efficiently by controlling how memory is allocated and reclaimed. It prevents memory leaks, ensures optimal use of system resources, and keeps long-running or data-heavy applications stable and responsive. Without it, performance issues and crashes are more likely.\n",
        "\n",
        "14.What is the role of try and except in exception handling\n",
        "\n",
        "        In Python, the `try` and `except` blocks form the foundation of exception handling. Their role is to allow your program to respond to errors without crashing.\n",
        "\n",
        "      - `try`: You write code inside this block that might raise an exception.\n",
        "      - `except`: This block catches and handles the exception if one occurs during the `try`.\n",
        "\n",
        "    Example:\n",
        "\n",
        "    ```python\n",
        "    try:\n",
        "        x = 5 / 0\n",
        "    except ZeroDivisionError:\n",
        "        print(\"Cannot divide by zero.\")\n",
        "    ```\n",
        "\n",
        "    This lets you manage errors smoothly and provide meaningful feedback or fallback behavior instead of letting the program terminate unexpectedly. Let me know if you’d like to add a `finally` or `else` block to make it more complete.\n",
        "\n",
        "15.How does Python's garbage collection system work\n",
        "\n",
        "    Python's garbage collection system works by automatically reclaiming memory used by objects that are no longer needed. It uses two main techniques:\n",
        "\n",
        "1. **Reference counting**  \n",
        "   Every object keeps track of how many references point to it. When the count drops to zero, the object is immediately deallocated.\n",
        "\n",
        "2. **Generational garbage collection**  \n",
        "   To handle circular references (where objects refer to each other), Python uses a generational approach:\n",
        "   - Objects are grouped into three generations: 0 (new), 1 (survived one collection), and 2 (long-lived).\n",
        "   - Younger generations are collected more frequently.\n",
        "   - The `gc` module manages this process and can be used to inspect or trigger collection manually.\n",
        "\n",
        "This system ensures efficient memory use and helps prevent memory leaks. Let me know if you'd like a quick example or want to see how to manually trigger garbage collection.\n",
        "\n",
        "16.What is the purpose of the else block in exception handling?\n",
        "\n",
        "In Python exception handling, the else block runs only if no exceptions occur in the try block. It's useful for code that should execute after the try block completes successfully, but not if an error happens.\n",
        "\n",
        "Basic structure:\n",
        "\n",
        "python\n",
        "try:\n",
        "    x = 10 / 2\n",
        "except ZeroDivisionError:\n",
        "    print(\"Error: Cannot divide by zero.\")\n",
        "else:\n",
        "    print(\"Division successful.\")\n",
        "In this example, \"Division successful.\" will be printed because no exception is raised. The else block helps separate normal flow from error handling, making your code cleaner and easier to read.\n",
        "\n",
        "17.What are the common logging levels in Python?\n",
        "\n",
        "  Python’s logging system includes several predefined levels that indicate the severity or importance of messages being tracked. Here’s a concise overview:\n",
        "\n",
        "1. **DEBUG**  \n",
        "   Used for detailed diagnostic information helpful during development.\n",
        "\n",
        "2. **INFO**  \n",
        "   Confirms that things are working as expected.\n",
        "\n",
        "3. **WARNING**  \n",
        "   Indicates something unexpected happened, but the program is still running.\n",
        "\n",
        "4. **ERROR**  \n",
        "   Reports serious problems that caused part of the program to fail.\n",
        "\n",
        "5. **CRITICAL**  \n",
        "   Indicates a very serious error that may prevent the program from continuing.\n",
        "\n",
        "These levels allow developers to filter messages and monitor systems effectively. Let me know if you want to see a quick example of how to configure logging using these levels.\n",
        "\n",
        "18.What is the difference between os.fork() and multiprocessing in Python\n",
        "  The difference between `os.fork()` and the `multiprocessing` module in Python lies in their level of abstraction, portability, and safety:\n",
        "\n",
        "**os.fork():**\n",
        "- A low-level system call available only on Unix-like systems.\n",
        "- Directly duplicates the current process, creating a child that inherits the entire memory space.\n",
        "- Fast due to copy-on-write behavior.\n",
        "- Can be unsafe in multithreaded programs because threads and locks may not be handled correctly.\n",
        "- Not supported on Windows.\n",
        "\n",
        "**multiprocessing module:**\n",
        "- A high-level Python interface for creating and managing processes.\n",
        "- Cross-platform: works on both Unix and Windows.\n",
        "- Internally uses `os.fork()` on Unix, but uses `spawn` or `forkserver` on other systems.\n",
        "- Safer and more flexible, with built-in support for inter-process communication, synchronization, and shared data.\n",
        "- Adds some overhead but is more robust for general use.\n",
        "\n",
        "**Summary:**\n",
        "- Use `os.fork()` for low-level control on Unix systems.\n",
        "- Use `multiprocessing` for cross-platform compatibility and safer, more manageable parallelism.\n",
        "\n",
        "Let me know if you’d like a code comparison or explanation of `spawn` vs `fork` behavior.\n",
        "19.What is the importance of closing a file in Python\n",
        "\n",
        "Closing a file in Python is important because it:\n",
        "\n",
        "1. Releases system resources:  \n",
        "   Open files consume memory and file handles; closing them frees these resources.\n",
        "\n",
        "2. Ensures data integrity:  \n",
        "   Data buffered during writing is flushed to disk only when the file is properly closed.\n",
        "\n",
        "3. Prevents file corruption or loss:  \n",
        "   Closing the file ensures all write operations are finalized and saved correctly.\n",
        "\n",
        "4. Improves program stability:  \n",
        "   Too many open files can lead to errors or crashes due to system limits.\n",
        "\n",
        "Using a `with` statement helps manage this automatically. Let me know if you'd like to see how that works.\n",
        "\n",
        "\n",
        "20.What is the difference between file.read() and file.readline() in Python\n",
        "The main difference between `file.read()` and `file.readline()` in Python is how much content each method reads:\n",
        "\n",
        "**file.read()**  \n",
        "- Reads the entire file (or a specified number of characters) as one continuous string.  \n",
        "- Best for small files or when full content is needed at once.\n",
        "\n",
        "**file.readline()**  \n",
        "- Reads only one line from the file at a time.  \n",
        "- Useful when processing large files line by line.\n",
        "\n",
        "Example:\n",
        "\n",
        "```python\n",
        "with open(\"sample.txt\", \"r\") as f:\n",
        "    all_text = f.read()           # Reads entire content\n",
        "    f.seek(0)                     # Reset file pointer\n",
        "    first_line = f.readline()     # Reads only the first line\n",
        "```\n",
        "\n",
        "Let me know if you'd like to go over `readlines()` too, which reads all lines as a list.\n",
        "\n",
        "21. What is the logging module in Python used for\n",
        "\n",
        "The logging module in Python is used to record messages that describe the events happening during the execution of a program. It provides a flexible and standardized way to:\n",
        "\n",
        "1. Track and diagnose problems during development or after deployment.\n",
        "2. Monitor program behavior and performance in production environments.\n",
        "3. Record errors, warnings, and other significant events without interrupting execution.\n",
        "4. Store logs in various outputs like files, console, or remote servers.\n",
        "5. Control message importance with predefined levels such as DEBUG, INFO, WARNING, ERROR, and CRITICAL.\n",
        "\n",
        "Let me know if you’d like a sample configuration or how to log to a file.\n",
        "\n",
        "22.What is the os module in Python used for in file handling?\n",
        "\n",
        "  The `os` module in Python provides functions for interacting with the operating system, including file and directory operations. In file handling, its main uses include:\n",
        "\n",
        "1. Accessing file paths  \n",
        "   - Use `os.path.join()` to build file paths that work across platforms.  \n",
        "   - Use `os.path.exists()` to check if a file or directory exists.\n",
        "\n",
        "2. Managing files and directories  \n",
        "   - `os.remove()` deletes a file.  \n",
        "   - `os.rename()` renames a file or directory.  \n",
        "   - `os.mkdir()` and `os.makedirs()` create directories.  \n",
        "   - `os.rmdir()` and `os.removedirs()` remove directories.\n",
        "\n",
        "3. Navigating the file system  \n",
        "   - `os.listdir()` lists files in a directory.  \n",
        "   - `os.getcwd()` returns the current working directory.  \n",
        "   - `os.chdir()` changes the current working directory.\n",
        "\n",
        "4. Handling environment variables  \n",
        "   - You can use `os.environ` to access or modify environment settings that might affect file paths.\n",
        "\n",
        "Let me know if you want a code snippet showing how to manage folders or clean up files using `os`.\n",
        "\n",
        "\n",
        "23.What are the challenges associated with memory management in Python\n",
        "    Memory management in Python is largely automatic, but it does come with a few challenges that developers need to understand:\n",
        "\n",
        "1. **Circular references**  \n",
        "   When two or more objects reference each other, their reference count may never drop to zero. Python’s garbage collector can clean these up, but detection can be costly or delayed.\n",
        "\n",
        "2. **Memory leaks**  \n",
        "   Improper handling of references or lingering data structures can prevent memory from being released, especially in long-running applications.\n",
        "\n",
        "3. **Global Interpreter Lock (GIL)**  \n",
        "   Limits concurrent execution of threads, which can indirectly affect memory usage and efficiency in multithreaded programs.\n",
        "\n",
        "4. **Fragmentation**  \n",
        "   Over time, memory can become fragmented due to repeated allocation and deallocation, reducing performance.\n",
        "\n",
        "5. **Large object retention**  \n",
        "   Objects kept in memory unnecessarily (like cached data or static variables) consume space and can impact speed.\n",
        "\n",
        "6. **Manual control limitations**  \n",
        "   Python doesn't offer fine-grained manual memory management like languages such as C, which can be both a strength and a limitation.\n",
        "\n",
        "Let me know if you want tips for profiling memory use or avoiding leaks in a specific type of application.\n",
        "\n",
        "24.How do you raise an exception manually in Python\n",
        "\n",
        "    you can raise an exception manually in Python using the raise statement. This allows you to trigger an error on purpose—often to signal that something unexpected or invalid has happened.\n",
        "\n",
        "      Example:\n",
        "\n",
        "      python\n",
        "      x = -1\n",
        "      if x < 0:\n",
        "          raise ValueError(\"x must be non-negative\")\n",
        "      In this example, if x is negative, Python will raise a ValueError with the custom message.\n",
        "\n",
        "      You can also raise custom exceptions using classes derived from Exception. Let me know if you'd like to create your own exception type.\n",
        "\n",
        "  25. Why is it important to use multithreading in certain applications\n",
        "\n",
        "      Multithreading is important in certain applications because it allows multiple tasks to run concurrently within the same process, improving performance and responsiveness. Here are the key reasons:\n",
        "\n",
        "1. **Improved responsiveness**  \n",
        "   Applications like web browsers or user interfaces stay active even when performing background tasks.\n",
        "\n",
        "2. **Efficient CPU utilization**  \n",
        "   Threads can run in parallel on multiple cores, maximizing hardware usage.\n",
        "\n",
        "3. **Faster execution for I/O-bound tasks**  \n",
        "   While one thread waits for input/output, others can continue processing.\n",
        "\n",
        "4. **Resource sharing**  \n",
        "   Threads share memory and resources, making communication faster and more efficient than between separate processes.\n",
        "\n",
        "5. **Scalability**  \n",
        "   Multithreaded programs can handle more users or tasks simultaneously, especially on multi-core systems.\n",
        "\n",
        "6. **Reduced overhead**  \n",
        "   Creating and switching between threads is generally cheaper than managing multiple processes.\n",
        "\n",
        "Let me know if you want examples of real-world applications that benefit from multithreading."
      ],
      "metadata": {
        "id": "DjtBuOK2MKZZ"
      }
    },
    {
      "cell_type": "code",
      "source": [],
      "metadata": {
        "id": "Dj5ef3IIQz2x"
      },
      "execution_count": null,
      "outputs": []
    },
    {
      "cell_type": "code",
      "source": [
        "#1.How can you open a file for writing in Python and write a string to it\n",
        "import os\n",
        "\n",
        "\n",
        "with open(\"C:\\\\Users\\\\DELL\\\\Downloads\\\\test.txt\", \"w\") as file:\n",
        "    file.write(\"Hello, this is a test string.\")\n"
      ],
      "metadata": {
        "id": "05bq1YfpaRMf"
      },
      "execution_count": 6,
      "outputs": []
    },
    {
      "cell_type": "code",
      "source": [
        "#2Write a Python program to read the contents of a file and print each line\n",
        "\n",
        "\n",
        "# Open the file for reading\n",
        "with open(\"C:\\\\Users\\\\DELL\\\\Downloads\\\\test.txt\", \"r\") as file:\n",
        "    # Loop through each line and print it\n",
        "    for line in file:\n",
        "        print(line.strip())  # .strip() removes newline characters\n"
      ],
      "metadata": {
        "colab": {
          "base_uri": "https://localhost:8080/"
        },
        "id": "IzZMJdaXbHQT",
        "outputId": "9593080c-376c-4872-9852-7662a06e2625"
      },
      "execution_count": 7,
      "outputs": [
        {
          "output_type": "stream",
          "name": "stdout",
          "text": [
            "Hello, this is a test string.\n"
          ]
        }
      ]
    },
    {
      "cell_type": "code",
      "source": [
        "#3.How would you handle a case where the file doesn't exist while trying to open it for reading\n",
        "\n",
        "try:\n",
        "    with open(\"nonexistent_file.txt\", \"r\") as file:\n",
        "        contents = file.read()\n",
        "        print(contents)\n",
        "except FileNotFoundError:\n",
        "    print(\"Error: The file does not exist.\")\n"
      ],
      "metadata": {
        "colab": {
          "base_uri": "https://localhost:8080/"
        },
        "id": "5n7lwLUicFCi",
        "outputId": "3d27184a-5df1-4de3-cae0-f6360cb54261"
      },
      "execution_count": 8,
      "outputs": [
        {
          "output_type": "stream",
          "name": "stdout",
          "text": [
            "Error: The file does not exist.\n"
          ]
        }
      ]
    },
    {
      "cell_type": "code",
      "source": [
        "#4.Write a Python script that reads from one file and writes its content to another file\n",
        "\n",
        "\n",
        "# Read content from one file and write to another\n",
        "with open(\"C:\\\\Users\\\\DELL\\\\Downloads\\\\test.txt\", \"r\") as source_file:\n",
        "    data = source_file.read()\n",
        "\n",
        "with open(\"destination.txt\", \"w\") as destination_file:\n",
        "    destination_file.write(data)\n"
      ],
      "metadata": {
        "id": "YHvufTB9cb3L"
      },
      "execution_count": 9,
      "outputs": []
    },
    {
      "cell_type": "code",
      "source": [
        "#5. How would you catch and handle division by zero error in Python\n",
        "\n",
        "try:\n",
        "    result = 10 / 0\n",
        "except ZeroDivisionError:\n",
        "    print(\"Oops! Division by zero is not allowed.\")\n"
      ],
      "metadata": {
        "colab": {
          "base_uri": "https://localhost:8080/"
        },
        "id": "YbPCclwxcmCr",
        "outputId": "071a649e-7ad2-4853-fa33-01414d101c64"
      },
      "execution_count": 10,
      "outputs": [
        {
          "output_type": "stream",
          "name": "stdout",
          "text": [
            "Oops! Division by zero is not allowed.\n"
          ]
        }
      ]
    },
    {
      "cell_type": "code",
      "source": [
        "#6. Write a Python program that logs an error message to a log file when a division by zero exception occurs\n",
        "\n",
        "import logging\n",
        "\n",
        "# Configure logging to write errors to a file\n",
        "logging.basicConfig(\n",
        "    filename=\"C:\\\\Users\\\\DELL\\\\Downloads\\\\test.txt\",\n",
        "    level=logging.ERROR,\n",
        "    format=\"%(asctime)s - %(levelname)s - %(message)s\"\n",
        ")\n",
        "\n",
        "try:\n",
        "    result = 10 / 0\n",
        "except ZeroDivisionError as e:\n",
        "    logging.error(\"Division by zero occurred: %s\", e)\n"
      ],
      "metadata": {
        "colab": {
          "base_uri": "https://localhost:8080/"
        },
        "id": "nO41JL_icuBX",
        "outputId": "f3d1d437-5a8b-42bd-d49a-777830e75bf9"
      },
      "execution_count": 12,
      "outputs": [
        {
          "output_type": "stream",
          "name": "stderr",
          "text": [
            "ERROR:root:Division by zero occurred: division by zero\n"
          ]
        }
      ]
    },
    {
      "cell_type": "code",
      "source": [
        "#7.How do you log information at different levels (INFO, ERROR, WARNING) in Python using the logging module\n",
        "\n",
        "import logging\n",
        "\n",
        "# Basic configuration\n",
        "logging.basicConfig(\n",
        "    filename=\"app.log\",  # Logs will be written to this file\n",
        "    level=logging.DEBUG,  # Capture all levels DEBUG and above\n",
        "    format=\"%(asctime)s - %(levelname)s - %(message)s\"\n",
        ")\n",
        "\n",
        "# Log messages at different levels\n",
        "logging.debug(\"This is a debug message.\")\n",
        "logging.info(\"This is an info message.\")\n",
        "logging.warning(\"This is a warning message.\")\n",
        "logging.error(\"This is an error message.\")\n",
        "logging.critical(\"This is a critical message.\")\n"
      ],
      "metadata": {
        "id": "7_Zb3JV-c953"
      },
      "execution_count": null,
      "outputs": []
    },
    {
      "cell_type": "code",
      "source": [
        "#8. Write a program to handle a file opening error using exception handling\n",
        "\n",
        "try:\n",
        "    with open(\"important_data.txt\", \"r\") as file:\n",
        "        content = file.read()\n",
        "        print(content)\n",
        "except FileNotFoundError:\n",
        "    print(\"Error: 'important_data.txt' not found. Please check the file name or path.\")\n",
        "except PermissionError:\n",
        "    print(\"Error: You don't have permission to open this file.\")\n",
        "except Exception as e:\n",
        "    print(f\"Unexpected error: {e}\")\n"
      ],
      "metadata": {
        "colab": {
          "base_uri": "https://localhost:8080/"
        },
        "id": "8EaeIQA0dU44",
        "outputId": "19f21386-b8f7-475b-c80d-32551544330f"
      },
      "execution_count": 13,
      "outputs": [
        {
          "output_type": "stream",
          "name": "stdout",
          "text": [
            "Error: 'important_data.txt' not found. Please check the file name or path.\n"
          ]
        }
      ]
    },
    {
      "cell_type": "code",
      "source": [
        "#9.How can you read a file line by line and store its content in a list in Python\n",
        "\n",
        "with open(\"C:\\\\Users\\\\DELL\\\\Downloads\\\\test.txt\", \"r\") as file:\n",
        "  lines = [line.strip() for line in file]\n"
      ],
      "metadata": {
        "id": "pq6pvrAOddb4"
      },
      "execution_count": 16,
      "outputs": []
    },
    {
      "cell_type": "code",
      "source": [
        "#10.How can you append data to an existing file in Python\n",
        "\n",
        "with open(\"C:\\\\Users\\\\DELL\\\\Downloads\\\\test.txt\", \"a\") as file:\n",
        "    file.write(\"\\nThis is a new line added to the file.\")\n"
      ],
      "metadata": {
        "id": "FSlfc4Eadp0h"
      },
      "execution_count": 18,
      "outputs": []
    },
    {
      "cell_type": "markdown",
      "source": [],
      "metadata": {
        "id": "W2I6rCXlPt8t"
      }
    },
    {
      "cell_type": "code",
      "source": [
        "#11.Write a Python program that uses a try-except block to handle an error when attempting to access a\n",
        "#dictionary key that doesn't exist\n",
        "\n",
        "# Define a sample dictionary\n",
        "user_info = {\n",
        "    \"name\": \"Alice\",\n",
        "    \"age\": 30\n",
        "}\n",
        "\n",
        "# Attempt to access a missing key safely\n",
        "try:\n",
        "    print(\"Email:\", user_info[\"email\"])\n",
        "except KeyError:\n",
        "    print(\"Error: 'email' key not found in the dictionary.\")\n"
      ],
      "metadata": {
        "colab": {
          "base_uri": "https://localhost:8080/"
        },
        "id": "zA7kQdZod0hP",
        "outputId": "0de9a369-ee16-4f28-c67d-ecf66499e118"
      },
      "execution_count": 19,
      "outputs": [
        {
          "output_type": "stream",
          "name": "stdout",
          "text": [
            "Error: 'email' key not found in the dictionary.\n"
          ]
        }
      ]
    },
    {
      "cell_type": "code",
      "source": [
        "#12.Write a program that demonstrates using multiple except blocks to handle different types of exceptions\n",
        "try:\n",
        "    # Simulate IndexError\n",
        "    sample_list = [1, 2, 3]\n",
        "    print(sample_list[5])\n",
        "\n",
        "    # Simulate KeyError\n",
        "    sample_dict = {\"name\": \"Alice\"}\n",
        "    print(sample_dict[\"age\"])\n",
        "\n",
        "    # Simulate ZeroDivisionError\n",
        "    result = 10 / 0\n",
        "\n",
        "except IndexError:\n",
        "    print(\"IndexError: List index out of range.\")\n",
        "\n",
        "except KeyError:\n",
        "    print(\"KeyError: Dictionary key not found.\")\n",
        "\n",
        "except ZeroDivisionError:\n",
        "    print(\"ZeroDivisionError: Cannot divide by zero.\")\n",
        "\n",
        "except Exception as e:\n",
        "    print(f\"An unexpected error occurred: {e}\")\n"
      ],
      "metadata": {
        "colab": {
          "base_uri": "https://localhost:8080/"
        },
        "id": "2f3PkGPfeC2L",
        "outputId": "d46be014-e58c-4708-d2e9-1adec7a8290d"
      },
      "execution_count": 20,
      "outputs": [
        {
          "output_type": "stream",
          "name": "stdout",
          "text": [
            "IndexError: List index out of range.\n"
          ]
        }
      ]
    },
    {
      "cell_type": "code",
      "source": [
        "#13.How would you check if a file exists before attempting to read it in Python\n",
        "\n",
        "\n",
        "import os\n",
        "\n",
        "filename = \"example.txt\"\n",
        "\n",
        "if os.path.exists(filename):\n",
        "    with open(filename, \"r\") as file:\n",
        "        content = file.read()\n",
        "        print(content)\n",
        "else:\n",
        "    print(f\"File '{filename}' not found.\")\n"
      ],
      "metadata": {
        "colab": {
          "base_uri": "https://localhost:8080/"
        },
        "id": "Y6yRkFP0eNeH",
        "outputId": "896bed63-2949-436b-f327-5420adeacd5b"
      },
      "execution_count": 21,
      "outputs": [
        {
          "output_type": "stream",
          "name": "stdout",
          "text": [
            "File 'example.txt' not found.\n"
          ]
        }
      ]
    },
    {
      "cell_type": "code",
      "source": [
        "#14.Write a program that uses the logging module to log both informational and error messages\n",
        "import logging\n",
        "\n",
        "# Configure logging settings\n",
        "logging.basicConfig(\n",
        "    filename=\"app_log.txt\",\n",
        "    level=logging.INFO,\n",
        "    format=\"%(asctime)s - %(levelname)s - %(message)s\"\n",
        ")\n",
        "\n",
        "# Log an informational message\n",
        "logging.info(\"The application has started successfully.\")\n",
        "\n",
        "try:\n",
        "    # Simulate some operation\n",
        "    result = 10 / 0  # Will raise ZeroDivisionError\n",
        "except ZeroDivisionError as e:\n",
        "    logging.error(\"Division by zero error occurred: %s\", e)\n",
        "\n",
        "# Log another informational message\n",
        "logging.info(\"The application continues running smoothly.\")\n",
        "\n"
      ],
      "metadata": {
        "colab": {
          "base_uri": "https://localhost:8080/"
        },
        "id": "og4Rb0tVeYb6",
        "outputId": "f8ddb648-7e19-4525-dc36-4f9d053524d1"
      },
      "execution_count": 22,
      "outputs": [
        {
          "output_type": "stream",
          "name": "stderr",
          "text": [
            "ERROR:root:Division by zero error occurred: division by zero\n"
          ]
        }
      ]
    },
    {
      "cell_type": "code",
      "source": [
        "#15.Write a Python program that prints the content of a file and handles the case when the file is empty\n",
        "\n",
        "import os\n",
        "\n",
        "filename = \"C:\\\\Users\\\\DELL\\\\Downloads\\\\test.txt\"\n",
        "\n",
        "# Check if file exists before opening\n",
        "if os.path.exists(filename):\n",
        "    with open(filename, \"r\") as file:\n",
        "        content = file.read()\n",
        "        if content.strip():  # Check for non-empty content\n",
        "            print(\"File Content:\")\n",
        "            print(content)\n",
        "        else:\n",
        "            print(\"The file is empty.\")\n",
        "else:\n",
        "    print(f\"Error: '{filename}' does not exist.\")\n"
      ],
      "metadata": {
        "colab": {
          "base_uri": "https://localhost:8080/"
        },
        "id": "AxO69cHVeecD",
        "outputId": "dce20009-66b0-430b-d9d5-66c3420d495e"
      },
      "execution_count": 24,
      "outputs": [
        {
          "output_type": "stream",
          "name": "stdout",
          "text": [
            "File Content:\n",
            "Hello, this is a test string.\n",
            "This is a new line added to the file.\n",
            "This is a new line added to the file.\n"
          ]
        }
      ]
    },
    {
      "cell_type": "code",
      "source": [
        "#16.Demonstrate how to use memory profiling to check the memory usage of a small program\n",
        "\n",
        "!pip install memory-profiler\n",
        "from memory_profiler import profile\n",
        "\n",
        "@profile\n",
        "def create_list():\n",
        "    data = [i ** 2 for i in range(10000)]\n",
        "    return data\n",
        "\n",
        "create_list()\n",
        "python -m memory_profiler your_script.py\n"
      ],
      "metadata": {
        "id": "FnyxUeO5eq6U"
      },
      "execution_count": null,
      "outputs": []
    },
    {
      "cell_type": "markdown",
      "source": [],
      "metadata": {
        "id": "TeQRVmNBMbbR"
      }
    },
    {
      "cell_type": "code",
      "source": [
        "#17.Write a Python program to create and write a list of numbers to a file, one number per line\n",
        "\n",
        "# Define a list of numbers\n",
        "numbers = [1, 2, 3, 4, 5, 6, 7, 8, 9, 10]\n",
        "\n",
        "# Open a file for writing and write each number on a new line\n",
        "with open(\"numbers.txt\", \"w\") as file:\n",
        "    for number in numbers:\n",
        "        file.write(f\"{number}\\n\")\n"
      ],
      "metadata": {
        "id": "_9nn1Rvle5a4"
      },
      "execution_count": 25,
      "outputs": []
    },
    {
      "cell_type": "code",
      "source": [
        "#18.How would you implement a basic logging setup that logs to a file with rotation after 1MB\n",
        "\n",
        "import logging\n",
        "from logging.handlers import RotatingFileHandler\n",
        "\n",
        "# Create a logger\n",
        "logger = logging.getLogger(\"my_logger\")\n",
        "logger.setLevel(logging.DEBUG)\n",
        "\n",
        "# Create a rotating file handler\n",
        "handler = RotatingFileHandler(\n",
        "    \"app.log\",           # Log file name\n",
        "    maxBytes=1_000_000,  # Rotate after 1MB\n",
        "    backupCount=3        # Keep up to 3 backup files\n",
        ")\n",
        "\n",
        "# Define log message format\n",
        "formatter = logging.Formatter(\"%(asctime)s - %(levelname)s - %(message)s\")\n",
        "handler.setFormatter(formatter)\n",
        "\n",
        "# Add the handler to the logger\n",
        "logger.addHandler(handler)\n",
        "\n",
        "# Example log messages\n",
        "logger.info(\"Application started.\")\n",
        "logger.error(\"An error occurred.\")\n"
      ],
      "metadata": {
        "colab": {
          "base_uri": "https://localhost:8080/"
        },
        "id": "5PnQPlWPfCU7",
        "outputId": "ffb95a98-b4e7-45c5-c3e3-52807bca0dd1"
      },
      "execution_count": 26,
      "outputs": [
        {
          "output_type": "stream",
          "name": "stderr",
          "text": [
            "INFO:my_logger:Application started.\n",
            "ERROR:my_logger:An error occurred.\n"
          ]
        }
      ]
    },
    {
      "cell_type": "code",
      "source": [
        "#19.Write a program that handles both IndexError and KeyError using a try-except block\n",
        "\n",
        "\n",
        "# Sample data\n",
        "numbers = [10, 20, 30]\n",
        "person = {\"name\": \"Alice\", \"age\": 25}\n",
        "\n",
        "try:\n",
        "    # Attempt to access out-of-range index\n",
        "    print(\"Number:\", numbers[5])\n",
        "\n",
        "    # Attempt to access missing key\n",
        "    print(\"Email:\", person[\"email\"])\n",
        "\n",
        "except IndexError:\n",
        "    print(\"IndexError: Tried to access an invalid index in the list.\")\n",
        "\n",
        "except KeyError:\n",
        "    print(\"KeyError: Tried to access a missing key in the dictionary.\")\n",
        "\n",
        "except Exception as e:\n",
        "    print(f\"Unexpected error occurred: {e}\")\n"
      ],
      "metadata": {
        "colab": {
          "base_uri": "https://localhost:8080/"
        },
        "id": "mfzu1bd4fHjD",
        "outputId": "fed1754a-cdf5-42cd-ccb3-dc68c5431c3a"
      },
      "execution_count": 27,
      "outputs": [
        {
          "output_type": "stream",
          "name": "stdout",
          "text": [
            "IndexError: Tried to access an invalid index in the list.\n"
          ]
        }
      ]
    },
    {
      "cell_type": "code",
      "source": [
        "#20.How would you open a file and read its contents using a context manager in Python\n",
        "# Open the file and read its contents safely\n",
        "with open(\"C:\\\\Users\\\\DELL\\\\Downloads\\\\test.txt\", \"r\") as file:\n",
        "    contents = file.read()\n",
        "    print(contents)\n"
      ],
      "metadata": {
        "colab": {
          "base_uri": "https://localhost:8080/"
        },
        "id": "GMaVQinFfQuh",
        "outputId": "6c5e9dbe-007b-4f64-e570-43c8ff9914ee"
      },
      "execution_count": 29,
      "outputs": [
        {
          "output_type": "stream",
          "name": "stdout",
          "text": [
            "Hello, this is a test string.\n",
            "This is a new line added to the file.\n",
            "This is a new line added to the file.\n"
          ]
        }
      ]
    },
    {
      "cell_type": "code",
      "source": [
        "#21.Write a Python program that reads a file and prints the number of occurrences of a specific word\n",
        "\n",
        "# Define the target word\n",
        "target_word = \"example\"\n",
        "\n",
        "# Initialize a counter\n",
        "count = 0\n",
        "\n",
        "# Open the file and process its content\n",
        "with open(\"C:\\\\Users\\\\DELL\\\\Downloads\\\\test.txt\", \"r\") as file:\n",
        "    for line in file:\n",
        "        words = line.strip().split()\n",
        "        count += words.count(target_word)\n",
        "\n",
        "# Print the total number of occurrences\n",
        "print(f\"The word '{target_word}' occurred {count} times in the file.\")\n"
      ],
      "metadata": {
        "colab": {
          "base_uri": "https://localhost:8080/"
        },
        "id": "dSl3f_OKfdrg",
        "outputId": "e90f0f53-363d-4b67-bb3a-468eb6aef067"
      },
      "execution_count": 30,
      "outputs": [
        {
          "output_type": "stream",
          "name": "stdout",
          "text": [
            "The word 'example' occurred 0 times in the file.\n"
          ]
        }
      ]
    },
    {
      "cell_type": "code",
      "source": [
        "#22. How can you check if a file is empty before attempting to read its contents\n",
        "\n",
        "import os\n",
        "\n",
        "filename = \"C:\\\\Users\\\\DELL\\\\Downloads\\\\test.txt\"\n",
        "\n",
        "if os.path.exists(filename):\n",
        "    if os.path.getsize(filename) == 0:\n",
        "        print(\"The file is empty.\")\n",
        "    else:\n",
        "        with open(filename, \"r\") as file:\n",
        "            print(file.read())\n",
        "else:\n",
        "    print(\"File not found.\")\n"
      ],
      "metadata": {
        "colab": {
          "base_uri": "https://localhost:8080/"
        },
        "id": "vlp7oBkSfmzI",
        "outputId": "e641c239-fdf4-40e5-a91a-cefba906c292"
      },
      "execution_count": 33,
      "outputs": [
        {
          "output_type": "stream",
          "name": "stdout",
          "text": [
            "Hello, this is a test string.\n",
            "This is a new line added to the file.\n",
            "This is a new line added to the file.\n"
          ]
        }
      ]
    },
    {
      "cell_type": "code",
      "source": [
        "#23. Write a Python program that writes to a log file when an error occurs during file handling\n",
        "\n",
        "import logging\n",
        "import os\n",
        "\n",
        "# Configure logging to write errors to a file\n",
        "logging.basicConfig(\n",
        "    filename=\"file_errors.log\",\n",
        "    level=logging.ERROR,\n",
        "    format=\"%(asctime)s - %(levelname)s - %(message)s\"\n",
        ")\n",
        "\n",
        "filename = \"C:\\\\Users\\\\DELL\\\\Downloads\\\\test.txt\"\n",
        "\n",
        "try:\n",
        "    # Try to open and read the file\n",
        "    with open(filename, \"r\") as file:\n",
        "        content = file.read()\n",
        "        print(content)\n",
        "\n",
        "except FileNotFoundError as e:\n",
        "    logging.error(\"File not found: %s\", e)\n",
        "\n",
        "except PermissionError as e:\n",
        "    logging.error(\"Permission denied when accessing the file: %s\", e)\n",
        "\n",
        "except Exception as e:\n",
        "    logging.error(\"An unexpected error occurred during file handling: %s\", e)\n"
      ],
      "metadata": {
        "colab": {
          "base_uri": "https://localhost:8080/"
        },
        "id": "Ke8noJmYf0Lk",
        "outputId": "c27fa2ad-f978-494b-d351-fb83fc44d7da"
      },
      "execution_count": 35,
      "outputs": [
        {
          "output_type": "stream",
          "name": "stdout",
          "text": [
            "Hello, this is a test string.\n",
            "This is a new line added to the file.\n",
            "This is a new line added to the file.\n"
          ]
        }
      ]
    }
  ]
}