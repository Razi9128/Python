{
  "nbformat": 4,
  "nbformat_minor": 0,
  "metadata": {
    "colab": {
      "provenance": [],
      "authorship_tag": "ABX9TyOCzxOMDU8v5ZuUZM3CajBM",
      "include_colab_link": true
    },
    "kernelspec": {
      "name": "python3",
      "display_name": "Python 3"
    },
    "language_info": {
      "name": "python"
    }
  },
  "cells": [
    {
      "cell_type": "markdown",
      "metadata": {
        "id": "view-in-github",
        "colab_type": "text"
      },
      "source": [
        "<a href=\"https://colab.research.google.com/github/Razi9128/Python/blob/main/Functions.ipynb\" target=\"_parent\"><img src=\"https://colab.research.google.com/assets/colab-badge.svg\" alt=\"Open In Colab\"/></a>"
      ]
    },
    {
      "cell_type": "markdown",
      "source": [],
      "metadata": {
        "id": "QPUOmaduhtje"
      }
    },
    {
      "cell_type": "markdown",
      "source": [
        "1. What is the difference between a function and a method in Python?\n",
        "\n",
        "\n",
        "In Python, a **function** is a block of reusable code defined using the `def` keyword that performs a specific task. It's not tied to any object and can be called independently. Example:  \n",
        "```python\n",
        "def greet():\n",
        "    return \"Hello\"\n",
        "```\n",
        "\n",
        "A **method**, on the other hand, is a function that is associated with an object. It's defined inside a class and typically operates on data within that class. The first parameter is usually `self`, referring to the instance. Example:  \n",
        "```python\n",
        "class Greeter:\n",
        "    def greet(self):\n",
        "        return \"Hello\"\n",
        "```\n",
        "\n",
        "So, while both are defined similarly, a method is invoked on an object (`Greeter().greet()`), whereas a function stands alone (`greet()`).\n",
        "\n",
        "\n",
        "\n",
        " 2. Explain the concept of function arguments and parameters in Python.\n",
        "\n",
        "In Python, parameters and arguments are used in the context of functions.\n",
        "\n",
        "A parameter is the name used in a function definition to refer to the value that will be passed into the function. It acts as a placeholder within the function so the logic can operate on varying inputs.\n",
        "\n",
        "An argument is the actual value that you provide when calling the function. This value gets assigned to the corresponding parameter.\n",
        "\n",
        "For example, if you define a function that takes a parameter called name, and you call it using the value \"Alice\", then \"Alice\" is the argument, and name is the parameter.\n",
        "\n",
        "There are several types of arguments in Python:\n",
        "\n",
        "- Positional arguments are assigned based on their position in the function call.\n",
        "- Keyword arguments are assigned by explicitly naming the parameter during the call.\n",
        "- Default arguments allow parameters to have a default value if no argument is provided.\n",
        "- Variable-length arguments allow functions to accept an arbitrary number of positional or keyword arguments using star notation.\n",
        "\n",
        "Understanding the difference between parameters and arguments helps in writing flexible and reusable functions. Let me know if you’d like to see examples of each type in action.\n",
        "\n",
        "\n",
        " 3. What are the different ways to define and call a function in Python?\n",
        "\n",
        "\n",
        " In Python, functions can be defined and called in several ways depending on your needs. Here's a breakdown:\n",
        "\n",
        "**1. Regular Function Definition**  \n",
        "You use the `def` keyword followed by the function name and parameters:\n",
        "```python\n",
        "def greet(name):\n",
        "    return \"Hello, \" + name\n",
        "\n",
        "print(greet(\"Alice\"))  # Function call\n",
        "```\n",
        "\n",
        "**2. Function with Default Parameters**  \n",
        "You can assign default values to parameters:\n",
        "```python\n",
        "def greet(name=\"Guest\"):\n",
        "    return \"Hello, \" + name\n",
        "\n",
        "print(greet())           # Uses default\n",
        "print(greet(\"Alice\"))    # Uses given argument\n",
        "```\n",
        "\n",
        "**3. Function with Variable-Length Arguments**  \n",
        "Useful when the number of inputs may vary:\n",
        "```python\n",
        "def add_all(*numbers):  # *args for positional\n",
        "    return sum(numbers)\n",
        "\n",
        "print(add_all(1, 2, 3, 4))\n",
        "```\n",
        "\n",
        "**4. Lambda Functions (Anonymous)**  \n",
        "Defined without a name, used for short one-liners:\n",
        "```python\n",
        "square = lambda x: x * x\n",
        "print(square(5))\n",
        "```\n",
        "\n",
        "**5. Functions as Arguments (Higher-Order Functions)**  \n",
        "You can pass functions to other functions:\n",
        "```python\n",
        "def apply_twice(func, value):\n",
        "    return func(func(value))\n",
        "\n",
        "def double(x):\n",
        "    return x * 2\n",
        "\n",
        "print(apply_twice(double, 5))\n",
        "```\n",
        "\n",
        "**6. Recursive Functions**  \n",
        "A function calling itself:\n",
        "```python\n",
        "def factorial(n):\n",
        "    if n == 0:\n",
        "        return 1\n",
        "    return n * factorial(n - 1)\n",
        "\n",
        "print(factorial(5))\n",
        "```\n",
        " 4. What is the purpose of the `return` statement in a Python function?\n",
        "In Python, the `return` statement is used to send a result back from a function to the point where it was called. It marks the end of the function's execution and provides a way to output data that can be used elsewhere in the program.\n",
        "\n",
        "Here’s how it works:\n",
        "\n",
        "- If a function contains a `return` statement, the value after `return` is passed back to the caller.\n",
        "- A function can return any type of object: numbers, strings, lists, dictionaries, other functions, or even multiple values as a tuple.\n",
        "- Without a `return`, the function returns `None` by default.\n",
        "\n",
        "For example:\n",
        "```python\n",
        "def add(x, y):\n",
        "    return x + y\n",
        "\n",
        "result = add(3, 5)\n",
        "```\n",
        "In this case, the function `add` returns the sum, and that value is stored in `result`.\n",
        "\n",
        "Using `return` is essential when you need to capture and reuse the output of a function later in your code.\n",
        "\n",
        "\n",
        " 5. What are iterators in Python and how do they differ from iterables?\n",
        "\n",
        "In Python, an iterator is an object used to traverse through a sequence, one element at a time. It keeps track of its position and knows how to get the next item using the __next__() method. When there are no more items, calling __next__() raises a StopIteration exception.\n",
        "\n",
        "An iterable is an object that can return an iterator. This means you can loop over it, typically using a for loop. Common iterables include lists, strings, tuples, dictionaries, and sets. These objects implement the __iter__() method, which returns an iterator.\n",
        "\n",
        "Here’s the core difference:\n",
        "\n",
        "Iterable: Can be looped over. Think of it as a collection (like a list).\n",
        "\n",
        "Iterator: Actually performs the iteration. Think of it as the tool that walks through the collection.\n",
        "\n",
        "Example to clarify:\n",
        "\n",
        "python\n",
        "# This is an iterable\n",
        "numbers = [1, 2, 3]\n",
        "\n",
        "# Create an iterator from the iterable\n",
        "iterator = iter(numbers)\n",
        "\n",
        "# Use the iterator to access elements one by one\n",
        "print(next(iterator))  # Outputs: 1\n",
        "print(next(iterator))  # Outputs: 2\n",
        "Not all iterables are iterators themselves, but you can always get an iterator from an iterable using the iter() function. All iterators are also iterables, but not all iterables are iterators until you convert them.\n",
        "\n",
        "\n",
        "\n",
        "6. Explain the concept of generators in Python and how they are defined.\n",
        "\n",
        "In Python, a generator is a type of function that allows you to produce a sequence of values one at a time using the `yield` keyword. When the function is called, it returns a generator object but does not start execution immediately. Each time `next()` is called on the generator, it runs until the next `yield`, returning a value and saving its state so it can resume later.\n",
        "\n",
        "Generators are useful because they allow for iteration over potentially large or infinite data sets without loading everything into memory. This makes them more memory-efficient than regular functions that return full collections.\n",
        "\n",
        "A generator is defined like a regular function but uses `yield` instead of `return`. It pauses execution at each `yield` and continues from that point when the next value is requested.\n",
        "\n",
        "For example, a generator that counts up to a given number would yield each value and maintain internal state until it reaches the limit. This enables efficient value generation on-the-fly.\n",
        "\n",
        " 7. What are the advantages of using generators over regular functions?\n",
        "\n",
        "    Generators in Python offer several advantages over regular functions, especially when working with large datasets or streams of data.\n",
        "\n",
        "    1. **Memory efficiency**: Generators produce values one at a time using `yield` and don’t store the entire sequence in memory. Regular functions that return lists or other collections keep all items in memory, which can be inefficient for large outputs.\n",
        "\n",
        "    2. **Lazy evaluation**: Generators generate values only as needed. This means the computation happens on demand, making programs faster and more responsive when not all results are required immediately.\n",
        "\n",
        "    3. **Simplified code for iteration**: Generators abstract away the complexity of creating iterator classes manually. With `yield`, you can create clean, readable code that behaves like a custom iterator without additional boilerplate.\n",
        "\n",
        "    4. **Infinite or dynamic sequences**: Generators are ideal for producing endless streams of data or sequences where the total size isn’t known in advance, such as sensor readings or network packets.\n",
        "\n",
        "    5. **Better performance**: Because they don’t need to build and store complete data structures, generators typically execute faster and reduce processing overhead when only partial data is required.\n",
        "\n",
        "    6. **State preservation**: Between each `yield`, generators remember their execution state, making it easy to resume without recalculating previous steps.\n",
        "\n",
        "    By using generators, you can write scalable and efficient code that adapts well to resource-constrained environments or real-time data handling.\n",
        "\n",
        " 8. What is a lambda function in Python and when is it typically used?\n",
        "\n",
        "\n",
        "    In Python, a lambda function is a small, anonymous function defined using the `lambda` keyword. Unlike regular functions created with `def`, a lambda function is written in a single line and doesn't have a formal name unless it's assigned to a variable.\n",
        "\n",
        "    It is typically used for short, throwaway functions that are not reused elsewhere—often when passing a function as an argument to another function.\n",
        "\n",
        "    The syntax is:\n",
        "    ```python\n",
        "    lambda arguments: expression\n",
        "    ```\n",
        "\n",
        "    For example:\n",
        "    ```python\n",
        "    multiply = lambda x, y: x * y\n",
        "    result = multiply(2, 3)\n",
        "    ```\n",
        "\n",
        "    Lambda functions are most often used:\n",
        "    - In combination with functions like `map()`, `filter()`, or `sorted()`\n",
        "    - When a simple operation needs to be performed inline\n",
        "    - To avoid defining separate named functions for small tasks\n",
        "\n",
        "    They help keep your code concise, especially when the logic is straightforward and only needed temporarily.\n",
        "\n",
        "\n",
        "9. Explain the purpose and usage of the `map()` function in Python.\n",
        "\n",
        "          In Python, the `map()` function is used to apply a specific function to every item in an iterable, such as a list or tuple. It creates a new iterator that yields the results of that function applied to each element.\n",
        "\n",
        "      The primary purpose of `map()` is to transform data efficiently without writing explicit loops.\n",
        "\n",
        "      **Usage**:\n",
        "      ```python\n",
        "      map(function, iterable)\n",
        "      ```\n",
        "\n",
        "      - `function` is the function to apply.\n",
        "      - `iterable` is the sequence of items to be processed.\n",
        "\n",
        "      Example:\n",
        "      ```python\n",
        "      def square(x):\n",
        "          return x * x\n",
        "\n",
        "      numbers = [1, 2, 3, 4]\n",
        "      squared = map(square, numbers)\n",
        "      print(list(squared))  # Output: [1, 4, 9, 16]\n",
        "      ```\n",
        "\n",
        "      You can also use `map()` with lambda functions for shorter code:\n",
        "      ```python\n",
        "      numbers = [1, 2, 3, 4]\n",
        "      squared = map(lambda x: x * x, numbers)\n",
        "      ```\n",
        "\n",
        "      `map()` is commonly used for:\n",
        "      - Performing element-wise operations\n",
        "      - Cleaning or transforming data\n",
        "      - Applying formatting or type conversion\n",
        "\n",
        "      It returns a map object, which can be converted into a list or another iterable as needed.\n",
        "\n",
        " 10. What is the difference between `map()`, `reduce()`, and `filter()` functions in Python?\n",
        "\n",
        "\n",
        "            In Python, `map()`, `reduce()`, and `filter()` are functional programming tools that process data from iterables like lists or tuples, but each serves a distinct purpose.\n",
        "\n",
        "            **1. `map()`**  \n",
        "            This function applies a given function to each item in an iterable and returns a new iterable with the transformed items. It does not modify the original data.\n",
        "\n",
        "            Example:  \n",
        "            ```python\n",
        "            map(str.upper, [\"apple\", \"banana\", \"cherry\"])  # Returns: ['APPLE', 'BANANA', 'CHERRY']\n",
        "            ```\n",
        "\n",
        "            **2. `filter()`**  \n",
        "            This function uses a boolean function to evaluate each item in an iterable and returns only the items where the function returns `True`.\n",
        "\n",
        "            Example:  \n",
        "            ```python\n",
        "            filter(lambda x: x > 5, [3, 6, 2, 7])  # Returns: [6, 7]\n",
        "            ```\n",
        "\n",
        "            **3. `reduce()`**  \n",
        "            Available in the `functools` module, this function applies a function cumulatively to the elements of an iterable, reducing it to a single value.\n",
        "\n",
        "            Example:  \n",
        "            ```python\n",
        "            from functools import reduce\n",
        "            reduce(lambda x, y: x + y, [1, 2, 3, 4])  # Returns: 10\n",
        "            ```\n",
        "\n",
        "            **Summary of differences**:\n",
        "            - `map()` transforms each item individually.\n",
        "            - `filter()` selects items based on a condition.\n",
        "            - `reduce()` combines items into one result.\n",
        "\n",
        "            These functions promote concise and expressive code, especially when working with transformation and aggregation tasks.\n",
        "\n",
        "        11. Using pen & Paper write the internal mechanism for sum operation using  reduce function on this given   list:[47,11,42,13];\n",
        "\n",
        "\n",
        "        To understand how the `reduce()` function performs a sum operation on the list `[47, 11, 42, 13]`, you can break it down step by step as if tracing it manually on paper.\n",
        "\n",
        "      Here's how it works internally:\n",
        "\n",
        "      1. The `reduce()` function takes a function and a sequence. In this case, the function is `lambda x, y: x + y`, and the sequence is `[47, 11, 42, 13]`.\n",
        "      2. The first two elements `47` and `11` are passed into the function:\n",
        "        - `47 + 11 = 58`\n",
        "      3. The result `58` is then combined with the next element `42`:\n",
        "        - `58 + 42 = 100`\n",
        "      4. The result `100` is then combined with the final element `13`:\n",
        "        - `100 + 13 = 113`\n",
        "\n",
        "      So, after all these internal steps, the final output of the `reduce()` operation is `113`.\n",
        "\n",
        "      The process looks like this:\n",
        "      ```\n",
        "      Step 1: 47 + 11 = 58  \n",
        "      Step 2: 58 + 42 = 100  \n",
        "      Step 3: 100 + 13 = 113\n",
        "      ```\n",
        "\n",
        "      The `reduce()` function essentially walks through the list from left to right, carrying forward an accumulated result by repeatedly applying the given function."
      ],
      "metadata": {
        "id": "bNay0gSmhvza"
      }
    },
    {
      "cell_type": "code",
      "source": [
        "#1.Write a Python function that takes a list of numbers as input and returns the sum of all even numbers in the list.\n",
        "\n",
        "\n",
        "def sum_even_numbers(numbers):\n",
        "    total = 0\n",
        "    for num in numbers:\n",
        "        if num % 2 == 0:\n",
        "            total += num\n",
        "    return total\n",
        "result = sum_even_numbers([1, 2, 3, 4, 5, 6])\n",
        "print(result)  # Output will be 12 (2 + 4 + 6)\n"
      ],
      "metadata": {
        "colab": {
          "base_uri": "https://localhost:8080/"
        },
        "id": "9niGY4OalutL",
        "outputId": "94a70b9c-c243-4753-c324-c2425c631778"
      },
      "execution_count": 1,
      "outputs": [
        {
          "output_type": "stream",
          "name": "stdout",
          "text": [
            "12\n"
          ]
        }
      ]
    },
    {
      "cell_type": "code",
      "source": [
        "#2.Create a Python function that accepts a string and returns the reverse of that string.\n",
        "\n",
        "def reverse_string(text):\n",
        "    return text[::-1]\n",
        "result = reverse_string(\"hello\")\n",
        "print(result)  # Output: 'olleh'\n"
      ],
      "metadata": {
        "colab": {
          "base_uri": "https://localhost:8080/"
        },
        "id": "mkEyVhWemByX",
        "outputId": "d0269db9-c4c5-4ce7-f12d-2c9a84b05313"
      },
      "execution_count": 2,
      "outputs": [
        {
          "output_type": "stream",
          "name": "stdout",
          "text": [
            "olleh\n"
          ]
        }
      ]
    },
    {
      "cell_type": "code",
      "source": [
        "#3.Implement a Python function that takes a list of integers and returns a new list containing the squares of each number\n",
        "\n",
        "def square_numbers(numbers):\n",
        "    return [x ** 2 for x in numbers]\n",
        "result = square_numbers([1, 2, 3, 4])\n",
        "print(result)  # Output: [1, 4, 9, 16]\n"
      ],
      "metadata": {
        "colab": {
          "base_uri": "https://localhost:8080/"
        },
        "id": "EbMXYSqXmoZ2",
        "outputId": "8606b25d-0d0e-41f4-8214-53db83d53164"
      },
      "execution_count": 3,
      "outputs": [
        {
          "output_type": "stream",
          "name": "stdout",
          "text": [
            "[1, 4, 9, 16]\n"
          ]
        }
      ]
    },
    {
      "cell_type": "code",
      "source": [
        "#4. Write a Python function that checks if a given number is prime or not from 1 to 200\n",
        "\n",
        "def is_prime(n):\n",
        "    if n < 2 or n > 200:\n",
        "        return False\n",
        "    for i in range(2, int(n ** 0.5) + 1):\n",
        "        if n % i == 0:\n",
        "            return False\n",
        "    return True\n",
        "for number in range(1, 201):\n",
        "    if is_prime(number):\n",
        "        print(f\"{number} is a prime number\")\n"
      ],
      "metadata": {
        "colab": {
          "base_uri": "https://localhost:8080/"
        },
        "id": "7-O_HxnFmvDO",
        "outputId": "1505a3db-04d6-409e-99cb-f3916dceaed8"
      },
      "execution_count": 4,
      "outputs": [
        {
          "output_type": "stream",
          "name": "stdout",
          "text": [
            "2 is a prime number\n",
            "3 is a prime number\n",
            "5 is a prime number\n",
            "7 is a prime number\n",
            "11 is a prime number\n",
            "13 is a prime number\n",
            "17 is a prime number\n",
            "19 is a prime number\n",
            "23 is a prime number\n",
            "29 is a prime number\n",
            "31 is a prime number\n",
            "37 is a prime number\n",
            "41 is a prime number\n",
            "43 is a prime number\n",
            "47 is a prime number\n",
            "53 is a prime number\n",
            "59 is a prime number\n",
            "61 is a prime number\n",
            "67 is a prime number\n",
            "71 is a prime number\n",
            "73 is a prime number\n",
            "79 is a prime number\n",
            "83 is a prime number\n",
            "89 is a prime number\n",
            "97 is a prime number\n",
            "101 is a prime number\n",
            "103 is a prime number\n",
            "107 is a prime number\n",
            "109 is a prime number\n",
            "113 is a prime number\n",
            "127 is a prime number\n",
            "131 is a prime number\n",
            "137 is a prime number\n",
            "139 is a prime number\n",
            "149 is a prime number\n",
            "151 is a prime number\n",
            "157 is a prime number\n",
            "163 is a prime number\n",
            "167 is a prime number\n",
            "173 is a prime number\n",
            "179 is a prime number\n",
            "181 is a prime number\n",
            "191 is a prime number\n",
            "193 is a prime number\n",
            "197 is a prime number\n",
            "199 is a prime number\n"
          ]
        }
      ]
    },
    {
      "cell_type": "code",
      "source": [
        "#5. Create an iterator class in Python that generates the Fibonacci sequence up to a specified number of terms\n",
        "\n",
        "\n",
        "class FibonacciIterator:\n",
        "    def __init__(self, max_terms):\n",
        "        self.max_terms = max_terms\n",
        "        self.count = 0\n",
        "        self.a = 0\n",
        "        self.b = 1\n",
        "\n",
        "    def __iter__(self):\n",
        "        return self\n",
        "\n",
        "    def __next__(self):\n",
        "        if self.count >= self.max_terms:\n",
        "            raise StopIteration\n",
        "        if self.count == 0:\n",
        "            self.count += 1\n",
        "            return self.a\n",
        "        elif self.count == 1:\n",
        "            self.count += 1\n",
        "            return self.b\n",
        "        else:\n",
        "            self.a, self.b = self.b, self.a + self.b\n",
        "            self.count += 1\n",
        "            return self.b\n"
      ],
      "metadata": {
        "id": "6HeEcGhgm_Kb"
      },
      "execution_count": null,
      "outputs": []
    },
    {
      "cell_type": "code",
      "source": [
        "#6.Write a generator function in Python that yields the powers of 2 up to a given exponent.\n",
        "def powers_of_two(max_exponent):\n",
        "    for exponent in range(max_exponent + 1):\n",
        "        yield 2 ** exponent\n",
        "for power in powers_of_two(5):\n",
        "    print(power)\n",
        "\n"
      ],
      "metadata": {
        "id": "zY6jE28enMiS"
      },
      "execution_count": null,
      "outputs": []
    },
    {
      "cell_type": "code",
      "source": [
        "#7. Implement a generator function that reads a file line by line and yields each line as a string.\n",
        "\n",
        "\n",
        "def read_file_line_by_line(filename):\n",
        "    try:\n",
        "        with open(filename, 'r') as file:\n",
        "            for line in file:\n",
        "                yield line.rstrip('\\n')  # Removes trailing newline\n",
        "    except FileNotFoundError:\n",
        "        yield \"Error: File not found.\"\n",
        "    except Exception as e:\n",
        "        yield f\"Error: {str(e)}\"\n"
      ],
      "metadata": {
        "id": "T1-KO1NNnd8r"
      },
      "execution_count": null,
      "outputs": []
    },
    {
      "cell_type": "code",
      "source": [
        "#8.Use a lambda function in Python to sort a list of tuples based on the second element of each tuple\n",
        "\n",
        "def read_file_line_by_line(filename):\n",
        "    try:\n",
        "        with open(filename, 'r') as file:\n",
        "            for line in file:\n",
        "                yield line.rstrip('\\n')  # Removes trailing newline\n",
        "    except FileNotFoundError:\n",
        "        yield \"Error: File not found.\"\n",
        "    except Exception as e:\n",
        "        yield f\"Error: {str(e)}\"\n",
        "for line in read_file_line_by_line(\"example.txt\"):\n",
        "    print(line)\n"
      ],
      "metadata": {
        "colab": {
          "base_uri": "https://localhost:8080/"
        },
        "id": "xpiU9zQ_nitO",
        "outputId": "19ea57d7-a23e-4e41-9879-ec60b1019b95"
      },
      "execution_count": 5,
      "outputs": [
        {
          "output_type": "stream",
          "name": "stdout",
          "text": [
            "Error: File not found.\n"
          ]
        }
      ]
    },
    {
      "cell_type": "code",
      "source": [
        "#9.. Write a Python program that uses `map()` to convert a list of temperatures from Celsius to Fahrenheit.\n",
        "\n",
        "\n",
        "data = [(3, 9), (2, 5), (1, 7), (4, 1)]\n",
        "sorted_data = sorted(data, key=lambda x: x[1])\n",
        "print(sorted_data)\n"
      ],
      "metadata": {
        "colab": {
          "base_uri": "https://localhost:8080/"
        },
        "id": "BIDeRuYfntW-",
        "outputId": "9ab16d6b-57ef-448f-aa7e-4114e482325e"
      },
      "execution_count": 6,
      "outputs": [
        {
          "output_type": "stream",
          "name": "stdout",
          "text": [
            "[(4, 1), (2, 5), (1, 7), (3, 9)]\n"
          ]
        }
      ]
    },
    {
      "cell_type": "code",
      "source": [
        "#10. 10. Create a Python program that uses `filter()` to remove all the vowels from a given string.\n",
        "\n",
        "def celsius_to_fahrenheit(c):\n",
        "    return (c * 9/5) + 32\n",
        "\n",
        "celsius_list = [0, 20, 39, 100]\n",
        "fahrenheit_list = list(map(celsius_to_fahrenheit, celsius_list))\n",
        "\n",
        "print(fahrenheit_list)\n"
      ],
      "metadata": {
        "colab": {
          "base_uri": "https://localhost:8080/"
        },
        "id": "HbJL4H2enybf",
        "outputId": "1bbbf3f4-5895-4a16-d787-4275cfb5fdf8"
      },
      "execution_count": 16,
      "outputs": [
        {
          "output_type": "stream",
          "name": "stdout",
          "text": [
            "[32.0, 68.0, 102.2, 212.0]\n"
          ]
        }
      ]
    },
    {
      "cell_type": "code",
      "source": [
        "# 11) Imagine an accounting routine used in a book shop. It works on a list with sublists, which look like this:\n",
        " #Write a Python program, which returns a list with 2-tuples. Each tuple consists of the order number and the\n",
        "#product of the price per item and the quantity. The product should be increased by 10,- € if the value of the\n",
        "#order is smaller than 100,00 €.\n",
        " #Write a Python program using lambda and map.*\\\\\\\n",
        "\n",
        "\n",
        " # Sample book order data: [Order No, Book Title and Author, Quantity, Price Per Item]\n",
        "book_orders = [\n",
        "    [201, \"The Alchemist by Paulo Coelho\", 2, 18.50],\n",
        "    [202, \"1984 by George Orwell\", 1, 22.00],\n",
        "    [203, \"To Kill a Mockingbird by Harper Lee\", 3, 15.00],\n",
        "    [204, \"Sapiens by Yuval Noah Harari\", 1, 35.00],\n",
        "    [205, \"The Great Gatsby by F. Scott Fitzgerald\", 4, 12.00]\n",
        "]\n",
        "\n",
        "# Calculate total with conditional surcharge using lambda and map\n",
        "finalized_orders = list(map(\n",
        "    lambda order: (\n",
        "        order[0],\n",
        "        order[2] * order[3] + (10 if order[2] * order[3] < 100 else 0)\n",
        "    ),\n",
        "    book_orders\n",
        "))\n",
        "\n",
        "# Output result\n",
        "print(finalized_orders)\n"
      ],
      "metadata": {
        "id": "tvEKKscYoKkL"
      },
      "execution_count": null,
      "outputs": []
    },
    {
      "cell_type": "code",
      "source": [],
      "metadata": {
        "id": "Ij9VUJ7xo9aH"
      },
      "execution_count": null,
      "outputs": []
    },
    {
      "cell_type": "markdown",
      "source": [],
      "metadata": {
        "id": "uIPH3lYLhsth"
      }
    }
  ]
}