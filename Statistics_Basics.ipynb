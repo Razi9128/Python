{
  "nbformat": 4,
  "nbformat_minor": 0,
  "metadata": {
    "colab": {
      "provenance": [],
      "authorship_tag": "ABX9TyMLIfi+7/LCoId5iyzvYNLf",
      "include_colab_link": true
    },
    "kernelspec": {
      "name": "python3",
      "display_name": "Python 3"
    },
    "language_info": {
      "name": "python"
    }
  },
  "cells": [
    {
      "cell_type": "markdown",
      "metadata": {
        "id": "view-in-github",
        "colab_type": "text"
      },
      "source": [
        "<a href=\"https://colab.research.google.com/github/Razi9128/Python/blob/main/Statistics_Basics.ipynb\" target=\"_parent\"><img src=\"https://colab.research.google.com/assets/colab-badge.svg\" alt=\"Open In Colab\"/></a>"
      ]
    },
    {
      "cell_type": "code",
      "execution_count": null,
      "metadata": {
        "id": "lfkDrprMec8o"
      },
      "outputs": [],
      "source": []
    },
    {
      "cell_type": "markdown",
      "source": [
        "Question 1: What is the difference between descriptive statistics and inferential\n",
        "statistics? Explain with examples\n",
        "Got it! Here's a clean and straightforward version of the answer, with no question text repeated:\n",
        "\n",
        "---\n",
        "\n",
        "Descriptive statistics summarize and present data in a clear, understandable way. They describe the patterns, trends, and general features of a dataset without drawing any conclusions beyond that data. Common tools include measures like mean, median, mode, and standard deviation, along with visual aids like histograms or pie charts.  \n",
        "**Example:** A company calculates the average age of its employees to understand workforce demographics.\n",
        "\n",
        "Inferential statistics use sample data to make predictions, decisions, or generalizations about a larger population. These methods involve uncertainty and probability. Key techniques include hypothesis testing, confidence intervals, and regression analysis.  \n",
        "**Example:** A political analyst conducts a poll of 1,000 voters and uses inferential statistics to estimate the national approval rating of a candidate.\n"
      ],
      "metadata": {
        "id": "QD1FkoJUemqP"
      }
    },
    {
      "cell_type": "markdown",
      "source": [
        "Question 2: What is sampling in statistics? Explain the differences between random\n",
        "and stratified sampling\n",
        "\n",
        "Sampling in statistics refers to the process of selecting a subset (sample) from a larger group (population) to study and make conclusions about the whole population. Since studying every individual in a population can be expensive or impractical, sampling provides a more efficient way to gather insights.\n",
        "\n",
        "---\n",
        "\n",
        "**Random Sampling** involves selecting individuals completely by chance, giving each member of the population an equal opportunity to be chosen.  \n",
        "- **Example:** If you randomly pick 100 students from a school of 1,000, each student has an equal chance of being selected.\n",
        "- **Advantage:** Minimizes bias and is simple to implement.\n",
        "- **Limitation:** May not represent sub-groups if the population is diverse.\n",
        "\n",
        "---\n",
        "\n",
        "**Stratified Sampling** divides the population into distinct sub-groups or “strata” based on specific characteristics (like age, income, gender), and then takes a random sample from each stratum.  \n",
        "- **Example:** If a company wants to study employee satisfaction across different departments, it selects random samples from each department to ensure representation.\n",
        "- **Advantage:** Ensures representation of all key sub-groups in the population.\n",
        "- **Limitation:** Requires knowledge of strata and can be more complex to organize.\n",
        "\n",
        "---\n",
        "\n",
        "In short:\n",
        "- **Random sampling** treats everyone the same.\n",
        "- **Stratified sampling** recognizes differences and makes sure they’re fairly represented.\n"
      ],
      "metadata": {
        "id": "-Inp3_jufE3D"
      }
    },
    {
      "cell_type": "markdown",
      "source": [
        "Question 3: Define mean, median, and mode. Explain why these measures of central\n",
        "tendency are important.\n",
        "\n",
        "Mean, median, and mode are fundamental measures of central tendency used in statistics to describe the center or typical value of a dataset. Here's a clear explanation of each:\n",
        "\n",
        "---\n",
        "\n",
        "**Mean** is the average of all the values. It’s calculated by adding up all the numbers and dividing by how many numbers there are.  \n",
        "- *Example:* The mean of 10, 15, and 20 is (10 + 15 + 20) ÷ 3 = 15.\n",
        "\n",
        "**Median** is the middle value when data is arranged in order. If there's an even number of observations, it's the average of the two middle values.  \n",
        "- *Example:* In the dataset 5, 7, 9, the median is 7. In the set 4, 6, 8, 10, the median is (6 + 8) ÷ 2 = 7.\n",
        "\n",
        "**Mode** is the value that appears most frequently in the dataset.  \n",
        "- *Example:* In the data 3, 4, 4, 5, 6, the mode is 4.\n",
        "\n",
        "---\n",
        "\n",
        "### Importance of These Measures\n",
        "\n",
        "- They **simplify data** by reducing a set of numbers to a single representative value.\n",
        "- They help identify **patterns and trends**, making it easier to interpret and compare datasets.\n",
        "- They support **decision-making** in fields like business, education, economics, and healthcare.\n",
        "  - *Example:* Analyzing the mean income of households can inform policy decisions.\n",
        "- They highlight **data distribution**, especially when used together.\n",
        "  - *Example:* If the mean and median are very different, it may suggest the presence of outliers or a skewed distribution.\n",
        "\n"
      ],
      "metadata": {
        "id": "rFJ4xj73fQGb"
      }
    },
    {
      "cell_type": "markdown",
      "source": [
        "Question 4: Explain skewness and kurtosis. What does a positive skew imply about the\n",
        "data?\n",
        "\n",
        "Skewness and kurtosis are statistical concepts used to describe the shape of a data distribution.\n",
        "\n",
        "---\n",
        "\n",
        "**Skewness** refers to the asymmetry in the distribution of data values.\n",
        "\n",
        "- If the data is **symmetrical**, skewness is 0.\n",
        "- If **skewness is positive**, the right tail of the distribution is longer — meaning most values lie on the lower side, but a few unusually large values stretch the tail to the right.\n",
        "  - In this case, the **mean is greater than the median**.\n",
        "  - *Example:* Income distribution in many countries — most people earn below the average, while a few high earners push the average up.\n",
        "\n",
        "---\n",
        "\n",
        "**Kurtosis** measures the “tailedness” or the presence of outliers in the distribution.\n",
        "\n",
        "- **High kurtosis** means a sharp peak and heavy tails — more extreme values than a normal distribution.\n",
        "- **Low kurtosis** means a flatter peak and lighter tails — fewer outliers.\n",
        "\n",
        "---\n",
        "\n",
        "### Summary\n",
        "\n",
        "- **Positive skew** = longer right tail, concentration of data on the left, mean > median.\n",
        "- **Kurtosis** helps spot outliers and how peaked or flat a distribution is.\n"
      ],
      "metadata": {
        "id": "butFqRKWfkZ_"
      }
    },
    {
      "cell_type": "code",
      "source": [
        "#Question 5: Implement a Python program to compute the mean, median, and mode of  a given list of numbers\n",
        "\n",
        "\n",
        "\n",
        "import statistics\n",
        "\n",
        "# Example list of numbers\n",
        "data = [10, 20, 20, 30, 40, 50, 60]\n",
        "\n",
        "# Calculating mean, median, and mode\n",
        "mean = statistics.mean(data)\n",
        "median = statistics.median(data)\n",
        "mode = statistics.mode(data)\n",
        "\n",
        "# Displaying the results\n",
        "print(\"Mean:\", mean)\n",
        "print(\"Median:\", median)\n",
        "print(\"Mode:\", mode)\n"
      ],
      "metadata": {
        "colab": {
          "base_uri": "https://localhost:8080/"
        },
        "id": "tM4imia4f37v",
        "outputId": "ad95718f-36f5-48ad-fd20-21c841804c48"
      },
      "execution_count": 1,
      "outputs": [
        {
          "output_type": "stream",
          "name": "stdout",
          "text": [
            "Mean: 32.857142857142854\n",
            "Median: 30\n",
            "Mode: 20\n"
          ]
        }
      ]
    },
    {
      "cell_type": "code",
      "source": [
        "#Question 6: Compute the covariance and correlation coefficient between the following two datasets provided as lists in Python: list_y = [15, 25, 35, 45, 60]\n",
        "\n",
        "import numpy as np\n",
        "\n",
        "# Given datasets\n",
        "list_x = [10, 20, 30, 40, 50]\n",
        "list_y = [15, 25, 35, 45, 60]\n",
        "\n",
        "# Convert to NumPy arrays\n",
        "x = np.array(list_x)\n",
        "y = np.array(list_y)\n",
        "\n",
        "# Compute covariance matrix\n",
        "cov_matrix = np.cov(x, y)\n",
        "covariance = cov_matrix[0, 1]  # Value between x and y\n",
        "\n",
        "# Compute correlation coefficient\n",
        "correlation = np.corrcoef(x, y)[0, 1]\n",
        "\n",
        "# Display results\n",
        "print(\"Covariance:\", covariance)\n",
        "print(\"Correlation Coefficient:\", correlation)\n"
      ],
      "metadata": {
        "colab": {
          "base_uri": "https://localhost:8080/"
        },
        "id": "kn2ID-6CgH_Y",
        "outputId": "4e8ecb60-349a-47c3-a1f3-2c55a9e8fc75"
      },
      "execution_count": 2,
      "outputs": [
        {
          "output_type": "stream",
          "name": "stdout",
          "text": [
            "Covariance: 275.0\n",
            "Correlation Coefficient: 0.995893206467704\n"
          ]
        }
      ]
    },
    {
      "cell_type": "code",
      "source": [
        "#Question 7: Write a Python script to draw a boxplot for the following numeric list and\n",
        "##identify its outliers. Explain the result:\n",
        "#data = [12, 14, 14, 15, 18, 19, 19, 21, 22, 22, 23, 23, 24, 26, 29, 35]\n",
        "\n",
        "import matplotlib.pyplot as plt\n",
        "import numpy as np\n",
        "\n",
        "# Given data\n",
        "data = [12, 14, 14, 15, 18, 19, 19, 21, 22, 22, 23, 23, 24, 26, 29, 35]\n",
        "\n",
        "# Create boxplot\n",
        "plt.boxplot(data, vert=False)\n",
        "plt.title(\"Boxplot of the Dataset\")\n",
        "plt.xlabel(\"Values\")\n",
        "plt.grid(True)\n",
        "plt.show()\n",
        "\n",
        "# Detect outliers using IQR\n",
        "Q1 = np.percentile(data, 25)\n",
        "Q3 = np.percentile(data, 75)\n",
        "IQR = Q3 - Q1\n",
        "\n",
        "lower_bound = Q1 - 1.5 * IQR\n",
        "upper_bound = Q3 + 1.5 * IQR\n",
        "\n",
        "outliers = [x for x in data if x < lower_bound or x > upper_bound]\n",
        "print(\"Outliers:\", outliers)\n"
      ],
      "metadata": {
        "colab": {
          "base_uri": "https://localhost:8080/",
          "height": 489
        },
        "id": "JxKKG94YgqXk",
        "outputId": "7ba1bdda-abe9-4c0b-d14e-1f3c51eb0621"
      },
      "execution_count": 3,
      "outputs": [
        {
          "output_type": "display_data",
          "data": {
            "text/plain": [
              "<Figure size 640x480 with 1 Axes>"
            ],
            "image/png": "[encoded data removed]"
          },
          "metadata": {}
        },
        {
          "output_type": "stream",
          "name": "stdout",
          "text": [
            "Outliers: [35]\n"
          ]
        }
      ]
    },
    {
      "cell_type": "code",
      "source": [
        "#Question 8: You are working as a data analyst in an e-commerce company. The\n",
        "#marketing team wants to know if there is a relationship between advertising spend and\n",
        "#daily sales.\n",
        "#● Explain how you would use covariance and correlation to explore this\n",
        "#relationship.\n",
        "#● Write Python code to compute the correlation between the two lists:\n",
        "#advertising_spend = [200, 250, 300, 400, 500]\n",
        "#daily_sales = [2200, 2450, 2750, 3200, 4000]\n",
        "\n",
        "import numpy as np\n",
        "\n",
        "# Given data\n",
        "advertising_spend = [200, 250, 300, 400, 500]\n",
        "daily_sales = [2200, 2450, 2750, 3200, 4000]\n",
        "\n",
        "# Convert to NumPy arrays\n",
        "x = np.array(advertising_spend)\n",
        "y = np.array(daily_sales)\n",
        "\n",
        "# Compute covariance matrix\n",
        "cov_matrix = np.cov(x, y)\n",
        "covariance = cov_matrix[0, 1]\n",
        "\n",
        "# Compute correlation coefficient\n",
        "correlation = np.corrcoef(x, y)[0, 1]\n",
        "\n",
        "# Output results\n",
        "print(\"Covariance:\", covariance)\n",
        "print(\"Correlation Coefficient:\", correlation)\n",
        "\n",
        "\n",
        "\n",
        "#If the correlation is close to 1.0, it indicates a strong positive relationship, meaning that as advertising spend increases, daily sales tend to increase as well.\n",
        "\n",
        "#The covariance gives a general sense of the trend direction but isn’t as useful by itself."
      ],
      "metadata": {
        "colab": {
          "base_uri": "https://localhost:8080/"
        },
        "id": "9HETDmzOg8VV",
        "outputId": "bb96ba7a-7cb0-4148-879d-8cdad7bdf4d9"
      },
      "execution_count": 4,
      "outputs": [
        {
          "output_type": "stream",
          "name": "stdout",
          "text": [
            "Covariance: 84875.0\n",
            "Correlation Coefficient: 0.9935824101653329\n"
          ]
        }
      ]
    },
    {
      "cell_type": "code",
      "source": [
        "##Question 9: Your team has collected customer satisfaction survey data on a scale of\n",
        "#1-10 and wants to understand its distribution before launching a new product.\n",
        "#● Explain which summary statistics and visualizations (e.g. mean, standard\n",
        "#deviation, histogram) you’d use.\n",
        "#● Write Python code to create a histogram using Matplotlib for the survey data:\n",
        "#survey_scores = [7, 8, 5, 9, 6, 7, 8, 9, 10, 4, 7, 6, 9, 8, 7]\n",
        "\n",
        "\n",
        "import matplotlib.pyplot as plt\n",
        "\n",
        "# Survey data\n",
        "survey_scores = [7, 8, 5, 9, 6, 7, 8, 9, 10, 4, 7, 6, 9, 8, 7]\n",
        "\n",
        "# Create histogram\n",
        "plt.hist(survey_scores, bins=range(1, 12), edgecolor='black', align='left')\n",
        "plt.title(\"Customer Satisfaction Histogram\")\n",
        "plt.xlabel(\"Satisfaction Score (1–10)\")\n",
        "plt.ylabel(\"Number of Responses\")\n",
        "plt.xticks(range(1, 11))\n",
        "plt.grid(True)\n",
        "plt.show()\n",
        "\n",
        "\n",
        "#Peak scores: If scores like 7 and 8 appear most often, that indicates general satisfaction.\n",
        "\n",
        "#Spread: If scores are concentrated toward the high end, customers are satisfied. If spread ou#t, opinions vary widely.\n",
        "\n",
        "#Outliers: Scores like 1 or 2 (if present) signal dissatisfaction and require attention."
      ],
      "metadata": {
        "colab": {
          "base_uri": "https://localhost:8080/",
          "height": 472
        },
        "id": "FpeLN7FdhODn",
        "outputId": "57b4f997-00f6-4f5d-b7b9-8d14631a19bd"
      },
      "execution_count": 5,
      "outputs": [
        {
          "output_type": "display_data",
          "data": {
            "text/plain": [
              "<Figure size 640x480 with 1 Axes>"
            ],
            "image/png": "[encoded data removed]"
          },
          "metadata": {}
        }
      ]
    },
    {
      "cell_type": "markdown",
      "source": [],
      "metadata": {
        "id": "rsXYCfR5hT0Y"
      }
    }
  ]
}