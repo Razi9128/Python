{
  "nbformat": 4,
  "nbformat_minor": 0,
  "metadata": {
    "colab": {
      "provenance": [],
      "authorship_tag": "ABX9TyM34W0+ZRAGuJfUeqsZusk/",
      "include_colab_link": true
    },
    "kernelspec": {
      "name": "python3",
      "display_name": "Python 3"
    },
    "language_info": {
      "name": "python"
    }
  },
  "cells": [
    {
      "cell_type": "markdown",
      "metadata": {
        "id": "view-in-github",
        "colab_type": "text"
      },
      "source": [
        "<a href=\"https://colab.research.google.com/github/Razi9128/Python/blob/main/Data_Toolkit.ipynb\" target=\"_parent\"><img src=\"https://colab.research.google.com/assets/colab-badge.svg\" alt=\"Open In Colab\"/></a>"
      ]
    },
    {
      "cell_type": "markdown",
      "source": [],
      "metadata": {
        "id": "4e7RxL_dQZsU"
      }
    },
    {
      "cell_type": "markdown",
      "source": [
        "1.What is NumPy, and why is it widely used in Python?\n",
        "\n",
        "  Absolutely. Here’s a text-only explanation:\n",
        "\n",
        "NumPy, which stands for **Numerical Python**, is a foundational Python library for numerical and scientific computing. It provides a fast and efficient array data structure called the **ndarray**, which supports multi-dimensional arrays and a vast set of mathematical operations.\n",
        "\n",
        "### Key Reasons Why NumPy Is Widely Used:\n",
        "- **Performance**: Operations on NumPy arrays are significantly faster than on regular Python lists because NumPy is implemented in C under the hood.\n",
        "- **Vectorized operations**: You can perform arithmetic and other operations on entire arrays without writing loops, which leads to cleaner and faster code.\n",
        "- **Broadcasting**: NumPy automatically handles arrays of different shapes during arithmetic operations, making code more concise.\n",
        "- **Rich functionality**: It includes tools for linear algebra, statistics, random number generation, Fourier transforms, and more.\n",
        "- **Ecosystem integration**: Libraries such as pandas, SciPy, scikit-learn, and TensorFlow rely on NumPy arrays as their core data structure.\n",
        "\n",
        "In short, NumPy is essential in data analysis, machine learning, and scientific computing due to its speed, simplicity, and versatility"
      ],
      "metadata": {
        "id": "1Xo3xW2dQawA"
      }
    },
    {
      "cell_type": "markdown",
      "source": [
        "2. How does broadcasting work in NumPy?\n",
        "\n",
        "In NumPy, **broadcasting** is a powerful mechanism that allows arrays of different shapes to be used together in arithmetic operations. When NumPy encounters arrays with mismatched shapes, it automatically stretches the smaller array to match the shape of the larger one—**without making copies of data**—as long as certain rules are satisfied.\n",
        "\n",
        "### 📐 How It Works:\n",
        "Broadcasting follows a set of rules to make array shapes compatible:\n",
        "1. **Compare dimensions from right to left**\n",
        "2. **Dimensions must be equal, or one of them must be 1**\n",
        "3. If the sizes match or one is 1, that dimension is considered compatible and broadcasting proceeds.\n",
        "\n",
        "### 🔄 Example:\n",
        "```python\n",
        "import numpy as np\n",
        "\n",
        "A = np.array([[1, 2, 3],\n",
        "              [4, 5, 6]])  # Shape: (2, 3)\n",
        "\n",
        "B = np.array([10, 20, 30])  # Shape: (3,)\n",
        "\n",
        "result = A + B\n",
        "```\n",
        "\n",
        "**What happens**:\n",
        "- `A` has shape (2, 3)\n",
        "- `B` has shape (3,) — it's stretched to (2, 3)\n",
        "- Each row of `A` is added element-wise with `B`\n",
        "\n",
        "**Result**:\n",
        "```\n",
        "[[11, 22, 33],\n",
        " [14, 25, 36]]\n",
        "```\n",
        "\n",
        "### ⚠️ Why It Matters:\n",
        "- **Efficient memory usage**: No unnecessary data replication\n",
        "- **Readable code**: Avoids writing loops for element-wise operations\n",
        "- **Speed**: Optimized under the hood with C-level performance\n",
        "\n",
        "If broadcasting rules can't reconcile the array shapes, NumPy raises a `ValueError`. So while broadcasting makes code cleaner and faster, shape compatibility is crucial.\n"
      ],
      "metadata": {
        "id": "KSXR021sQqvQ"
      }
    },
    {
      "cell_type": "markdown",
      "source": [
        "3. What is a Pandas DataFrame\n",
        "A **Pandas DataFrame** is a two-dimensional, labeled data structure in Python that resembles a table or spreadsheet. It’s one of the core components of the **pandas** library, widely used for data manipulation and analysis.\n",
        "\n",
        "### 🧠 Key Characteristics of a DataFrame:\n",
        "- **Rows and columns**: It’s organized with rows and columns, where each column can have a different data type (e.g., integers, floats, strings).\n",
        "- **Labels**: Both rows and columns have labels (also called index and column names), which makes data selection and filtering intuitive.\n",
        "- **Flexible**: You can create it from various data formats—CSV files, Excel sheets, SQL queries, dictionaries, lists, or NumPy arrays.\n",
        "\n",
        "### ⚙️ Example:\n",
        "```python\n",
        "import pandas as pd\n",
        "\n",
        "data = {\n",
        "    'Name': ['Alice', 'Bob', 'Charlie'],\n",
        "    'Age': [25, 30, 35],\n",
        "    'City': ['New York', 'London', 'Paris']\n",
        "}\n",
        "\n",
        "df = pd.DataFrame(data)\n",
        "print(df)\n",
        "```\n",
        "\n",
        "This outputs:\n",
        "```\n",
        "     Name  Age      City\n",
        "0   Alice   25  New York\n",
        "1     Bob   30    London\n",
        "2 Charlie   35     Paris\n",
        "```\n",
        "\n",
        "### 📊 Why It's Useful:\n",
        "- Efficient for slicing, filtering, and reshaping datasets\n",
        "- Supports powerful operations like grouping, merging, and pivoting\n",
        "- Built-in methods for statistics, data cleaning, and visualization\n",
        "\n",
        "In essence, a DataFrame is your go-to data container when working with structured data in Python. Let me know if you’d like to see how it’s used in real-world data projects."
      ],
      "metadata": {
        "id": "QD4EMtSIQ1v0"
      }
    },
    {
      "cell_type": "markdown",
      "source": [
        "4. Explain the use of the groupby() method in Pandas\n",
        "\n",
        "In pandas, the `groupby()` method is used to **split a DataFrame into groups**, apply a function to each group, and then combine the results. It’s extremely useful for data aggregation and analysis, especially when working with large datasets.\n",
        "\n",
        "### 🔍 What `groupby()` Does:\n",
        "The operation generally involves three steps:\n",
        "1. **Split**: Divide the data into groups based on one or more keys (e.g., values in a column).\n",
        "2. **Apply**: Perform a function on each group independently—such as `mean()`, `sum()`, `count()`, `max()`, etc.\n",
        "3. **Combine**: Merge the results into a new DataFrame or Series.\n",
        "\n",
        "### ✅ Common Use Cases:\n",
        "- **Summarizing data**: Calculate average sales per region, total quantity per category, etc.\n",
        "- **Statistical analysis**: Analyze groups separately, such as variance per department.\n",
        "- **Filtering by groups**: Retrieve specific subsets based on group-level conditions.\n",
        "\n",
        "### 🧠 Example:\n",
        "```python\n",
        "import pandas as pd\n",
        "\n",
        "data = {\n",
        "    'Department': ['HR', 'IT', 'HR', 'Finance', 'IT', 'Finance'],\n",
        "    'Salary': [40000, 60000, 42000, 52000, 61000, 49000]\n",
        "}\n",
        "\n",
        "df = pd.DataFrame(data)\n",
        "\n",
        "grouped = df.groupby('Department')['Salary'].mean()\n",
        "print(grouped)\n",
        "```\n",
        "\n",
        "**Output**:\n",
        "```\n",
        "Department\n",
        "Finance    50500.0\n",
        "HR         41000.0\n",
        "IT         60500.0\n",
        "Name: Salary, dtype: float64\n",
        "```\n",
        "\n",
        "In this example, `groupby()` calculates the average salary for each department.\n",
        "\n",
        "Let me know if you’d like to dive deeper into multi-key grouping or custom aggregation functions."
      ],
      "metadata": {
        "id": "3lZw21hzRAtM"
      }
    },
    {
      "cell_type": "markdown",
      "source": [
        "6. Why is Seaborn preferred for statistical visualizations\n",
        "\n",
        "\n",
        "Seaborn is preferred for statistical visualizations in Python because it combines **powerful functionality** with **elegant simplicity**, making it ideal for both quick insights and polished presentations.\n",
        "\n",
        "### 🎯 Why Seaborn Stands Out:\n",
        "- **Built on Matplotlib**: It simplifies complex plotting tasks by wrapping Matplotlib’s functionality in a cleaner, more intuitive syntax.\n",
        "- **Pandas Integration**: You can plot directly from DataFrames without reshaping or converting data, which speeds up analysis.\n",
        "- **Statistical Plotting**: Seaborn specializes in visualizing distributions, relationships, and categorical data—like box plots, violin plots, and regression lines—making it perfect for statistical exploration.\n",
        "- **Automatic Aggregation**: It can compute and display summary statistics (like means and confidence intervals) automatically, reducing manual coding.\n",
        "- **Beautiful Defaults**: With attractive themes and color palettes, Seaborn produces publication-quality visuals right out of the box.\n",
        "- **Concise Syntax**: Many complex plots can be created with just one or two lines of code, which is a huge time-saver.\n",
        "\n",
        "### 🧪 Example Use Case:\n",
        "If you're analyzing customer spending patterns, Seaborn can quickly show:\n",
        "- Distribution of purchase amounts\n",
        "- Relationship between age and spending\n",
        "- Differences across regions or categories\n",
        "\n",
        "In short, Seaborn is the go-to tool when you want to **explore data statistically and visually**—without sacrificing clarity or aesthetics. Let me know if you'd like to see a sample plot or compare it with other libraries like Matplotlib."
      ],
      "metadata": {
        "id": "Frob0AkJRH50"
      }
    },
    {
      "cell_type": "markdown",
      "source": [
        "6. What are the differences between NumPy arrays and Python lists\n",
        "\n",
        "NumPy arrays and Python lists may look similar on the surface, but under the hood they behave quite differently and are designed for distinct purposes.\n",
        "\n",
        "### 🧮 NumPy Arrays vs. Python Lists\n",
        "\n",
        "| Feature                   | NumPy Arrays                          | Python Lists                          |\n",
        "|---------------------------|----------------------------------------|----------------------------------------|\n",
        "| **Data Type Consistency** | All elements must be of the same type | Elements can be of mixed types         |\n",
        "| **Performance**           | Much faster for numerical operations   | Slower for large-scale computations    |\n",
        "| **Memory Efficiency**     | Uses less memory, stored in contiguous blocks | Less memory-efficient, each element stored separately |\n",
        "| **Functionality**         | Supports advanced math: broadcasting, vectorization, linear algebra | Basic collection manipulation only     |\n",
        "| **Operations**            | Element-wise operations are native     | Requires explicit loops or list comprehensions |\n",
        "| **Multidimensional Support** | Easily handles multi-dimensional arrays (e.g., matrices) | Only one-dimensional by default; nested lists needed for more dimensions |\n",
        "| **Built-in Methods**      | Rich set of methods for statistics, sorting, reshaping, etc. | Relies on external code or manual implementation |\n",
        "\n",
        "### 🔍 Example Comparison\n",
        "```python\n",
        "import numpy as np\n",
        "\n",
        "# NumPy array\n",
        "arr = np.array([1, 2, 3])\n",
        "print(arr * 2)  # Output: [2 4 6]\n",
        "\n",
        "# Python list\n",
        "lst = [1, 2, 3]\n",
        "print(lst * 2)  # Output: [1, 2, 3, 1, 2, 3] (repeats the list)\n",
        "```\n",
        "\n",
        "### ✅ In Summary:\n",
        "Use **NumPy arrays** when working with numerical data and performance matters—especially in data science or scientific computing. Stick with **Python lists** for general-purpose collection handling when your task doesn’t require mathematical muscle.\n",
        "\n",
        "Want to see how arrays behave in multidimensional scenarios or compare NumPy with pandas next?"
      ],
      "metadata": {
        "id": "nWG5Gu2gRQFb"
      }
    },
    {
      "cell_type": "markdown",
      "source": [
        "7.What is a heatmap, and when should it be used\n",
        "\n",
        "A **heatmap** is a data visualization technique that uses color gradients to represent the magnitude or intensity of values in a dataset. It’s like a visual thermometer for your data—**warmer colors** (like red or orange) typically indicate higher values, while **cooler colors** (like blue or green) represent lower ones.\n",
        "\n",
        "### 🔍 What It Shows\n",
        "- Patterns, trends, and anomalies at a glance\n",
        "- Areas of high or low activity, concentration, or correlation\n",
        "- Relationships between variables in a matrix or spatial layout\n",
        "\n",
        "### 🧠 When to Use a Heatmap\n",
        "Heatmaps are ideal when you want to:\n",
        "- **Identify patterns** in large datasets (e.g. sales by region and time)\n",
        "- **Compare variables** across categories (e.g. student scores across subjects)\n",
        "- **Visualize user behavior** on websites (e.g. click or scroll maps)\n",
        "- **Analyze spatial data** (e.g. population density or weather intensity)\n",
        "- **Spot correlations** in statistical data (e.g. gene expression or financial metrics)\n",
        "\n",
        "### 🧪 Example Use Cases\n",
        "- **Website analytics**: See where users click or scroll most\n",
        "- **Finance**: Highlight stock performance across sectors\n",
        "- **Healthcare**: Visualize patient metrics across departments\n",
        "- **Education**: Compare test scores across schools and subjects\n",
        "\n",
        "In short, heatmaps turn complex data into intuitive visuals, making them perfect for storytelling, decision-making, and uncovering insights that raw numbers might hide. Want to see how to create one in Python or with Seaborn?"
      ],
      "metadata": {
        "id": "EUzmT9QHRYNE"
      }
    },
    {
      "cell_type": "markdown",
      "source": [
        "8.What does the term “vectorized operation” mean in NumPy\n",
        "In NumPy, a **vectorized operation** refers to performing computations on entire arrays (or large chunks of data) at once, rather than processing individual elements through loops. It’s like instructing NumPy to do the math on a full dataset all at once, making the operation faster and cleaner.\n",
        "\n",
        "---\n",
        "\n",
        "### 🧠 Why It Matters:\n",
        "- **Speed Boost**: NumPy leverages low-level C optimizations under the hood, which drastically reduces execution time compared to standard Python loops.\n",
        "- **Cleaner Syntax**: You write concise, readable code without the need for `for` loops.\n",
        "- **Memory Efficiency**: Operations are carried out in blocks, minimizing overhead.\n",
        "\n",
        "---\n",
        "\n",
        "### ✅ Example:\n",
        "Let’s say you have a list of numbers and you want to double each one.\n",
        "\n",
        "**With a Python loop**:\n",
        "```python\n",
        "result = []\n",
        "for x in [1, 2, 3, 4]:\n",
        "    result.append(x * 2)\n",
        "```\n",
        "\n",
        "**With NumPy (vectorized)**:\n",
        "```python\n",
        "import numpy as np\n",
        "arr = np.array([1, 2, 3, 4])\n",
        "result = arr * 2\n",
        "```\n",
        "\n",
        "The second example is a vectorized operation — NumPy handles the whole array in one shot.\n",
        "\n",
        "---\n",
        "\n",
        "### 📌 Bonus: Works With Many Functions\n",
        "Vectorized operations aren’t limited to multiplication. NumPy supports element-wise addition, subtraction, division, trigonometric functions, exponentials, comparisons, and more.\n",
        "\n",
        "Want to see how vectorization compares to performance in real-time? I can show you a timing comparison or help apply it to a specific dataset you’re working with."
      ],
      "metadata": {
        "id": "L--nGmvcRjvg"
      }
    },
    {
      "cell_type": "markdown",
      "source": [
        "9. How does Matplotlib differ from Plotly\n",
        "\n",
        "Matplotlib and Plotly are both powerful Python libraries for data visualization, but they serve different purposes and offer distinct experiences.\n",
        "\n",
        "### 🎨 Matplotlib: Classic and Customizable\n",
        "- **Static visualizations**: Primarily used for creating publication-quality, non-interactive plots.\n",
        "- **Fine-grained control**: Offers deep customization over every element—fonts, axes, colors, figure size.\n",
        "- **Verbose syntax**: Requires more lines of code for complex visuals, which can be intimidating for beginners.\n",
        "- **Best for**: Academic papers, scientific plots, and situations where precision and layout control are essential.\n",
        "\n",
        "### 🌐 Plotly: Interactive and Intuitive\n",
        "- **Interactive charts**: Supports zooming, hovering, panning, and clickable elements out of the box.\n",
        "- **Web-ready**: Ideal for dashboards and web apps, especially when paired with frameworks like Dash.\n",
        "- **Simpler syntax**: Especially with `plotly.express`, you can create rich visuals with minimal code.\n",
        "- **Best for**: Business intelligence, exploratory data analysis, and presentations that benefit from user interaction.\n",
        "\n",
        "### 🧪 Example Comparison\n",
        "**Matplotlib**:\n",
        "```python\n",
        "import matplotlib.pyplot as plt\n",
        "plt.plot([1, 2, 3], [4, 5, 6])\n",
        "plt.title(\"Static Plot\")\n",
        "plt.show()\n",
        "```\n",
        "\n",
        "**Plotly**:\n",
        "```python\n",
        "import plotly.express as px\n",
        "fig = px.line(x=[1, 2, 3], y=[4, 5, 6], title=\"Interactive Plot\")\n",
        "fig.show()\n",
        "```\n",
        "\n",
        "### 🧭 Summary\n",
        "- Use **Matplotlib** when you need full control and static output.\n",
        "- Use **Plotly** when interactivity and visual appeal are key.\n",
        "\n",
        "Want help choosing one for a specific project or dataset? I’d be happy to guide you."
      ],
      "metadata": {
        "id": "cD2OKMd4SWe4"
      }
    },
    {
      "cell_type": "markdown",
      "source": [
        "9.What is the significance of hierarchical indexing in Pandas\n",
        "\n",
        "Hierarchical indexing in pandas, also known as **MultiIndexing**, allows you to have multiple levels of row or column labels in a DataFrame. Think of it as a way to organize your data more deeply—like nesting folders inside folders—so you can work with complex datasets in a structured and intuitive way.\n",
        "\n",
        "---\n",
        "\n",
        "### 🎯 Why Hierarchical Indexing Matters:\n",
        "\n",
        "- **Organizes complex data**: Ideal for data with multiple keys (e.g. year and region, or product and category).\n",
        "- **Facilitates advanced slicing**: You can access data using combinations of labels, making filtering more powerful.\n",
        "- **Enables pivot-style views**: Lets you reshape and summarize data elegantly, like stacking and unstacking levels.\n",
        "- **Works well with grouping and aggregation**: When using `groupby()`, pandas often returns results with a MultiIndex.\n",
        "\n",
        "---\n",
        "\n",
        "### 🧠 Example:\n",
        "```python\n",
        "import pandas as pd\n",
        "\n",
        "data = {\n",
        "    'Sales': [250, 300, 150, 200],\n",
        "    'Profit': [20, 30, 10, 15]\n",
        "}\n",
        "\n",
        "index = pd.MultiIndex.from_tuples([('2023', 'North'), ('2023', 'South'),\n",
        "                                   ('2024', 'North'), ('2024', 'South')],\n",
        "                                  names=['Year', 'Region'])\n",
        "\n",
        "df = pd.DataFrame(data, index=index)\n",
        "print(df)\n",
        "```\n",
        "\n",
        "📋 Output:\n",
        "```\n",
        "              Sales  Profit\n",
        "Year Region                \n",
        "2023 North     250      20\n",
        "2023 South     300      30\n",
        "2024 North     150      10\n",
        "2024 South     200      15\n",
        "```\n",
        "\n",
        "You can now easily:\n",
        "- Slice by year or region\n",
        "- Reshape the DataFrame with `.unstack()` or `.stack()`\n",
        "- Perform targeted aggregation with `.groupby(level=...)`\n",
        "\n",
        "---\n",
        "\n",
        "In short, hierarchical indexing is a smart way to **keep complex data neat and accessible**, especially when dimensions multiply. Want to see how to filter or pivot with multi-level indexes?"
      ],
      "metadata": {
        "id": "4e0r9MsJTAZ0"
      }
    },
    {
      "cell_type": "markdown",
      "source": [
        "11. What is the role of Seaborn’s pairplot() function\n",
        "\n",
        "Seaborn’s `pairplot()` function is designed to **visualize pairwise relationships** between variables in a dataset, making it a powerful tool for exploratory data analysis.\n",
        "\n",
        "### 🔍 What It Does\n",
        "- Creates a **grid of plots** where each numeric variable is plotted against every other variable.\n",
        "- Displays **scatter plots** for off-diagonal combinations and **distribution plots** (like histograms or KDEs) on the diagonal.\n",
        "- Allows grouping by a categorical variable using the `hue` parameter, which color-codes the data for comparison.\n",
        "\n",
        "### 🧠 Why It’s Useful\n",
        "- Helps detect **correlations**, **clusters**, and **outliers** across multiple features.\n",
        "- Offers a quick overview of how variables interact without writing multiple lines of code.\n",
        "- Ideal for **small to medium-sized datasets** where visual inspection can guide deeper analysis.\n",
        "\n",
        "### 🧪 Example\n",
        "```python\n",
        "import seaborn as sns\n",
        "import matplotlib.pyplot as plt\n",
        "\n",
        "# Load sample dataset\n",
        "df = sns.load_dataset('iris')\n",
        "\n",
        "# Create pairplot\n",
        "sns.pairplot(df, hue='species')\n",
        "plt.show()\n",
        "```\n",
        "\n",
        "This example shows how different species of iris flowers relate across features like petal length and sepal width, with color-coded scatter plots and histograms.\n",
        "\n",
        "In short, `pairplot()` is your go-to function when you want to **visually explore relationships** between multiple variables in a clean, compact format. Want to see how it compares to `heatmap()` or how to customize it further?"
      ],
      "metadata": {
        "id": "E2H1wFdbTI3H"
      }
    },
    {
      "cell_type": "markdown",
      "source": [
        "12.What is the purpose of the describe() function in Pandas\n",
        "\n",
        "The `describe()` function in pandas is used to **generate summary statistics** for a DataFrame or Series, especially numeric columns. It provides a quick snapshot of key statistical metrics, helping you understand the distribution, range, and central tendency of your data.\n",
        "\n",
        "---\n",
        "\n",
        "### 🔍 What `describe()` Outputs (for numeric data):\n",
        "- **count**: Number of non-null values\n",
        "- **mean**: Average value\n",
        "- **std**: Standard deviation (spread of values)\n",
        "- **min**: Minimum value\n",
        "- **25%**: First quartile\n",
        "- **50% (median)**: Second quartile\n",
        "- **75%**: Third quartile\n",
        "- **max**: Maximum value\n",
        "\n",
        "---\n",
        "\n",
        "### 🧠 Why It's Useful:\n",
        "- Quickly identify missing or skewed data\n",
        "- Understand data range and variability\n",
        "- Compare metrics across multiple columns\n",
        "- Helpful for data profiling before visualization or modeling\n",
        "\n",
        "---\n",
        "\n",
        "### 🧪 Example:\n",
        "```python\n",
        "import pandas as pd\n",
        "\n",
        "data = {\n",
        "    'Sales': [120, 340, 560, 130, 250],\n",
        "    'Profit': [25, 70, 90, 35, 60]\n",
        "}\n",
        "\n",
        "df = pd.DataFrame(data)\n",
        "print(df.describe())\n",
        "```\n",
        "\n",
        "This produces a table summarizing sales and profits with metrics like mean, standard deviation, and quartiles.\n",
        "\n",
        "You can also use `describe(include='all')` to get info on categorical or mixed-type columns, including counts, unique values, top value, and frequency.\n",
        "\n",
        "Want to explore `describe()` on real-world datasets like customer behavior or product sales?"
      ],
      "metadata": {
        "id": "8IqKCKUdTZot"
      }
    },
    {
      "cell_type": "markdown",
      "source": [
        "13. Why is handling missing data important in Pandas\n",
        "\n",
        "Handling missing data in pandas is crucial because **incomplete data can distort analysis, mislead conclusions, and compromise model accuracy**.\n",
        "\n",
        "### 🧠 Why It Matters:\n",
        "- **Preserves data integrity**: Missing values (like `NaN`) can interfere with calculations, visualizations, and statistical summaries.\n",
        "- **Prevents errors**: Many functions in pandas and NumPy may fail or return unexpected results if missing data isn’t addressed.\n",
        "- **Improves model performance**: Machine learning algorithms often require complete datasets; unhandled gaps can reduce predictive power or cause failures.\n",
        "- **Supports informed decisions**: Clean data ensures that insights drawn from analysis are reliable and actionable.\n",
        "\n",
        "### 🧰 Common Strategies in Pandas:\n",
        "- `dropna()`: Removes rows or columns with missing values.\n",
        "- `fillna()`: Replaces missing values with a specified value (e.g. mean, median, or a constant).\n",
        "- `interpolate()`: Estimates missing values using interpolation techniques.\n",
        "- `isnull()` / `notnull()`: Detects missing or valid entries for filtering or diagnostics.\n",
        "\n",
        "In short, handling missing data is a foundational step in any data science workflow. It’s like patching holes in a map before setting out on a journey—you want to be sure you’re not navigating blind spots. Want to see how different strategies affect a dataset in practice?"
      ],
      "metadata": {
        "id": "a4QsxPzMTiEF"
      }
    },
    {
      "cell_type": "markdown",
      "source": [
        "14.What are the benefits of using Plotly for data visualization\n",
        "\n",
        "Plotly offers a rich set of benefits that make it a standout choice for data visualization in Python and beyond:\n",
        "\n",
        "### 🌟 Key Benefits of Using Plotly\n",
        "\n",
        "- **Interactive Visualizations**  \n",
        "  Plotly charts support zooming, panning, hovering, and clickable elements—making it easy to explore data dynamically without writing JavaScript.\n",
        "\n",
        "- **Wide Range of Chart Types**  \n",
        "  From basic line and bar charts to advanced 3D plots, heatmaps, and financial graphs, Plotly covers nearly every visualization need.\n",
        "\n",
        "- **Cross-Platform Compatibility**  \n",
        "  It works seamlessly with Python, R, MATLAB, and JavaScript, making it accessible across different environments and teams.\n",
        "\n",
        "- **Beautiful and Customizable Output**  \n",
        "  Plotly’s default styling is visually appealing, and users can fine-tune colors, fonts, annotations, and layouts to match their needs.\n",
        "\n",
        "- **Integration with Dash for Dashboards**  \n",
        "  Plotly pairs with Dash to build full-fledged analytical web apps—ideal for real-time monitoring, reporting, and decision-making.\n",
        "\n",
        "- **Handles Big Data Efficiently**  \n",
        "  It’s scalable and capable of visualizing large datasets without compromising performance.\n",
        "\n",
        "- **No JavaScript Required**  \n",
        "  Users can create interactive charts using only Python code, while Plotly handles the JavaScript behind the scenes.\n",
        "\n",
        "- **Supports Real-Time Data Streaming**  \n",
        "  Especially useful for dashboards that need live updates, such as financial or operational monitoring.\n",
        "\n",
        "- **Professional-Quality Output**  \n",
        "  Charts are suitable for presentations, reports, and publications, with export options for static images or web embedding.\n",
        "\n",
        "---\n",
        "\n",
        "Plotly is especially popular among data scientists, analysts, and developers who want to combine **interactivity**, **aesthetics**, and **ease of use**. Want to see how it compares to Matplotlib or how to build a dashboard with Dash?"
      ],
      "metadata": {
        "id": "nznB3kTsTpy8"
      }
    },
    {
      "cell_type": "markdown",
      "source": [
        "16. How does NumPy handle multidimensional arrays\n",
        "\n",
        "NumPy handles multidimensional arrays using its core data structure called the **ndarray** (n-dimensional array). This allows you to store and manipulate data in two or more dimensions—like matrices, tensors, or even higher-dimensional grids.\n",
        "\n",
        "---\n",
        "\n",
        "### 🧠 Key Concepts\n",
        "\n",
        "- **Shape**: Each array has a `.shape` attribute that tells you its dimensions. For example, a 2D array with 3 rows and 4 columns has shape `(3, 4)`.\n",
        "- **Indexing and Slicing**: You can access elements using multiple indices, like `arr[1, 2]` for row 1, column 2. Slicing works across dimensions: `arr[:, 0]` gets the first column.\n",
        "- **Reshaping**: Use `.reshape()` to change the dimensions of an array without altering its data. For example, reshape a 1D array of 12 elements into a 3×4 matrix.\n",
        "- **Broadcasting**: NumPy can automatically expand smaller arrays to match the shape of larger ones during operations, making math across dimensions seamless.\n",
        "- **Mathematical Operations**: You can perform element-wise operations, matrix multiplication, and statistical computations across any axis.\n",
        "\n",
        "---\n",
        "\n",
        "### 🧪 Example\n",
        "\n",
        "```python\n",
        "import numpy as np\n",
        "\n",
        "# Create a 3D array\n",
        "arr = np.array([\n",
        "    [[1, 2], [3, 4]],\n",
        "    [[5, 6], [7, 8]]\n",
        "])\n",
        "\n",
        "print(arr.shape)  # Output: (2, 2, 2)\n",
        "print(arr[1, 0, 1])  # Output: 6\n",
        "```\n",
        "\n",
        "This array has 2 blocks, each with 2 rows and 2 columns. You can access any element using three indices.\n",
        "\n",
        "---\n",
        "\n",
        "NumPy’s ability to handle multidimensional arrays efficiently is one of the reasons it’s the backbone of scientific computing in Python. Want to explore how these arrays are used in image processing or machine learning?"
      ],
      "metadata": {
        "id": "gRcqFEmVTxNY"
      }
    },
    {
      "cell_type": "markdown",
      "source": [
        "17.What is the role of Bokeh in data visualization?\n",
        "\n",
        "Bokeh plays a key role in data visualization by enabling **interactive, browser-based graphics** directly from Python code. It’s designed to help data scientists, analysts, and developers create rich visualizations that go beyond static charts.\n",
        "\n",
        "### 🎯 Core Purpose of Bokeh\n",
        "- **Interactivity**: Bokeh excels at creating plots that respond to user input—like zooming, hovering, filtering, and selecting data points.\n",
        "- **Web Integration**: It renders visualizations using HTML and JavaScript, making it ideal for embedding in web apps or dashboards.\n",
        "- **High-Level and Low-Level APIs**: You can use simple functions for quick plots or dive deeper with granular control for custom visuals.\n",
        "- **Streaming and Real-Time Data**: Bokeh supports live updates, which is useful for monitoring systems or dynamic dashboards.\n",
        "\n",
        "### 🧠 Why Use Bokeh Over Other Libraries\n",
        "- It’s more interactive than Matplotlib and more customizable than Seaborn.\n",
        "- It integrates smoothly with pandas and Jupyter notebooks.\n",
        "- It supports advanced layouts, widgets, and server-backed apps for full dashboard experiences.\n",
        "\n",
        "### 🧪 Example Use Cases\n",
        "- Financial dashboards with real-time stock data\n",
        "- Scientific plots with zoomable regions and tooltips\n",
        "- Web-based reports with embedded charts\n",
        "- Interactive data exploration tools for large datasets\n",
        "\n",
        "In short, Bokeh transforms static data into **engaging, interactive stories**—perfect for modern data-driven applications. Want to see how it compares to Plotly or how to build a dashboard with it?"
      ],
      "metadata": {
        "id": "zCOJyk3aUH_U"
      }
    },
    {
      "cell_type": "markdown",
      "source": [
        "17.Explain the difference between apply() and map() in Pandas\n",
        "\n",
        "In pandas, `apply()` and `map()` are both used to transform data, but they differ in **scope**, **flexibility**, and **where** they can be used.\n",
        "\n",
        "---\n",
        "\n",
        "### 🧠 `map()` — For Series Only\n",
        "- **Used on**: `Series` objects (one-dimensional)\n",
        "- **Purpose**: Element-wise transformation\n",
        "- **Accepts**: A function, dictionary, or another Series\n",
        "- **Best for**: Simple value replacements or transformations\n",
        "\n",
        "**Example**:\n",
        "```python\n",
        "import pandas as pd\n",
        "\n",
        "s = pd.Series([1, 2, 3])\n",
        "s_mapped = s.map(lambda x: x * 2)\n",
        "print(s_mapped)\n",
        "```\n",
        "Output:\n",
        "```\n",
        "0    2\n",
        "1    4\n",
        "2    6\n",
        "dtype: int64\n",
        "```\n",
        "\n",
        "---\n",
        "\n",
        "### 🧠 `apply()` — For Series and DataFrames\n",
        "- **Used on**: Both `Series` and `DataFrame`\n",
        "- **Purpose**:\n",
        "  - On Series: behaves like `map()` for element-wise operations\n",
        "  - On DataFrame: applies a function across rows or columns\n",
        "- **Accepts**: Functions only (not dictionaries or Series)\n",
        "- **Best for**: Complex transformations, aggregations, or row/column-wise operations\n",
        "\n",
        "**Example on Series**:\n",
        "```python\n",
        "s_applied = s.apply(lambda x: x * 2)\n",
        "```\n",
        "\n",
        "**Example on DataFrame**:\n",
        "```python\n",
        "df = pd.DataFrame({\n",
        "    'A': [1, 2, 3],\n",
        "    'B': [4, 5, 6]\n",
        "})\n",
        "df_applied = df.apply(lambda col: col.max() - col.min())\n",
        "print(df_applied)\n",
        "```\n",
        "Output:\n",
        "```\n",
        "A    2\n",
        "B    2\n",
        "dtype: int64\n",
        "```\n",
        "\n",
        "---\n",
        "\n",
        "### 🧾 Summary Table\n",
        "\n",
        "| Feature            | `map()`                     | `apply()`                          |\n",
        "|--------------------|-----------------------------|-------------------------------------|\n",
        "| Applies to         | Series only                 | Series and DataFrame               |\n",
        "| Element-wise       | Yes                         | Yes (Series), Row/Col-wise (DF)    |\n",
        "| Accepts dictionary | Yes                         | No                                  |\n",
        "| Accepts function   | Yes                         | Yes                                 |\n",
        "| Aggregation        | No                          | Yes (on DataFrame)                 |\n",
        "\n",
        "---\n",
        "\n",
        "In short: use `map()` for **simple, element-wise changes** on Series, and `apply()` when you need **more control or complex logic**, especially across rows or columns in a DataFrame.\n",
        "\n",
        "Want to see how `apply()` compares to `applymap()` or how to use it for custom aggregations?"
      ],
      "metadata": {
        "id": "FRleNvAwUQ5A"
      }
    },
    {
      "cell_type": "markdown",
      "source": [
        "18. What are some advanced features of NumPy\n",
        "\n",
        "NumPy isn’t just about arrays and basic math—it’s packed with advanced features that make it a powerhouse for scientific computing and data analysis. Here are some of the most useful and sophisticated capabilities:\n",
        "\n",
        "---\n",
        "\n",
        "### 🚀 Advanced Features of NumPy\n",
        "\n",
        "#### 1. **Broadcasting**\n",
        "- Allows operations between arrays of different shapes.\n",
        "- Automatically expands smaller arrays to match larger ones.\n",
        "- Eliminates the need for manual looping or reshaping.\n",
        "\n",
        "#### 2. **Vectorized Operations**\n",
        "- Performs element-wise computations without explicit loops.\n",
        "- Greatly improves performance and readability.\n",
        "- Supports arithmetic, trigonometric, exponential, and logical operations.\n",
        "\n",
        "#### 3. **Multidimensional Array Support**\n",
        "- Handles arrays of any dimension (2D, 3D, etc.).\n",
        "- Enables complex data structures like tensors and grids.\n",
        "\n",
        "#### 4. **Linear Algebra Module (`numpy.linalg`)**\n",
        "- Matrix multiplication, inversion, determinant, eigenvalues/eigenvectors.\n",
        "- Solves systems of linear equations efficiently.\n",
        "\n",
        "#### 5. **Random Number Generation (`numpy.random`)**\n",
        "- Generates random samples from various distributions (normal, binomial, etc.).\n",
        "- Useful for simulations, bootstrapping, and stochastic modeling.\n",
        "\n",
        "#### 6. **Fourier Transforms (`numpy.fft`)**\n",
        "- Computes discrete Fourier transforms for signal processing.\n",
        "- Supports inverse transforms and frequency domain analysis.\n",
        "\n",
        "#### 7. **Masked Arrays (`numpy.ma`)**\n",
        "- Handles missing or invalid data gracefully.\n",
        "- Allows computations while ignoring masked elements.\n",
        "\n",
        "#### 8. **Memory Mapping (`numpy.memmap`)**\n",
        "- Reads large binary files without loading them entirely into memory.\n",
        "- Ideal for working with massive datasets.\n",
        "\n",
        "#### 9. **Structured Arrays**\n",
        "- Supports heterogeneous data types within a single array.\n",
        "- Useful for tabular data with named fields (like a lightweight DataFrame).\n",
        "\n",
        "#### 10. **Advanced Indexing and Slicing**\n",
        "- Boolean indexing, fancy indexing, and slicing across multiple axes.\n",
        "- Enables powerful data selection and manipulation.\n",
        "\n",
        "---\n",
        "\n",
        "Want to see how one of these features works in a real-world example, like image processing or financial modeling? I can walk you through it."
      ],
      "metadata": {
        "id": "k_wBCQoPUb_b"
      }
    },
    {
      "cell_type": "markdown",
      "source": [
        "19.How does Pandas simplify time series analysis\n",
        "\n",
        "\n",
        "Pandas simplifies time series analysis by offering a rich set of tools that make working with time-stamped data intuitive, efficient, and powerful. Here's how it streamlines the process:\n",
        "\n",
        "---\n",
        "\n",
        "### 🧭 Core Time Series Features in Pandas\n",
        "\n",
        "- **DatetimeIndex**  \n",
        "  Automatically converts date columns into datetime objects, enabling time-aware indexing, slicing, and filtering.\n",
        "\n",
        "- **Resampling**  \n",
        "  Easily aggregate data over different time intervals (e.g., daily to monthly) using `.resample()` with functions like `mean()`, `sum()`, or `max()`.\n",
        "\n",
        "- **Rolling and Expanding Windows**  \n",
        "  Compute moving averages, cumulative sums, and other statistics with `.rolling()` and `.expanding()`—ideal for trend analysis.\n",
        "\n",
        "- **Time-Based Slicing**  \n",
        "  Filter data using natural date strings like `'2023-01-01':'2023-01-31'` without complex conditions.\n",
        "\n",
        "- **Missing Data Handling**  \n",
        "  Fill gaps with forward/backward fill or interpolate missing values using `.fillna()` or `.interpolate()`.\n",
        "\n",
        "- **Frequency Conversion**  \n",
        "  Change the granularity of your data (e.g., hourly to daily) using `.asfreq()` or `.resample()`.\n",
        "\n",
        "- **Time Zone Support**  \n",
        "  Localize and convert time zones with `.tz_localize()` and `.tz_convert()` for global datasets.\n",
        "\n",
        "- **Date Component Access**  \n",
        "  Extract year, month, weekday, hour, etc., using `.dt` accessor for grouping or feature engineering.\n",
        "\n",
        "---\n",
        "\n",
        "### 🧪 Example Workflow\n",
        "1. Load and parse dates with `pd.read_csv(..., parse_dates=['date'])`\n",
        "2. Set the date column as index: `df.set_index('date')`\n",
        "3. Resample: `df.resample('M').mean()` for monthly averages\n",
        "4. Rolling average: `df['value'].rolling(window=7).mean()`\n",
        "5. Slice: `df['2023-01']` to get all January data\n",
        "\n",
        "---\n",
        "\n",
        "Pandas turns time series analysis from a chore into a breeze—whether you're tracking sales, forecasting demand, or analyzing sensor data. Want to see how it compares to specialized libraries like statsmodels or Prophet?"
      ],
      "metadata": {
        "id": "fEQ7cfgsUkuw"
      }
    },
    {
      "cell_type": "markdown",
      "source": [
        "20.What is the role of a pivot table in Pandas\n",
        "\n",
        "In pandas, a **pivot table** is a powerful tool used to **summarize, reorganize, and analyze** data in a flexible tabular format. It’s especially useful when you want to explore relationships between variables or perform grouped calculations.\n",
        "\n",
        "---\n",
        "\n",
        "### 🎯 What a Pivot Table Does\n",
        "- **Aggregates data**: Computes statistics like sum, mean, count, etc., across categories.\n",
        "- **Reshapes data**: Rearranges rows and columns to highlight patterns or comparisons.\n",
        "- **Handles duplicates and missing values**: Gracefully manages complex datasets with repeated entries or gaps.\n",
        "\n",
        "---\n",
        "\n",
        "### 🧠 Key Components\n",
        "- `index`: Defines the rows (e.g. region, product category)\n",
        "- `columns`: Defines the columns (e.g. year, customer type)\n",
        "- `values`: Specifies which data to aggregate (e.g. sales, quantity)\n",
        "- `aggfunc`: Determines how to summarize (e.g. `sum`, `mean`, `count`)\n",
        "\n",
        "---\n",
        "\n",
        "### 🧪 Example\n",
        "```python\n",
        "import pandas as pd\n",
        "\n",
        "data = {\n",
        "    'Region': ['East', 'West', 'East', 'West'],\n",
        "    'Product': ['Apples', 'Apples', 'Oranges', 'Oranges'],\n",
        "    'Sales': [100, 150, 200, 250]\n",
        "}\n",
        "\n",
        "df = pd.DataFrame(data)\n",
        "\n",
        "pivot = pd.pivot_table(df, index='Region', columns='Product', values='Sales', aggfunc='sum')\n",
        "print(pivot)\n",
        "```\n",
        "\n",
        "**Output**:\n",
        "```\n",
        "Product  Apples  Oranges\n",
        "Region                  \n",
        "East        100      200\n",
        "West        150      250\n",
        "```\n",
        "\n",
        "---\n",
        "\n",
        "### ✅ Why It’s Useful\n",
        "- Quickly answers questions like “What’s the total sales per region?” or “Which product performs best by month?”\n",
        "- Reduces the need for manual grouping or filtering\n",
        "- Ideal for reporting, dashboards, and exploratory analysis\n",
        "\n",
        "In short, pivot tables in pandas help you **turn raw data into meaningful insights** with just a few lines of code. Want to see how it compares to `groupby()` or how to handle multi-level indexes?"
      ],
      "metadata": {
        "id": "SaEfq69FUt8x"
      }
    },
    {
      "cell_type": "markdown",
      "source": [
        "21. Why is NumPy’s array slicing faster than Python’s list slicing\n",
        "\n",
        "NumPy’s array slicing is faster than Python’s list slicing because of how data is stored and accessed under the hood.\n",
        "\n",
        "### ⚡ Key Reasons for NumPy’s Speed Advantage\n",
        "\n",
        "- **Contiguous Memory Layout**  \n",
        "  NumPy arrays are stored in a single, continuous block of memory. This allows for efficient access and manipulation using low-level operations. Python lists, on the other hand, store references to objects scattered throughout memory.\n",
        "\n",
        "- **Homogeneous Data Types**  \n",
        "  All elements in a NumPy array share the same data type, which simplifies memory management and speeds up computation. Python lists can hold mixed types, requiring more overhead to process each element.\n",
        "\n",
        "- **Vectorized and Compiled Operations**  \n",
        "  NumPy slicing operations are implemented in C and optimized for performance. These compiled routines bypass Python’s interpreter and avoid the overhead of looping through elements one by one.\n",
        "\n",
        "- **Cache Locality**  \n",
        "  Because NumPy arrays are tightly packed, they benefit from better CPU cache utilization. This means faster access to data during slicing and computation.\n",
        "\n",
        "- **No Pointer Chasing**  \n",
        "  Python lists require dereferencing pointers to access each element, which slows down slicing. NumPy accesses raw data directly, eliminating this bottleneck.\n",
        "\n",
        "### 🧪 Example Comparison\n",
        "```python\n",
        "import numpy as np\n",
        "\n",
        "# NumPy slicing\n",
        "arr = np.arange(1000000)\n",
        "sliced_arr = arr[100:200]\n",
        "\n",
        "# Python list slicing\n",
        "lst = list(range(1000000))\n",
        "sliced_lst = lst[100:200]\n",
        "```\n",
        "\n",
        "Even though both slices return similar results, the NumPy version executes significantly faster due to its optimized memory and execution model.\n",
        "\n",
        "Want to see how slicing performance scales with larger datasets or how NumPy compares to pandas in this context?"
      ],
      "metadata": {
        "id": "Rld8HUOBU2SA"
      }
    },
    {
      "cell_type": "markdown",
      "source": [
        "22. What are some common use cases for Seaborn?\n",
        "\n",
        "Seaborn is a go-to library for **statistical data visualization** in Python, and it shines in scenarios where you want to explore, analyze, and communicate patterns in your data with clarity and style.\n",
        "\n",
        "---\n",
        "\n",
        "### 🎯 Common Use Cases for Seaborn\n",
        "\n",
        "#### 1. **Exploratory Data Analysis (EDA)**\n",
        "- Visualize distributions with histograms, KDE plots, and box plots\n",
        "- Detect outliers, skewness, and multimodal patterns\n",
        "- Use `pairplot()` to examine relationships across multiple variables\n",
        "\n",
        "#### 2. **Correlation and Relationship Analysis**\n",
        "- Use `heatmap()` to show correlation matrices\n",
        "- Apply `scatterplot()` and `regplot()` to explore linear and nonlinear relationships\n",
        "- Add regression lines and confidence intervals for deeper insights\n",
        "\n",
        "#### 3. **Categorical Data Visualization**\n",
        "- Compare groups using `barplot()`, `boxplot()`, `violinplot()`, and `swarmplot()`\n",
        "- Highlight differences across categories like gender, region, or product type\n",
        "\n",
        "#### 4. **Time Series and Trend Analysis**\n",
        "- Use `lineplot()` to track changes over time\n",
        "- Add semantic groupings with `hue`, `style`, and `size` for multi-dimensional insights\n",
        "\n",
        "#### 5. **Statistical Summaries**\n",
        "- Automatically compute means, medians, and confidence intervals\n",
        "- Visualize uncertainty with error bars and shaded regions\n",
        "\n",
        "#### 6. **Dashboard and Report-Ready Visuals**\n",
        "- Create clean, publication-quality plots with minimal styling effort\n",
        "- Customize themes and palettes for consistent branding\n",
        "\n",
        "---\n",
        "\n",
        "### 🧪 Example Scenarios\n",
        "- Analyzing customer behavior across demographics\n",
        "- Comparing student performance across subjects and schools\n",
        "- Visualizing gene expression data in bioinformatics\n",
        "- Exploring financial trends across sectors and time\n",
        "\n",
        "---\n",
        "\n",
        "Seaborn is especially loved for its **tight integration with pandas**, which means you can go from raw data to insightful plots in just a few lines of code. Want to see how Seaborn compares to Matplotlib or how to build a full EDA workflow with it?"
      ],
      "metadata": {
        "id": "MNiBoorkU_JM"
      }
    },
    {
      "cell_type": "code",
      "source": [
        "# 1. How do you create a 2D NumPy array and calculate the sum of each row\n",
        "\n",
        "import numpy as np\n",
        "\n",
        "# Step 1: Create a 2D array\n",
        "arr = np.array([\n",
        "    [1, 2, 3],\n",
        "    [4, 5, 6],\n",
        "    [7, 8, 9]\n",
        "])\n",
        "\n",
        "# Step 2: Compute sum of each row\n",
        "row_sums = np.sum(arr, axis=1)\n",
        "\n",
        "print(\"Row-wise sums:\", row_sums)\n"
      ],
      "metadata": {
        "colab": {
          "base_uri": "https://localhost:8080/"
        },
        "id": "efffxXcgVlhc",
        "outputId": "f8ab54c5-4756-4246-cbae-93683d8a3a30"
      },
      "execution_count": null,
      "outputs": [
        {
          "output_type": "stream",
          "name": "stdout",
          "text": [
            "Row-wise sums: [ 6 15 24]\n"
          ]
        }
      ]
    },
    {
      "cell_type": "code",
      "source": [
        "#2.Write a Pandas script to find the mean of a specific column in a DataFrame\n",
        "import pandas as pd\n",
        "\n",
        "# Sample DataFrame\n",
        "data = {\n",
        "    'Product': ['A', 'B', 'C', 'D'],\n",
        "    'Sales': [100, 200, 150, 175],\n",
        "    'Profit': [20, 40, 30, 35]\n",
        "}\n",
        "\n",
        "df = pd.DataFrame(data)\n",
        "\n",
        "# Calculate the mean of the 'Sales' column\n",
        "sales_mean = df['Sales'].mean()\n",
        "\n",
        "print(\"Mean Sales:\", sales_mean)\n"
      ],
      "metadata": {
        "colab": {
          "base_uri": "https://localhost:8080/"
        },
        "id": "1snh5cb5V01o",
        "outputId": "99fb0147-e0e0-4893-8bdc-1b615b0a7dee"
      },
      "execution_count": null,
      "outputs": [
        {
          "output_type": "stream",
          "name": "stdout",
          "text": [
            "Mean Sales: 156.25\n"
          ]
        }
      ]
    },
    {
      "cell_type": "code",
      "source": [
        "#3. Create a scatter plot using Matplotlib\n",
        "\n",
        "import matplotlib.pyplot as plt\n",
        "\n",
        "# Sample data\n",
        "x = [5, 7, 8, 7, 2, 17, 2, 9, 4, 11]\n",
        "y = [99, 86, 87, 88, 100, 86, 103, 87, 94, 78]\n",
        "\n",
        "# Create scatter plot\n",
        "plt.scatter(x, y, color='blue', marker='p')\n",
        "\n",
        "# Add labels and title\n",
        "plt.xlabel('X Axis')\n",
        "plt.ylabel('Y Axis')\n",
        "plt.title('Simple Scatter Plot')\n",
        "\n",
        "# Display the plot\n",
        "plt.show()\n"
      ],
      "metadata": {
        "colab": {
          "base_uri": "https://localhost:8080/",
          "height": 472
        },
        "id": "-WQ062O5WAi0",
        "outputId": "8db4f289-1b7e-4055-a929-cc50b45882b0"
      },
      "execution_count": null,
      "outputs": [
        {
          "output_type": "display_data",
          "data": {
            "text/plain": [
              "<Figure size 640x480 with 1 Axes>"
            ],
            "image/png": "[encoded data removed]"
          },
          "metadata": {}
        }
      ]
    },
    {
      "cell_type": "code",
      "source": [
        "#4. How do you calculate the correlation matrix using Seaborn and visualize it with a heatmap\n",
        "\n",
        "\n",
        "import pandas as pd\n",
        "import seaborn as sns\n",
        "import matplotlib.pyplot as plt\n",
        "# Example dataset\n",
        "data = {\n",
        "    'Math': [90, 85, 78, 92, 88],\n",
        "    'Science': [85, 80, 75, 89, 84],\n",
        "    'English': [70, 75, 80, 65, 72]\n",
        "}\n",
        "df = pd.DataFrame(data)\n",
        "\n",
        "corr_matrix = df.corr()\n",
        "\n",
        "sns.heatmap(corr_matrix, annot=True, cmap='coolwarm', center=0)\n",
        "plt.title('Correlation Matrix Heatmap')\n",
        "plt.show()\n"
      ],
      "metadata": {
        "colab": {
          "base_uri": "https://localhost:8080/",
          "height": 452
        },
        "id": "9Hz7xE-mWczh",
        "outputId": "01e3ad89-5c71-4cce-964f-f3cff5b1a0fb"
      },
      "execution_count": null,
      "outputs": [
        {
          "output_type": "display_data",
          "data": {
            "text/plain": [
              "<Figure size 640x480 with 2 Axes>"
            ],
            "image/png": "[encoded data removed]"
          },
          "metadata": {}
        }
      ]
    },
    {
      "cell_type": "markdown",
      "source": [],
      "metadata": {
        "id": "smba1MSEWcjk"
      }
    },
    {
      "cell_type": "code",
      "source": [
        "#5.  Generate a bar plot using Plotly\n",
        "\n",
        "\n",
        "import plotly.graph_objects as go\n",
        "\n",
        "# Sample data\n",
        "categories = ['Apples', 'Bananas', 'Cherries', 'Dates']\n",
        "values = [120, 90, 150, 70]\n",
        "\n",
        "# Create bar plot\n",
        "fig = go.Figure(data=[\n",
        "    go.Bar(x=categories, y=values, marker_color='lightseagreen')\n",
        "])\n",
        "\n",
        "# Customize layout\n",
        "fig.update_layout(\n",
        "    title='Fruit Sales Overview',\n",
        "    xaxis_title='Fruit',\n",
        "    yaxis_title='Sales',\n",
        "    template='plotly_white'\n",
        ")\n",
        "\n",
        "fig.show()\n"
      ],
      "metadata": {
        "colab": {
          "base_uri": "https://localhost:8080/",
          "height": 542
        },
        "id": "r1cdj0fPW2Kc",
        "outputId": "73952666-0e32-402d-b296-83243b328acc"
      },
      "execution_count": null,
      "outputs": [
        {
          "output_type": "display_data",
          "data": {
            "text/html": [
              "<html>\n",
              "<head><meta charset=\"utf-8\" /></head>\n",
              "<body>\n",
              "    <div>            <script src=\"https://cdnjs.cloudflare.com/ajax/libs/mathjax/2.7.5/MathJax.js?config=TeX-AMS-MML_SVG\"></script><script type=\"text/javascript\">if (window.MathJax && window.MathJax.Hub && window.MathJax.Hub.Config) {window.MathJax.Hub.Config({SVG: {font: \"STIX-Web\"}});}</script>                <script type=\"text/javascript\">window.PlotlyConfig = {MathJaxConfig: 'local'};</script>\n",
              "        <script charset=\"utf-8\" src=\"https://cdn.plot.ly/plotly-2.35.2.min.js\"></script>                <div id=\"32055b22-b0bf-4fab-b081-32bca02e4d6d\" class=\"plotly-graph-div\" style=\"height:525px; width:100%;\"></div>            <script type=\"text/javascript\">                                    window.PLOTLYENV=window.PLOTLYENV || {};                                    if (document.getElementById(\"32055b22-b0bf-4fab-b081-32bca02e4d6d\")) {                    Plotly.newPlot(                        \"32055b22-b0bf-4fab-b081-32bca02e4d6d\",                        [{\"marker\":{\"color\":\"lightseagreen\"},\"x\":[\"Apples\",\"Bananas\",\"Cherries\",\"Dates\"],\"y\":[120,90,150,70],\"type\":\"bar\"}],                        {\"template\":{\"data\":{\"barpolar\":[{\"marker\":{\"line\":{\"color\":\"white\",\"width\":0.5},\"pattern\":{\"fillmode\":\"overlay\",\"size\":10,\"solidity\":0.2}},\"type\":\"barpolar\"}],\"bar\":[{\"error_x\":{\"color\":\"#2a3f5f\"},\"error_y\":{\"color\":\"#2a3f5f\"},\"marker\":{\"line\":{\"color\":\"white\",\"width\":0.5},\"pattern\":{\"fillmode\":\"overlay\",\"size\":10,\"solidity\":0.2}},\"type\":\"bar\"}],\"carpet\":[{\"aaxis\":{\"endlinecolor\":\"#2a3f5f\",\"gridcolor\":\"#C8D4E3\",\"linecolor\":\"#C8D4E3\",\"minorgridcolor\":\"#C8D4E3\",\"startlinecolor\":\"#2a3f5f\"},\"baxis\":{\"endlinecolor\":\"#2a3f5f\",\"gridcolor\":\"#C8D4E3\",\"linecolor\":\"#C8D4E3\",\"minorgridcolor\":\"#C8D4E3\",\"startlinecolor\":\"#2a3f5f\"},\"type\":\"carpet\"}],\"choropleth\":[{\"colorbar\":{\"outlinewidth\":0,\"ticks\":\"\"},\"type\":\"choropleth\"}],\"contourcarpet\":[{\"colorbar\":{\"outlinewidth\":0,\"ticks\":\"\"},\"type\":\"contourcarpet\"}],\"contour\":[{\"colorbar\":{\"outlinewidth\":0,\"ticks\":\"\"},\"colorscale\":[[0.0,\"#0d0887\"],[0.1111111111111111,\"#46039f\"],[0.2222222222222222,\"#7201a8\"],[0.3333333333333333,\"#9c179e\"],[0.4444444444444444,\"#bd3786\"],[0.5555555555555556,\"#d8576b\"],[0.6666666666666666,\"#ed7953\"],[0.7777777777777778,\"#fb9f3a\"],[0.8888888888888888,\"#fdca26\"],[1.0,\"#f0f921\"]],\"type\":\"contour\"}],\"heatmapgl\":[{\"colorbar\":{\"outlinewidth\":0,\"ticks\":\"\"},\"colorscale\":[[0.0,\"#0d0887\"],[0.1111111111111111,\"#46039f\"],[0.2222222222222222,\"#7201a8\"],[0.3333333333333333,\"#9c179e\"],[0.4444444444444444,\"#bd3786\"],[0.5555555555555556,\"#d8576b\"],[0.6666666666666666,\"#ed7953\"],[0.7777777777777778,\"#fb9f3a\"],[0.8888888888888888,\"#fdca26\"],[1.0,\"#f0f921\"]],\"type\":\"heatmapgl\"}],\"heatmap\":[{\"colorbar\":{\"outlinewidth\":0,\"ticks\":\"\"},\"colorscale\":[[0.0,\"#0d0887\"],[0.1111111111111111,\"#46039f\"],[0.2222222222222222,\"#7201a8\"],[0.3333333333333333,\"#9c179e\"],[0.4444444444444444,\"#bd3786\"],[0.5555555555555556,\"#d8576b\"],[0.6666666666666666,\"#ed7953\"],[0.7777777777777778,\"#fb9f3a\"],[0.8888888888888888,\"#fdca26\"],[1.0,\"#f0f921\"]],\"type\":\"heatmap\"}],\"histogram2dcontour\":[{\"colorbar\":{\"outlinewidth\":0,\"ticks\":\"\"},\"colorscale\":[[0.0,\"#0d0887\"],[0.1111111111111111,\"#46039f\"],[0.2222222222222222,\"#7201a8\"],[0.3333333333333333,\"#9c179e\"],[0.4444444444444444,\"#bd3786\"],[0.5555555555555556,\"#d8576b\"],[0.6666666666666666,\"#ed7953\"],[0.7777777777777778,\"#fb9f3a\"],[0.8888888888888888,\"#fdca26\"],[1.0,\"#f0f921\"]],\"type\":\"histogram2dcontour\"}],\"histogram2d\":[{\"colorbar\":{\"outlinewidth\":0,\"ticks\":\"\"},\"colorscale\":[[0.0,\"#0d0887\"],[0.1111111111111111,\"#46039f\"],[0.2222222222222222,\"#7201a8\"],[0.3333333333333333,\"#9c179e\"],[0.4444444444444444,\"#bd3786\"],[0.5555555555555556,\"#d8576b\"],[0.6666666666666666,\"#ed7953\"],[0.7777777777777778,\"#fb9f3a\"],[0.8888888888888888,\"#fdca26\"],[1.0,\"#f0f921\"]],\"type\":\"histogram2d\"}],\"histogram\":[{\"marker\":{\"pattern\":{\"fillmode\":\"overlay\",\"size\":10,\"solidity\":0.2}},\"type\":\"histogram\"}],\"mesh3d\":[{\"colorbar\":{\"outlinewidth\":0,\"ticks\":\"\"},\"type\":\"mesh3d\"}],\"parcoords\":[{\"line\":{\"colorbar\":{\"outlinewidth\":0,\"ticks\":\"\"}},\"type\":\"parcoords\"}],\"pie\":[{\"automargin\":true,\"type\":\"pie\"}],\"scatter3d\":[{\"line\":{\"colorbar\":{\"outlinewidth\":0,\"ticks\":\"\"}},\"marker\":{\"colorbar\":{\"outlinewidth\":0,\"ticks\":\"\"}},\"type\":\"scatter3d\"}],\"scattercarpet\":[{\"marker\":{\"colorbar\":{\"outlinewidth\":0,\"ticks\":\"\"}},\"type\":\"scattercarpet\"}],\"scattergeo\":[{\"marker\":{\"colorbar\":{\"outlinewidth\":0,\"ticks\":\"\"}},\"type\":\"scattergeo\"}],\"scattergl\":[{\"marker\":{\"colorbar\":{\"outlinewidth\":0,\"ticks\":\"\"}},\"type\":\"scattergl\"}],\"scattermapbox\":[{\"marker\":{\"colorbar\":{\"outlinewidth\":0,\"ticks\":\"\"}},\"type\":\"scattermapbox\"}],\"scatterpolargl\":[{\"marker\":{\"colorbar\":{\"outlinewidth\":0,\"ticks\":\"\"}},\"type\":\"scatterpolargl\"}],\"scatterpolar\":[{\"marker\":{\"colorbar\":{\"outlinewidth\":0,\"ticks\":\"\"}},\"type\":\"scatterpolar\"}],\"scatter\":[{\"fillpattern\":{\"fillmode\":\"overlay\",\"size\":10,\"solidity\":0.2},\"type\":\"scatter\"}],\"scatterternary\":[{\"marker\":{\"colorbar\":{\"outlinewidth\":0,\"ticks\":\"\"}},\"type\":\"scatterternary\"}],\"surface\":[{\"colorbar\":{\"outlinewidth\":0,\"ticks\":\"\"},\"colorscale\":[[0.0,\"#0d0887\"],[0.1111111111111111,\"#46039f\"],[0.2222222222222222,\"#7201a8\"],[0.3333333333333333,\"#9c179e\"],[0.4444444444444444,\"#bd3786\"],[0.5555555555555556,\"#d8576b\"],[0.6666666666666666,\"#ed7953\"],[0.7777777777777778,\"#fb9f3a\"],[0.8888888888888888,\"#fdca26\"],[1.0,\"#f0f921\"]],\"type\":\"surface\"}],\"table\":[{\"cells\":{\"fill\":{\"color\":\"#EBF0F8\"},\"line\":{\"color\":\"white\"}},\"header\":{\"fill\":{\"color\":\"#C8D4E3\"},\"line\":{\"color\":\"white\"}},\"type\":\"table\"}]},\"layout\":{\"annotationdefaults\":{\"arrowcolor\":\"#2a3f5f\",\"arrowhead\":0,\"arrowwidth\":1},\"autotypenumbers\":\"strict\",\"coloraxis\":{\"colorbar\":{\"outlinewidth\":0,\"ticks\":\"\"}},\"colorscale\":{\"diverging\":[[0,\"#8e0152\"],[0.1,\"#c51b7d\"],[0.2,\"#de77ae\"],[0.3,\"#f1b6da\"],[0.4,\"#fde0ef\"],[0.5,\"#f7f7f7\"],[0.6,\"#e6f5d0\"],[0.7,\"#b8e186\"],[0.8,\"#7fbc41\"],[0.9,\"#4d9221\"],[1,\"#276419\"]],\"sequential\":[[0.0,\"#0d0887\"],[0.1111111111111111,\"#46039f\"],[0.2222222222222222,\"#7201a8\"],[0.3333333333333333,\"#9c179e\"],[0.4444444444444444,\"#bd3786\"],[0.5555555555555556,\"#d8576b\"],[0.6666666666666666,\"#ed7953\"],[0.7777777777777778,\"#fb9f3a\"],[0.8888888888888888,\"#fdca26\"],[1.0,\"#f0f921\"]],\"sequentialminus\":[[0.0,\"#0d0887\"],[0.1111111111111111,\"#46039f\"],[0.2222222222222222,\"#7201a8\"],[0.3333333333333333,\"#9c179e\"],[0.4444444444444444,\"#bd3786\"],[0.5555555555555556,\"#d8576b\"],[0.6666666666666666,\"#ed7953\"],[0.7777777777777778,\"#fb9f3a\"],[0.8888888888888888,\"#fdca26\"],[1.0,\"#f0f921\"]]},\"colorway\":[\"#636efa\",\"#EF553B\",\"#00cc96\",\"#ab63fa\",\"#FFA15A\",\"#19d3f3\",\"#FF6692\",\"#B6E880\",\"#FF97FF\",\"#FECB52\"],\"font\":{\"color\":\"#2a3f5f\"},\"geo\":{\"bgcolor\":\"white\",\"lakecolor\":\"white\",\"landcolor\":\"white\",\"showlakes\":true,\"showland\":true,\"subunitcolor\":\"#C8D4E3\"},\"hoverlabel\":{\"align\":\"left\"},\"hovermode\":\"closest\",\"mapbox\":{\"style\":\"light\"},\"paper_bgcolor\":\"white\",\"plot_bgcolor\":\"white\",\"polar\":{\"angularaxis\":{\"gridcolor\":\"#EBF0F8\",\"linecolor\":\"#EBF0F8\",\"ticks\":\"\"},\"bgcolor\":\"white\",\"radialaxis\":{\"gridcolor\":\"#EBF0F8\",\"linecolor\":\"#EBF0F8\",\"ticks\":\"\"}},\"scene\":{\"xaxis\":{\"backgroundcolor\":\"white\",\"gridcolor\":\"#DFE8F3\",\"gridwidth\":2,\"linecolor\":\"#EBF0F8\",\"showbackground\":true,\"ticks\":\"\",\"zerolinecolor\":\"#EBF0F8\"},\"yaxis\":{\"backgroundcolor\":\"white\",\"gridcolor\":\"#DFE8F3\",\"gridwidth\":2,\"linecolor\":\"#EBF0F8\",\"showbackground\":true,\"ticks\":\"\",\"zerolinecolor\":\"#EBF0F8\"},\"zaxis\":{\"backgroundcolor\":\"white\",\"gridcolor\":\"#DFE8F3\",\"gridwidth\":2,\"linecolor\":\"#EBF0F8\",\"showbackground\":true,\"ticks\":\"\",\"zerolinecolor\":\"#EBF0F8\"}},\"shapedefaults\":{\"line\":{\"color\":\"#2a3f5f\"}},\"ternary\":{\"aaxis\":{\"gridcolor\":\"#DFE8F3\",\"linecolor\":\"#A2B1C6\",\"ticks\":\"\"},\"baxis\":{\"gridcolor\":\"#DFE8F3\",\"linecolor\":\"#A2B1C6\",\"ticks\":\"\"},\"bgcolor\":\"white\",\"caxis\":{\"gridcolor\":\"#DFE8F3\",\"linecolor\":\"#A2B1C6\",\"ticks\":\"\"}},\"title\":{\"x\":0.05},\"xaxis\":{\"automargin\":true,\"gridcolor\":\"#EBF0F8\",\"linecolor\":\"#EBF0F8\",\"ticks\":\"\",\"title\":{\"standoff\":15},\"zerolinecolor\":\"#EBF0F8\",\"zerolinewidth\":2},\"yaxis\":{\"automargin\":true,\"gridcolor\":\"#EBF0F8\",\"linecolor\":\"#EBF0F8\",\"ticks\":\"\",\"title\":{\"standoff\":15},\"zerolinecolor\":\"#EBF0F8\",\"zerolinewidth\":2}}},\"title\":{\"text\":\"Fruit Sales Overview\"},\"xaxis\":{\"title\":{\"text\":\"Fruit\"}},\"yaxis\":{\"title\":{\"text\":\"Sales\"}}},                        {\"responsive\": true}                    ).then(function(){\n",
              "                            \n",
              "var gd = document.getElementById('32055b22-b0bf-4fab-b081-32bca02e4d6d');\n",
              "var x = new MutationObserver(function (mutations, observer) {{\n",
              "        var display = window.getComputedStyle(gd).display;\n",
              "        if (!display || display === 'none') {{\n",
              "            console.log([gd, 'removed!']);\n",
              "            Plotly.purge(gd);\n",
              "            observer.disconnect();\n",
              "        }}\n",
              "}});\n",
              "\n",
              "// Listen for the removal of the full notebook cells\n",
              "var notebookContainer = gd.closest('#notebook-container');\n",
              "if (notebookContainer) {{\n",
              "    x.observe(notebookContainer, {childList: true});\n",
              "}}\n",
              "\n",
              "// Listen for the clearing of the current output cell\n",
              "var outputEl = gd.closest('.output');\n",
              "if (outputEl) {{\n",
              "    x.observe(outputEl, {childList: true});\n",
              "}}\n",
              "\n",
              "                        })                };                            </script>        </div>\n",
              "</body>\n",
              "</html>"
            ]
          },
          "metadata": {}
        }
      ]
    },
    {
      "cell_type": "code",
      "source": [
        "#6.Create a DataFrame and add a new column based on an existing column\n",
        "\n",
        "\n",
        "import pandas as pd\n",
        "\n",
        "# Step 1: Create the DataFrame\n",
        "data = {\n",
        "    'Product': ['Laptop', 'Phone', 'Tablet'],\n",
        "    'Price': [1000, 600, 400]\n",
        "}\n",
        "\n",
        "df = pd.DataFrame(data)\n",
        "\n",
        "# Step 2: Add a new column based on 'Price'\n",
        "# Applying a 10% discount\n",
        "df['Discounted_Price'] = df['Price'] * 0.9\n",
        "\n",
        "# Step 3: Display the DataFrame\n",
        "print(df)\n",
        "\n"
      ],
      "metadata": {
        "colab": {
          "base_uri": "https://localhost:8080/"
        },
        "id": "8LL4ErIWXMZZ",
        "outputId": "44b6c989-3051-4519-f210-21a63ff16c42"
      },
      "execution_count": null,
      "outputs": [
        {
          "output_type": "stream",
          "name": "stdout",
          "text": [
            "  Product  Price  Discounted_Price\n",
            "0  Laptop   1000             900.0\n",
            "1   Phone    600             540.0\n",
            "2  Tablet    400             360.0\n"
          ]
        }
      ]
    },
    {
      "cell_type": "code",
      "source": [
        "# 7.Write a program to perform element-wise multiplication of two NumPy arrays\n",
        "\n",
        "import numpy as np\n",
        "\n",
        "# Step 1: Define two NumPy arrays\n",
        "array1 = np.array([2, 4, 6, 8])\n",
        "array2 = np.array([1, 3, 5, 7])\n",
        "\n",
        "# Step 2: Perform element-wise multiplication\n",
        "result = array1 * array2\n",
        "\n",
        "# Step 3: Display the result\n",
        "print(\"Element-wise multiplication result:\", result)\n"
      ],
      "metadata": {
        "colab": {
          "base_uri": "https://localhost:8080/"
        },
        "id": "KjRca67mX7RB",
        "outputId": "586f72f8-d21d-4ff7-a205-0dbb73f1ab45"
      },
      "execution_count": null,
      "outputs": [
        {
          "output_type": "stream",
          "name": "stdout",
          "text": [
            "Element-wise multiplication result: [ 2 12 30 56]\n"
          ]
        }
      ]
    },
    {
      "cell_type": "code",
      "source": [
        "#8. Create a line plot with multiple lines using Matplotlib\n",
        "\n",
        "import matplotlib.pyplot as plt\n",
        "\n",
        "# Sample data\n",
        "years = [2020, 2021, 2022, 2023]\n",
        "product_A = [150, 200, 250, 300]\n",
        "product_B = [180, 220, 240, 280]\n",
        "product_C = [100, 150, 190, 220]\n",
        "\n",
        "# Create the plot\n",
        "plt.plot(years, product_A, label='Product A', marker='o')\n",
        "plt.plot(years, product_B, label='Product B', marker='s')\n",
        "plt.plot(years, product_C, label='Product C', marker='^')\n",
        "\n",
        "# Add labels and title\n",
        "plt.xlabel('Year')\n",
        "plt.ylabel('Sales')\n",
        "plt.title('Product Sales Over Years')\n",
        "\n",
        "# Show legend\n",
        "plt.legend()\n",
        "\n",
        "# Display the plot\n",
        "plt.grid(True)\n",
        "plt.show()\n"
      ],
      "metadata": {
        "colab": {
          "base_uri": "https://localhost:8080/",
          "height": 472
        },
        "id": "UtUPjjLhZCeu",
        "outputId": "c1b7df73-ad8b-4f5e-e438-5e6603c3e41f"
      },
      "execution_count": null,
      "outputs": [
        {
          "output_type": "display_data",
          "data": {
            "text/plain": [
              "<Figure size 640x480 with 1 Axes>"
            ],
            "image/png": "[encoded data removed]"
          },
          "metadata": {}
        }
      ]
    },
    {
      "cell_type": "code",
      "source": [
        "#9.Generate a Pandas DataFrame and filter rows where a column value is greater than a threshold\n",
        "\n",
        "import pandas as pd\n",
        "\n",
        "# Step 1: Create the DataFrame\n",
        "data = {\n",
        "    'Product': ['TV', 'Phone', 'Laptop', 'Tablet', 'Speaker'],\n",
        "    'Sales': [320, 290, 410, 250, 370]\n",
        "}\n",
        "\n",
        "df = pd.DataFrame(data)\n",
        "\n",
        "# Step 2: Filter rows where Sales > 300\n",
        "threshold = 300\n",
        "filtered_df = df[df['Sales'] > threshold]\n",
        "\n",
        "# Step 3: Display the filtered DataFrame\n",
        "print(filtered_df)\n",
        "\n"
      ],
      "metadata": {
        "colab": {
          "base_uri": "https://localhost:8080/"
        },
        "id": "vbbXnjN_ZV_s",
        "outputId": "566d9f87-2b1e-4312-e3ad-04fbc8d6c69b"
      },
      "execution_count": null,
      "outputs": [
        {
          "output_type": "stream",
          "name": "stdout",
          "text": [
            "   Product  Sales\n",
            "0       TV    320\n",
            "2   Laptop    410\n",
            "4  Speaker    370\n"
          ]
        }
      ]
    },
    {
      "cell_type": "markdown",
      "source": [],
      "metadata": {
        "id": "JF-VVwTnVIiU"
      }
    },
    {
      "cell_type": "code",
      "source": [
        "#10. Create a histogram using Seaborn to visualize a distribution\n",
        "\n",
        "\n",
        "import seaborn as sns\n",
        "import matplotlib.pyplot as plt\n",
        "import numpy as np\n",
        "\n",
        "# Generate sample data from a normal distribution\n",
        "data = np.random.normal(loc=50, scale=10, size=1000)\n",
        "\n",
        "# Create histogram\n",
        "sns.histplot(data, bins=30, kde=True, color='skyblue')\n",
        "\n",
        "# Add labels and title\n",
        "plt.title('Distribution of Sample Data')\n",
        "plt.xlabel('Value')\n",
        "plt.ylabel('Frequency')\n",
        "\n",
        "# Show the plot\n",
        "plt.show()\n"
      ],
      "metadata": {
        "colab": {
          "base_uri": "https://localhost:8080/",
          "height": 472
        },
        "id": "RtcgHccZZikK",
        "outputId": "4bc47361-b1ba-4bd4-a372-e10f4f351592"
      },
      "execution_count": null,
      "outputs": [
        {
          "output_type": "display_data",
          "data": {
            "text/plain": [
              "<Figure size 640x480 with 1 Axes>"
            ],
            "image/png": "[encoded data removed]"
          },
          "metadata": {}
        }
      ]
    },
    {
      "cell_type": "code",
      "source": [
        "#11.Perform matrix multiplication using NumPy\n",
        "\n",
        "import numpy as np\n",
        "\n",
        "# Define two matrices\n",
        "A = np.array([[1, 2],\n",
        "              [3, 4]])\n",
        "\n",
        "B = np.array([[5, 6],\n",
        "              [7, 8]])\n",
        "\n",
        "# Perform matrix multiplication\n",
        "result = np.dot(A, B)\n",
        "\n",
        "print(\"Matrix multiplication result:\\n\", result)\n"
      ],
      "metadata": {
        "colab": {
          "base_uri": "https://localhost:8080/"
        },
        "id": "UeUNeJ_qZubg",
        "outputId": "cdf3cdf3-8c85-4806-add5-c6f61095a297"
      },
      "execution_count": null,
      "outputs": [
        {
          "output_type": "stream",
          "name": "stdout",
          "text": [
            "Matrix multiplication result:\n",
            " [[19 22]\n",
            " [43 50]]\n"
          ]
        }
      ]
    },
    {
      "cell_type": "code",
      "source": [
        "#12.Use Pandas to load a CSV file and display its first 5 rows\n",
        "\n",
        "import pandas as pd\n",
        "\n",
        "# Step 1: Load the CSV file\n",
        "# Replace 'your_file.csv' with the actual file name or path\n",
        "df = pd.read_csv('C:\\Users\\DELL\\Downloads\\mnist_test.csv')\n",
        "\n",
        "# Step 2: Display the first 5 rows\n",
        "print(df.head())\n",
        "\n"
      ],
      "metadata": {
        "colab": {
          "base_uri": "https://localhost:8080/",
          "height": 124
        },
        "id": "PAfX7PFPZwdE",
        "outputId": "e0a671a9-b156-4749-d6e4-79d2ada45281"
      },
      "execution_count": null,
      "outputs": [
        {
          "output_type": "error",
          "ename": "SyntaxError",
          "evalue": "(unicode error) 'unicodeescape' codec can't decode bytes in position 2-3: truncated \\UXXXXXXXX escape (ipython-input-22-819361229.py, line 7)",
          "traceback": [
            "\u001b[0;36m  File \u001b[0;32m\"/tmp/ipython-input-22-819361229.py\"\u001b[0;36m, line \u001b[0;32m7\u001b[0m\n\u001b[0;31m    df = pd.read_csv('C:\\Users\\DELL\\Downloads\\mnist_test.csv')\u001b[0m\n\u001b[0m                                                             ^\u001b[0m\n\u001b[0;31mSyntaxError\u001b[0m\u001b[0;31m:\u001b[0m (unicode error) 'unicodeescape' codec can't decode bytes in position 2-3: truncated \\UXXXXXXXX escape\n"
          ]
        }
      ]
    },
    {
      "cell_type": "code",
      "source": [
        "#13.Create a 3D scatter plot using Plotly\n",
        "\n",
        "import plotly.graph_objects as go\n",
        "import numpy as np\n",
        "\n",
        "# Generate sample data\n",
        "np.random.seed(42)\n",
        "x = np.random.normal(0, 1, 100)\n",
        "y = np.random.normal(5, 2, 100)\n",
        "z = np.random.normal(-2, 3, 100)\n",
        "\n",
        "# Create 3D scatter plot\n",
        "fig = go.Figure(data=[go.Scatter3d(\n",
        "    x=x,\n",
        "    y=y,\n",
        "    z=z,\n",
        "    mode='markers',\n",
        "    marker=dict(\n",
        "        size=6,\n",
        "        color=z,         # set color to z values\n",
        "        colorscale='Viridis',\n",
        "        opacity=0.8\n",
        "    )\n",
        ")])\n",
        "\n",
        "# Update layout\n",
        "fig.update_layout(\n",
        "    title='3D Scatter Plot Example',\n",
        "    scene=dict(\n",
        "        xaxis_title='X Axis',\n",
        "        yaxis_title='Y Axis',\n",
        "        zaxis_title='Z Axis'\n",
        "    ),\n",
        "    template='plotly_white'\n",
        ")\n",
        "\n",
        "# Show plot\n",
        "fig.show()\n"
      ],
      "metadata": {
        "colab": {
          "base_uri": "https://localhost:8080/",
          "height": 542
        },
        "id": "SwvJfFlUamnI",
        "outputId": "9b47751e-92e0-46d6-8eb9-80c872de8476"
      },
      "execution_count": null,
      "outputs": [
        {
          "output_type": "display_data",
          "data": {
            "text/html": [
              "<html>\n",
              "<head><meta charset=\"utf-8\" /></head>\n",
              "<body>\n",
              "    <div>            <script src=\"https://cdnjs.cloudflare.com/ajax/libs/mathjax/2.7.5/MathJax.js?config=TeX-AMS-MML_SVG\"></script><script type=\"text/javascript\">if (window.MathJax && window.MathJax.Hub && window.MathJax.Hub.Config) {window.MathJax.Hub.Config({SVG: {font: \"STIX-Web\"}});}</script>                <script type=\"text/javascript\">window.PlotlyConfig = {MathJaxConfig: 'local'};</script>\n",
              "        <script charset=\"utf-8\" src=\"https://cdn.plot.ly/plotly-2.35.2.min.js\"></script>                <div id=\"196fc176-b6e2-43ea-bb88-9581fe7d4f47\" class=\"plotly-graph-div\" style=\"height:525px; width:100%;\"></div>            <script type=\"text/javascript\">                                    window.PLOTLYENV=window.PLOTLYENV || {};                                    if (document.getElementById(\"196fc176-b6e2-43ea-bb88-9581fe7d4f47\")) {                    Plotly.newPlot(                        \"196fc176-b6e2-43ea-bb88-9581fe7d4f47\",                        [{\"marker\":{\"color\":[-0.9266379189551501,-0.3176464208952967,1.249153729525831,1.161406156104709,-6.133008103871273,-4.813475119745368,-0.4548941983740207,-0.4586421472633737,-0.45485694108185637,9.558194471964164,-0.28732846792049904,1.4066969205417967,0.862005290479607,-0.04582624608260599,-2.945807733921037,0.27690766147980206,-4.318475643612715,-2.7104558202200266,-3.45609064348731,-1.7543775818410323,4.943975700020526,-7.601795577775244,0.058780571123540515,-6.838147613568955,-3.4157955973683003,1.2668517909020984,-1.8071599427136116,-5.233234333787919,-4.145911127779905,0.038793246804027515,-4.19109989515141,-1.3506242312540753,-1.8632844802885586,-3.954801042817451,4.431832267975977,-0.09824293304596621,-8.075427759972822,-1.4406370556917172,-3.985359394305164,0.5573000043886718,-4.377562215298102,-2.344209324400697,-0.4850381630586287,0.5972655825103645,-5.6008892211673285,-3.003503707522845,-3.4248359334828686,-3.959987697721136,3.296362720843291,-0.7850548671171333,-5.782651863005135,0.7535858411643281,4.3664685910379,1.0973957816534403,-6.558109897862041,-3.452702218598754,1.8007334475598684,-4.123008396856342,-0.6685417155613147,0.32390216028801033,-4.780791414734249,-2.1785760681854,-11.723802020207218,-5.07316292400287,-2.757704454179481,-5.7433495458945485,2.897233911794906,-6.290424133881898,-3.3201334600909513,-1.6077782681417259,2.3238198671983463,-6.307586453538319,1.4894912564648788,-1.969300816941239,-4.944525953143852,-0.6136895772101878,-1.40282091327959,-3.800650631476384,-1.7905937450299432,-3.1559407905852805,-1.6594479642462558,-0.013607976436859959,2.758050448436056,-5.713446496480547,4.3991001239688,-7.856263398567505,-2.4553552851067497,-0.23504838054627042,-1.157024396794902,-3.8680985594617816,-2.6243667510718254,-3.479002803976498,-3.7680942708326346,0.548806291063074,-0.928953542104858,-4.078728785781962,0.6987996262997522,-1.078101437370172,0.4385863565168804,-0.11111347422916329],\"colorscale\":[[0.0,\"#440154\"],[0.1111111111111111,\"#482878\"],[0.2222222222222222,\"#3e4989\"],[0.3333333333333333,\"#31688e\"],[0.4444444444444444,\"#26828e\"],[0.5555555555555556,\"#1f9e89\"],[0.6666666666666666,\"#35b779\"],[0.7777777777777778,\"#6ece58\"],[0.8888888888888888,\"#b5de2b\"],[1.0,\"#fde725\"]],\"opacity\":0.8,\"size\":6},\"mode\":\"markers\",\"x\":[0.4967141530112327,-0.13826430117118466,0.6476885381006925,1.5230298564080254,-0.23415337472333597,-0.23413695694918055,1.5792128155073915,0.7674347291529088,-0.4694743859349521,0.5425600435859647,-0.46341769281246226,-0.46572975357025687,0.24196227156603412,-1.913280244657798,-1.7249178325130328,-0.5622875292409727,-1.0128311203344238,0.3142473325952739,-0.9080240755212109,-1.4123037013352915,1.465648768921554,-0.22577630048653566,0.06752820468792384,-1.4247481862134568,-0.5443827245251827,0.11092258970986608,-1.1509935774223028,0.37569801834567196,-0.600638689918805,-0.2916937497932768,-0.6017066122293969,1.8522781845089378,-0.013497224737933921,-1.0577109289559004,0.822544912103189,-1.2208436499710222,0.2088635950047554,-1.9596701238797756,-1.3281860488984305,0.19686123586912352,0.7384665799954104,0.1713682811899705,-0.11564828238824053,-0.3011036955892888,-1.4785219903674274,-0.7198442083947086,-0.4606387709597875,1.0571222262189157,0.3436182895684614,-1.763040155362734,0.324083969394795,-0.38508228041631654,-0.6769220003059587,0.6116762888408679,1.030999522495951,0.9312801191161986,-0.8392175232226385,-0.3092123758512146,0.33126343140356396,0.9755451271223592,-0.47917423784528995,-0.18565897666381712,-1.1063349740060282,-1.1962066240806708,0.812525822394198,1.356240028570823,-0.07201012158033385,1.0035328978920242,0.36163602504763415,-0.6451197546051243,0.36139560550841393,1.5380365664659692,-0.03582603910995154,1.5646436558140062,-2.6197451040897444,0.8219025043752238,0.08704706823817122,-0.29900735046586746,0.0917607765355023,-1.9875689146008928,-0.21967188783751193,0.3571125715117464,1.477894044741516,-0.5182702182736474,-0.8084936028931876,-0.5017570435845365,0.9154021177020741,0.32875110965968446,-0.5297602037670388,0.5132674331133561,0.09707754934804039,0.9686449905328892,-0.7020530938773524,-0.3276621465977682,-0.39210815313215763,-1.4635149481321186,0.29612027706457605,0.26105527217988933,0.00511345664246089,-0.23458713337514692],\"y\":[2.1692585158991715,4.158709354469282,4.314570966946461,3.395445461556762,4.677428576667982,5.8081017136290765,8.77237180242106,5.349155625663678,5.515100781445529,4.851108168467666,1.162457569401917,4.946972249101567,5.120460419882053,9.926484224970572,4.615278070437755,5.603094684667225,4.9305764605895135,2.662643924760936,7.285645629030041,6.503866065373549,6.582063894086094,3.181225090410522,7.805588621872198,2.1962978744154382,6.173714187600541,9.380911251619956,3.0189273497386235,3.867404540794456,5.199302730175282,3.9930486917676014,1.8986731378677346,5.137125949612055,2.8753925725477902,5.9471848612703635,3.1611515315323935,8.09986881003508,3.4334934153275256,4.355876967588649,6.62703443473934,2.5382713671320896,5.4549198692082586,7.614285508564857,1.785033530877545,5.369267717064608,5.519765588496847,6.563645743554621,2.526098578243836,2.3590867738314474,6.0438831312337955,5.5939693464663724,5.5009857006917535,5.692896418993952,3.6399505568430186,5.464507394322007,5.586144946597362,3.571297163947264,8.731549022289514,5.947665841823575,2.617393005594703,6.313107217267659,3.050636659545357,6.574169207484904,7.317191158014808,3.358635363296579,6.926752258488643,5.825561853872997,6.64412031998898,8.793585965307894,4.509223767994259,3.492527671285021,3.2209711407489534,3.3683794300691234,4.845796581171792,5.682303949633288,5.553381598660038,6.654366498072047,5.026003783755814,7.907068154314634,4.470686333524088,10.440338333179238,6.251334695530012,3.285684887167435,2.8582150038777754,5.96494483048637,4.553074429348298,6.428000988184184,5.94647524914709,4.854342174686255,3.30641256386319,1.9703055506282707,4.106970095865957,6.712797588646945,5.4281874882604075,2.508522442576024,5.346361851702364,5.770634759457674,3.2322851275977342,5.307450211891056,5.116417436892,2.714059404338754],\"z\":[-0.9266379189551501,-0.3176464208952967,1.249153729525831,1.161406156104709,-6.133008103871273,-4.813475119745368,-0.4548941983740207,-0.4586421472633737,-0.45485694108185637,9.558194471964164,-0.28732846792049904,1.4066969205417967,0.862005290479607,-0.04582624608260599,-2.945807733921037,0.27690766147980206,-4.318475643612715,-2.7104558202200266,-3.45609064348731,-1.7543775818410323,4.943975700020526,-7.601795577775244,0.058780571123540515,-6.838147613568955,-3.4157955973683003,1.2668517909020984,-1.8071599427136116,-5.233234333787919,-4.145911127779905,0.038793246804027515,-4.19109989515141,-1.3506242312540753,-1.8632844802885586,-3.954801042817451,4.431832267975977,-0.09824293304596621,-8.075427759972822,-1.4406370556917172,-3.985359394305164,0.5573000043886718,-4.377562215298102,-2.344209324400697,-0.4850381630586287,0.5972655825103645,-5.6008892211673285,-3.003503707522845,-3.4248359334828686,-3.959987697721136,3.296362720843291,-0.7850548671171333,-5.782651863005135,0.7535858411643281,4.3664685910379,1.0973957816534403,-6.558109897862041,-3.452702218598754,1.8007334475598684,-4.123008396856342,-0.6685417155613147,0.32390216028801033,-4.780791414734249,-2.1785760681854,-11.723802020207218,-5.07316292400287,-2.757704454179481,-5.7433495458945485,2.897233911794906,-6.290424133881898,-3.3201334600909513,-1.6077782681417259,2.3238198671983463,-6.307586453538319,1.4894912564648788,-1.969300816941239,-4.944525953143852,-0.6136895772101878,-1.40282091327959,-3.800650631476384,-1.7905937450299432,-3.1559407905852805,-1.6594479642462558,-0.013607976436859959,2.758050448436056,-5.713446496480547,4.3991001239688,-7.856263398567505,-2.4553552851067497,-0.23504838054627042,-1.157024396794902,-3.8680985594617816,-2.6243667510718254,-3.479002803976498,-3.7680942708326346,0.548806291063074,-0.928953542104858,-4.078728785781962,0.6987996262997522,-1.078101437370172,0.4385863565168804,-0.11111347422916329],\"type\":\"scatter3d\"}],                        {\"template\":{\"data\":{\"barpolar\":[{\"marker\":{\"line\":{\"color\":\"white\",\"width\":0.5},\"pattern\":{\"fillmode\":\"overlay\",\"size\":10,\"solidity\":0.2}},\"type\":\"barpolar\"}],\"bar\":[{\"error_x\":{\"color\":\"#2a3f5f\"},\"error_y\":{\"color\":\"#2a3f5f\"},\"marker\":{\"line\":{\"color\":\"white\",\"width\":0.5},\"pattern\":{\"fillmode\":\"overlay\",\"size\":10,\"solidity\":0.2}},\"type\":\"bar\"}],\"carpet\":[{\"aaxis\":{\"endlinecolor\":\"#2a3f5f\",\"gridcolor\":\"#C8D4E3\",\"linecolor\":\"#C8D4E3\",\"minorgridcolor\":\"#C8D4E3\",\"startlinecolor\":\"#2a3f5f\"},\"baxis\":{\"endlinecolor\":\"#2a3f5f\",\"gridcolor\":\"#C8D4E3\",\"linecolor\":\"#C8D4E3\",\"minorgridcolor\":\"#C8D4E3\",\"startlinecolor\":\"#2a3f5f\"},\"type\":\"carpet\"}],\"choropleth\":[{\"colorbar\":{\"outlinewidth\":0,\"ticks\":\"\"},\"type\":\"choropleth\"}],\"contourcarpet\":[{\"colorbar\":{\"outlinewidth\":0,\"ticks\":\"\"},\"type\":\"contourcarpet\"}],\"contour\":[{\"colorbar\":{\"outlinewidth\":0,\"ticks\":\"\"},\"colorscale\":[[0.0,\"#0d0887\"],[0.1111111111111111,\"#46039f\"],[0.2222222222222222,\"#7201a8\"],[0.3333333333333333,\"#9c179e\"],[0.4444444444444444,\"#bd3786\"],[0.5555555555555556,\"#d8576b\"],[0.6666666666666666,\"#ed7953\"],[0.7777777777777778,\"#fb9f3a\"],[0.8888888888888888,\"#fdca26\"],[1.0,\"#f0f921\"]],\"type\":\"contour\"}],\"heatmapgl\":[{\"colorbar\":{\"outlinewidth\":0,\"ticks\":\"\"},\"colorscale\":[[0.0,\"#0d0887\"],[0.1111111111111111,\"#46039f\"],[0.2222222222222222,\"#7201a8\"],[0.3333333333333333,\"#9c179e\"],[0.4444444444444444,\"#bd3786\"],[0.5555555555555556,\"#d8576b\"],[0.6666666666666666,\"#ed7953\"],[0.7777777777777778,\"#fb9f3a\"],[0.8888888888888888,\"#fdca26\"],[1.0,\"#f0f921\"]],\"type\":\"heatmapgl\"}],\"heatmap\":[{\"colorbar\":{\"outlinewidth\":0,\"ticks\":\"\"},\"colorscale\":[[0.0,\"#0d0887\"],[0.1111111111111111,\"#46039f\"],[0.2222222222222222,\"#7201a8\"],[0.3333333333333333,\"#9c179e\"],[0.4444444444444444,\"#bd3786\"],[0.5555555555555556,\"#d8576b\"],[0.6666666666666666,\"#ed7953\"],[0.7777777777777778,\"#fb9f3a\"],[0.8888888888888888,\"#fdca26\"],[1.0,\"#f0f921\"]],\"type\":\"heatmap\"}],\"histogram2dcontour\":[{\"colorbar\":{\"outlinewidth\":0,\"ticks\":\"\"},\"colorscale\":[[0.0,\"#0d0887\"],[0.1111111111111111,\"#46039f\"],[0.2222222222222222,\"#7201a8\"],[0.3333333333333333,\"#9c179e\"],[0.4444444444444444,\"#bd3786\"],[0.5555555555555556,\"#d8576b\"],[0.6666666666666666,\"#ed7953\"],[0.7777777777777778,\"#fb9f3a\"],[0.8888888888888888,\"#fdca26\"],[1.0,\"#f0f921\"]],\"type\":\"histogram2dcontour\"}],\"histogram2d\":[{\"colorbar\":{\"outlinewidth\":0,\"ticks\":\"\"},\"colorscale\":[[0.0,\"#0d0887\"],[0.1111111111111111,\"#46039f\"],[0.2222222222222222,\"#7201a8\"],[0.3333333333333333,\"#9c179e\"],[0.4444444444444444,\"#bd3786\"],[0.5555555555555556,\"#d8576b\"],[0.6666666666666666,\"#ed7953\"],[0.7777777777777778,\"#fb9f3a\"],[0.8888888888888888,\"#fdca26\"],[1.0,\"#f0f921\"]],\"type\":\"histogram2d\"}],\"histogram\":[{\"marker\":{\"pattern\":{\"fillmode\":\"overlay\",\"size\":10,\"solidity\":0.2}},\"type\":\"histogram\"}],\"mesh3d\":[{\"colorbar\":{\"outlinewidth\":0,\"ticks\":\"\"},\"type\":\"mesh3d\"}],\"parcoords\":[{\"line\":{\"colorbar\":{\"outlinewidth\":0,\"ticks\":\"\"}},\"type\":\"parcoords\"}],\"pie\":[{\"automargin\":true,\"type\":\"pie\"}],\"scatter3d\":[{\"line\":{\"colorbar\":{\"outlinewidth\":0,\"ticks\":\"\"}},\"marker\":{\"colorbar\":{\"outlinewidth\":0,\"ticks\":\"\"}},\"type\":\"scatter3d\"}],\"scattercarpet\":[{\"marker\":{\"colorbar\":{\"outlinewidth\":0,\"ticks\":\"\"}},\"type\":\"scattercarpet\"}],\"scattergeo\":[{\"marker\":{\"colorbar\":{\"outlinewidth\":0,\"ticks\":\"\"}},\"type\":\"scattergeo\"}],\"scattergl\":[{\"marker\":{\"colorbar\":{\"outlinewidth\":0,\"ticks\":\"\"}},\"type\":\"scattergl\"}],\"scattermapbox\":[{\"marker\":{\"colorbar\":{\"outlinewidth\":0,\"ticks\":\"\"}},\"type\":\"scattermapbox\"}],\"scatterpolargl\":[{\"marker\":{\"colorbar\":{\"outlinewidth\":0,\"ticks\":\"\"}},\"type\":\"scatterpolargl\"}],\"scatterpolar\":[{\"marker\":{\"colorbar\":{\"outlinewidth\":0,\"ticks\":\"\"}},\"type\":\"scatterpolar\"}],\"scatter\":[{\"fillpattern\":{\"fillmode\":\"overlay\",\"size\":10,\"solidity\":0.2},\"type\":\"scatter\"}],\"scatterternary\":[{\"marker\":{\"colorbar\":{\"outlinewidth\":0,\"ticks\":\"\"}},\"type\":\"scatterternary\"}],\"surface\":[{\"colorbar\":{\"outlinewidth\":0,\"ticks\":\"\"},\"colorscale\":[[0.0,\"#0d0887\"],[0.1111111111111111,\"#46039f\"],[0.2222222222222222,\"#7201a8\"],[0.3333333333333333,\"#9c179e\"],[0.4444444444444444,\"#bd3786\"],[0.5555555555555556,\"#d8576b\"],[0.6666666666666666,\"#ed7953\"],[0.7777777777777778,\"#fb9f3a\"],[0.8888888888888888,\"#fdca26\"],[1.0,\"#f0f921\"]],\"type\":\"surface\"}],\"table\":[{\"cells\":{\"fill\":{\"color\":\"#EBF0F8\"},\"line\":{\"color\":\"white\"}},\"header\":{\"fill\":{\"color\":\"#C8D4E3\"},\"line\":{\"color\":\"white\"}},\"type\":\"table\"}]},\"layout\":{\"annotationdefaults\":{\"arrowcolor\":\"#2a3f5f\",\"arrowhead\":0,\"arrowwidth\":1},\"autotypenumbers\":\"strict\",\"coloraxis\":{\"colorbar\":{\"outlinewidth\":0,\"ticks\":\"\"}},\"colorscale\":{\"diverging\":[[0,\"#8e0152\"],[0.1,\"#c51b7d\"],[0.2,\"#de77ae\"],[0.3,\"#f1b6da\"],[0.4,\"#fde0ef\"],[0.5,\"#f7f7f7\"],[0.6,\"#e6f5d0\"],[0.7,\"#b8e186\"],[0.8,\"#7fbc41\"],[0.9,\"#4d9221\"],[1,\"#276419\"]],\"sequential\":[[0.0,\"#0d0887\"],[0.1111111111111111,\"#46039f\"],[0.2222222222222222,\"#7201a8\"],[0.3333333333333333,\"#9c179e\"],[0.4444444444444444,\"#bd3786\"],[0.5555555555555556,\"#d8576b\"],[0.6666666666666666,\"#ed7953\"],[0.7777777777777778,\"#fb9f3a\"],[0.8888888888888888,\"#fdca26\"],[1.0,\"#f0f921\"]],\"sequentialminus\":[[0.0,\"#0d0887\"],[0.1111111111111111,\"#46039f\"],[0.2222222222222222,\"#7201a8\"],[0.3333333333333333,\"#9c179e\"],[0.4444444444444444,\"#bd3786\"],[0.5555555555555556,\"#d8576b\"],[0.6666666666666666,\"#ed7953\"],[0.7777777777777778,\"#fb9f3a\"],[0.8888888888888888,\"#fdca26\"],[1.0,\"#f0f921\"]]},\"colorway\":[\"#636efa\",\"#EF553B\",\"#00cc96\",\"#ab63fa\",\"#FFA15A\",\"#19d3f3\",\"#FF6692\",\"#B6E880\",\"#FF97FF\",\"#FECB52\"],\"font\":{\"color\":\"#2a3f5f\"},\"geo\":{\"bgcolor\":\"white\",\"lakecolor\":\"white\",\"landcolor\":\"white\",\"showlakes\":true,\"showland\":true,\"subunitcolor\":\"#C8D4E3\"},\"hoverlabel\":{\"align\":\"left\"},\"hovermode\":\"closest\",\"mapbox\":{\"style\":\"light\"},\"paper_bgcolor\":\"white\",\"plot_bgcolor\":\"white\",\"polar\":{\"angularaxis\":{\"gridcolor\":\"#EBF0F8\",\"linecolor\":\"#EBF0F8\",\"ticks\":\"\"},\"bgcolor\":\"white\",\"radialaxis\":{\"gridcolor\":\"#EBF0F8\",\"linecolor\":\"#EBF0F8\",\"ticks\":\"\"}},\"scene\":{\"xaxis\":{\"backgroundcolor\":\"white\",\"gridcolor\":\"#DFE8F3\",\"gridwidth\":2,\"linecolor\":\"#EBF0F8\",\"showbackground\":true,\"ticks\":\"\",\"zerolinecolor\":\"#EBF0F8\"},\"yaxis\":{\"backgroundcolor\":\"white\",\"gridcolor\":\"#DFE8F3\",\"gridwidth\":2,\"linecolor\":\"#EBF0F8\",\"showbackground\":true,\"ticks\":\"\",\"zerolinecolor\":\"#EBF0F8\"},\"zaxis\":{\"backgroundcolor\":\"white\",\"gridcolor\":\"#DFE8F3\",\"gridwidth\":2,\"linecolor\":\"#EBF0F8\",\"showbackground\":true,\"ticks\":\"\",\"zerolinecolor\":\"#EBF0F8\"}},\"shapedefaults\":{\"line\":{\"color\":\"#2a3f5f\"}},\"ternary\":{\"aaxis\":{\"gridcolor\":\"#DFE8F3\",\"linecolor\":\"#A2B1C6\",\"ticks\":\"\"},\"baxis\":{\"gridcolor\":\"#DFE8F3\",\"linecolor\":\"#A2B1C6\",\"ticks\":\"\"},\"bgcolor\":\"white\",\"caxis\":{\"gridcolor\":\"#DFE8F3\",\"linecolor\":\"#A2B1C6\",\"ticks\":\"\"}},\"title\":{\"x\":0.05},\"xaxis\":{\"automargin\":true,\"gridcolor\":\"#EBF0F8\",\"linecolor\":\"#EBF0F8\",\"ticks\":\"\",\"title\":{\"standoff\":15},\"zerolinecolor\":\"#EBF0F8\",\"zerolinewidth\":2},\"yaxis\":{\"automargin\":true,\"gridcolor\":\"#EBF0F8\",\"linecolor\":\"#EBF0F8\",\"ticks\":\"\",\"title\":{\"standoff\":15},\"zerolinecolor\":\"#EBF0F8\",\"zerolinewidth\":2}}},\"title\":{\"text\":\"3D Scatter Plot Example\"},\"scene\":{\"xaxis\":{\"title\":{\"text\":\"X Axis\"}},\"yaxis\":{\"title\":{\"text\":\"Y Axis\"}},\"zaxis\":{\"title\":{\"text\":\"Z Axis\"}}}},                        {\"responsive\": true}                    ).then(function(){\n",
              "                            \n",
              "var gd = document.getElementById('196fc176-b6e2-43ea-bb88-9581fe7d4f47');\n",
              "var x = new MutationObserver(function (mutations, observer) {{\n",
              "        var display = window.getComputedStyle(gd).display;\n",
              "        if (!display || display === 'none') {{\n",
              "            console.log([gd, 'removed!']);\n",
              "            Plotly.purge(gd);\n",
              "            observer.disconnect();\n",
              "        }}\n",
              "}});\n",
              "\n",
              "// Listen for the removal of the full notebook cells\n",
              "var notebookContainer = gd.closest('#notebook-container');\n",
              "if (notebookContainer) {{\n",
              "    x.observe(notebookContainer, {childList: true});\n",
              "}}\n",
              "\n",
              "// Listen for the clearing of the current output cell\n",
              "var outputEl = gd.closest('.output');\n",
              "if (outputEl) {{\n",
              "    x.observe(outputEl, {childList: true});\n",
              "}}\n",
              "\n",
              "                        })                };                            </script>        </div>\n",
              "</body>\n",
              "</html>"
            ]
          },
          "metadata": {}
        }
      ]
    }
  ]
}