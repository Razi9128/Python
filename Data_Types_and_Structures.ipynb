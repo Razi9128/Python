{
  "nbformat": 4,
  "nbformat_minor": 0,
  "metadata": {
    "colab": {
      "provenance": [],
      "authorship_tag": "ABX9TyNNGB7kmUbpuglEHVtqyV0S",
      "include_colab_link": true
    },
    "kernelspec": {
      "name": "python3",
      "display_name": "Python 3"
    },
    "language_info": {
      "name": "python"
    }
  },
  "cells": [
    {
      "cell_type": "markdown",
      "metadata": {
        "id": "view-in-github",
        "colab_type": "text"
      },
      "source": [
        "<a href=\"https://colab.research.google.com/github/Razi9128/Python/blob/main/Data_Types_and_Structures.ipynb\" target=\"_parent\"><img src=\"https://colab.research.google.com/assets/colab-badge.svg\" alt=\"Open In Colab\"/></a>"
      ]
    },
    {
      "cell_type": "markdown",
      "source": [],
      "metadata": {
        "id": "BjDjpn_cldG8"
      }
    },
    {
      "cell_type": "markdown",
      "source": [
        " 1.What are data structures, and why are they important?\n",
        "\n",
        "    Data structures are ways of organizing and storing data so that it can be efficiently accessed and modified. They are essential in programming because they help optimize algorithms, manage large amounts of data, and improve the efficiency of operations like searching, sorting, and storing information.\n",
        "    Efficient Data Organization\n",
        "    Optimized Performance .\n",
        "    Memory Management\n",
        "    Scalability\n",
        "    Real-World Applications\n",
        "    Common examples include arrays, linked lists, stacks, queues, trees, and graphs, each suited for different types of problems.\n",
        "\n",
        "2.Explain the difference between mutable and immutable data types with examples\n",
        "\n",
        "    In Python, mutable and immutable data types determine whether an object's value can be changed after creation.\n",
        "\n",
        "    Mutable Data Types\n",
        "    Mutable objects can be modified after they are created.\n",
        "\t  List,Dict,Sets\n",
        "    Immutable Data Types\n",
        "    Immutable objects cannot be changed after creation. Instead, a new object is created if modifications are needed.\n",
        "    Examples:\n",
        "    Tuples\n",
        "3.What are the main differences between lists and tuples in Python?\n",
        "    \n",
        "    In Python, lists and tuples both store collections of elements, but they differ in key ways.\n",
        "\n",
        "    Mutability: Lists are mutable (modifiable), while tuples are immutable (unchangeable).\n",
        "\n",
        "    Performance: Tuples are faster and use less memory than lists.\n",
        "\n",
        "    Syntax: Lists use [] (square brackets), tuples use () (parentheses).\n",
        "\n",
        "    Use Cases: Lists are ideal when data needs to be modified, tuples are best for fixed data.\n",
        "\n",
        "4.Describe how dictionaries store data\n",
        "    In Python, dictionaries (dict) store data using key-value pairs, allowing efficient data retrieval and organization.\n",
        "\n",
        "    Structure of a Dictionary\n",
        "    Each key is associated with a value.\n",
        "\n",
        "    Keys must be unique and immutable (e.g., strings, numbers, tuples).\n",
        "\n",
        "    Values can be any data type, including lists, dictionaries, or objects.\n",
        "\n",
        "5.Why might you use a set instead of a list in Python\n",
        "\n",
        "    A set is a collection that holds unique elements without duplicates. It offers advantages over lists in certain situations:\n",
        "\n",
        "    Unique Elements – Sets automatically remove duplicates, ensuring no repeated values.\n",
        "\n",
        "    Fast Lookups – Checking if an item exists in a set is significantly faster than searching in a list.\n",
        "\n",
        "    Mathematical Operations – Sets support efficient union, intersection, and difference operations.\n",
        "\n",
        "    For example, when dealing with large datasets where duplicate values need to be removed and quick searches are required, sets provide better performance. Lists, on the other hand, allow ordered elements and indexing, making them suitable when sequence and repetition are necessary.\n",
        "\n",
        "6. What is a string in Python, and how is it different from a list\n",
        "  \n",
        "    A string is a sequence of characters enclosed in quotes (\"Hello\" or 'Hello'). Strings are immutable, meaning they cannot be changed after creation.\n",
        "\n",
        "    A list, on the other hand, is a collection of items that can hold different data types (numbers, strings, etc.). Lists are mutable, allowing modification after creation.\n",
        "\n",
        "    Key Differences:\n",
        "    Mutability: Strings ❌ cannot be changed, Lists ✅ can be modified.\n",
        "\n",
        "    Data Types: Strings hold only characters, Lists can hold any type.\n",
        "\n",
        "    Modification: Strings require new assignment, Lists allow in-place edits.\n",
        "\n",
        "    Syntax: Strings use \"\" or '', Lists use []\n",
        "\n",
        "    "
      ],
      "metadata": {
        "id": "OBd_b7ubleoH"
      }
    },
    {
      "cell_type": "code",
      "source": [],
      "metadata": {
        "id": "PodH552odmro"
      },
      "execution_count": null,
      "outputs": []
    },
    {
      "cell_type": "markdown",
      "source": [],
      "metadata": {
        "id": "rQC0_X5Zlb6f"
      }
    },
    {
      "cell_type": "markdown",
      "source": [
        "7. How do tuples ensure data integrity in Python\n",
        "Tuples help ensure data integrity in Python by virtue of being immutable, meaning once a tuple is created, its contents cannot be changed. This immutability provides a few key benefits when it comes to protecting data:\n",
        "\n",
        "Prevention of Accidental Changes: Since tuples cannot be modified (no item assignment, no append, no remove), they’re a safe choice for storing data that should remain constant throughout the program—like configuration settings or fixed coordinates.\n",
        "\n",
        "Safe Hashing and Dictionary Keys: Tuples can be used as keys in dictionaries or elements of sets only because they’re immutable. This ensures their identity and value remain stable, preventing unpredictable behavior.\n",
        "\n",
        "Predictable and Reliable Behavior: Developers can trust that tuple contents won’t change unexpectedly during execution or across functions, which reduces bugs and makes the code easier to reason about.\n",
        "\n",
        "Semantic Intention: Using a tuple signals that the grouping of values is intentional and not meant to change. For instance, returning multiple values from a function as a tuple suggests these values are part of a cohesive, unchangeable result."
      ],
      "metadata": {
        "id": "wI7Q-EaNdYtw"
      }
    },
    {
      "cell_type": "markdown",
      "source": [
        "8.What is a hash table, and how does it relate to dictionaries in Python?\n",
        "A hash table is a data structure that allows for fast storage and retrieval of key-value pairs using something called a hash function. Think of it like a super-efficient, magical filing system where instead of flipping through pages to find your record, you jump straight to its spot.\n",
        "\n",
        "Here's how it works at a high level:\n",
        "\n",
        "Hashing: When you provide a key (like a name), a hash function transforms it into an integer—essentially a location in memory.\n",
        "\n",
        "Indexing: That integer tells the program exactly where to store or find the value associated with that key.\n",
        "\n",
        "Collisions: Sometimes different keys hash to the same index. Python handles this with clever techniques like chaining (storing multiple pairs at the same index) or open addressing.\n",
        "\n",
        "How This Relates to Python Dictionaries\n",
        "In Python, a dict is an implementation of a hash table. Here's what makes them so powerful:\n",
        "\n",
        "Instant lookups: Accessing my_dict[\"name\"] happens in near constant time—much faster than searching through a list.\n",
        "\n",
        "Flexible keys: As long as the key is immutable (e.g., strings, numbers, or tuples), you can use it in a dictionary.\n",
        "\n",
        "Dynamic resizing: Python dictionaries grow as needed while maintaining performance behind the scenes."
      ],
      "metadata": {
        "id": "Tlx2xuRmdpNk"
      }
    },
    {
      "cell_type": "markdown",
      "source": [
        "9.Can lists contain different data types in Python\n",
        "Absolutely! In Python, lists can contain elements of different data types—that’s one of the reasons they're so flexible and popular.\n",
        "\n",
        "For example, this is perfectly valid:\n",
        "\n",
        "python\n",
        "my_list = [42, \"hello\", 3.14, True, [1, 2, 3]]\n",
        "This list includes:\n",
        "\n",
        "An integer (42)\n",
        "\n",
        "A string (\"hello\")\n",
        "\n",
        "A float (3.14)\n",
        "\n",
        "A boolean (True)\n",
        "\n",
        "Another list ([1, 2, 3]) as a nested element\n",
        "\n",
        "Python doesn't require you to declare a single data type for list elements—each item can be something entirely different. This allows for creative and dynamic data structures, especially when you're working with real-world data where values are often mixed.\n"
      ],
      "metadata": {
        "id": "-toOgTzbd-qN"
      }
    },
    {
      "cell_type": "markdown",
      "source": [
        "10.Explain why strings are immutable in Python\n",
        "In Python, strings are immutable because once a string is created, its contents (characters) cannot be changed. This design choice is intentional and has several important benefits:\n",
        "\n",
        "Efficiency: Since strings are one of the most commonly used data types, making them immutable allows Python to optimize memory usage. The same string value can be shared across multiple places in memory rather than copied each time.\n",
        "\n",
        "Hashing and Dictionary Keys: Immutable objects are safe to use as keys in dictionaries or elements in sets. If strings were mutable, their hash value could change, breaking dictionary lookups.\n",
        "\n",
        "Safety and Predictability: By preventing in-place changes, immutable strings reduce side effects. When a function receives a string argument, you can be confident it won’t unexpectedly modify the original value.\n",
        "\n",
        "Simplified Multithreading: Immutability avoids race conditions when multiple threads are accessing the same string—since it can't change, it’s inherently thread-safe."
      ],
      "metadata": {
        "id": "hV2H0R_VeM89"
      }
    },
    {
      "cell_type": "markdown",
      "source": [
        "10. What advantages do dictionaries offer over lists for certain tasks?\n",
        "Dictionaries offer some major advantages over lists, especially when it comes to speed, clarity, and data structure design. Here’s a breakdown of why and when dictionaries shine:\n",
        "\n",
        "Faster Lookup by Key: Dictionaries provide near-instant access to data using keys. Looking up a value by key (my_dict[\"username\"]) is much faster than scanning through a list to find a specific item based on a condition.\n",
        "\n",
        "Key-Value Pairing: They’re great when your data naturally comes in labeled pairs—like a name and phone number, or product ID and price. This built-in mapping makes code more readable and intuitive.\n",
        "\n",
        "python\n",
        "# Compare this:\n",
        "user = {\"name\": \"Alice\", \"age\": 30}\n",
        "# To this:\n",
        "user_list = [\"Alice\", 30]\n",
        "With the dictionary, it’s clear what each piece of data means.\n",
        "\n",
        "No Need to Remember Indexes: Lists rely on position, which can be fragile. If the order changes, so does the meaning. Dictionaries rely on keys, making them much more robust to data reordering.\n",
        "\n",
        "Avoid Duplicates on Keys: Dictionaries automatically prevent duplicate keys—any repeated assignment just overwrites the previous value. That’s handy when maintaining unique identifiers.\n",
        "\n",
        "Dynamic and Flexible: Dictionaries are easy to modify on the fly by adding or removing keys and values—ideal for tasks like caching, counting items, and creating dynamic configurations"
      ],
      "metadata": {
        "id": "XIH0KIJIeVZZ"
      }
    },
    {
      "cell_type": "markdown",
      "source": [
        "10. Describe a scenario where using a tuple would be preferable over a list?\n",
        "\n",
        "Great question! A tuple is preferable when you want to represent fixed, unchangeable data that shouldn't be modified. Here's a practical scenario:\n",
        "\n",
        "Scenario: Storing GPS Coordinates\n",
        "Suppose you're building a mapping app, and you need to store the location of historical landmarks. Each location can be represented by a latitude and longitude:\n",
        "\n",
        "python\n",
        "taj_mahal_coords = (27.1751, 78.0421)\n",
        "In this case:\n",
        "\n",
        "The coordinates are a pair of values that go together.\n",
        "\n",
        "You don’t want the coordinates to be accidentally changed.\n",
        "\n",
        "Using a tuple signals that this data is constant and shouldn't be edited.\n",
        "\n",
        "If you had used a list like [27.1751, 78.0421], someone could later append or change one of the values, which would compromise the data integrity"
      ],
      "metadata": {
        "id": "OY_YHjPgekQP"
      }
    },
    {
      "cell_type": "markdown",
      "source": [
        "13.How do sets handle duplicate values in Python?\n",
        "\n",
        "In Python, sets automatically eliminate duplicate values—that’s one of their defining traits!\n",
        "\n",
        "When you create a set, any repeated items are discarded, leaving only unique elements. Here's a quick example to illustrate:\n",
        "\n",
        "python\n",
        "my_set = {1, 2, 2, 3, 4, 4, 4}\n",
        "print(my_set)"
      ],
      "metadata": {
        "id": "cZ9jYAkBe4J3"
      }
    },
    {
      "cell_type": "markdown",
      "source": [
        "14.How does the “in” keyword work differently for lists and dictionaries\n",
        "The in keyword in Python checks for membership, but it behaves differently depending on the data structure.\n",
        "\n",
        "🧺 For Lists\n",
        "When you use in with a list, it checks if a value exists in the list:\n",
        "\n",
        "python\n",
        "fruits = [\"apple\", \"banana\", \"cherry\"]\n",
        "print(\"banana\" in fruits)  # ✅ True\n",
        "print(\"grape\" in fruits)   # ❌ False\n",
        "It scans through each item in the list one by one.\n",
        "\n",
        "So it’s value-based and performs a linear search.\n",
        "\n",
        "🧭 For Dictionaries\n",
        "With dictionaries, in checks for the presence of keys only, not values:\n",
        "\n",
        "python\n",
        "person = {\"name\": \"Alice\", \"age\": 30}\n",
        "print(\"name\" in person)   # ✅ True\n",
        "print(\"Alice\" in person)  # ❌ False\n",
        "If you want to check for a value, you'd use .values():\n",
        "\n",
        "python\n",
        "print(\"Alice\" in person.values())  # ✅ True\n",
        "So it’s key-based and much faster, thanks to the underlying hash table."
      ],
      "metadata": {
        "id": "1jRKNdHAfCjT"
      }
    },
    {
      "cell_type": "markdown",
      "source": [
        "15.Can you modify the elements of a tuple? Explain why or why not\n",
        "\n",
        "Nope, you can’t modify the elements of a tuple in Python—and that’s by design.\n",
        "\n",
        "Tuples are immutable, which means that once they’re created, their contents (the items inside) are locked in place. You can’t add, remove, or change elements. So this:"
      ],
      "metadata": {
        "id": "HqclJZwOfMAQ"
      }
    },
    {
      "cell_type": "markdown",
      "source": [
        "16.What is a nested dictionary, and give an example of its use case\n",
        "\n",
        "A nested dictionary in Python is simply a dictionary inside another dictionary. It’s used when you want to store hierarchical or structured data—kind of like a database in miniature form.\n",
        "\n",
        "Here’s a common use case:\n",
        "\n",
        "🧑‍🎓 Student Records Example\n",
        "Suppose you’re managing student data for a school:\n",
        "\n",
        "python\n",
        "students = {\n",
        "    \"101\": {\n",
        "        \"name\": \"Aisha\",\n",
        "        \"grade\": \"A\",\n",
        "        \"courses\": [\"Math\", \"Biology\"]\n",
        "    },\n",
        "    \"102\": {\n",
        "        \"name\": \"Ravi\",\n",
        "        \"grade\": \"B+\",\n",
        "        \"courses\": [\"History\", \"Physics\"]\n",
        "    }\n",
        "}\n",
        "In this structure:\n",
        "\n",
        "Each student has a unique ID (\"101\", \"102\").\n",
        "\n",
        "Each ID maps to another dictionary containing that student’s name, grade, and course list.\n",
        "\n",
        "You can access values like: students[\"101\"][\"name\"] → \"Aisha\"\n",
        "\n",
        "Why Use It?\n",
        "It’s clean and scalable—especially useful when each “thing” (like a student, employee, or product) needs multiple pieces of information.\n",
        "\n",
        "Makes code more readable and avoids using awkward parallel lists or index-based hacks."
      ],
      "metadata": {
        "id": "8M4LqCBWfUpg"
      }
    },
    {
      "cell_type": "markdown",
      "source": [
        "17.Describe the time complexity of accessing elements in a dictionary\n",
        "Accessing elements in a Python dictionary using a key is extremely efficient—its average-case time complexity is O(1), also known as constant time.\n",
        "\n",
        "Why is it so fast?\n",
        "Python dictionaries are implemented using hash tables. When you access an element like this:\n",
        "\n",
        "python\n",
        "my_dict = {\"name\": \"Aisha\", \"age\": 28}\n",
        "print(my_dict[\"age\"])\n",
        "Python:\n",
        "\n",
        "Applies a hash function to the key \"age\" to get a numeric hash.\n",
        "\n",
        "Uses this hash to directly find the location in memory where the value is stored.\n",
        "\n",
        "Returns the associated value without scanning through every item.\n",
        "\n",
        "What about worst-case time?\n",
        "In rare situations—like when many keys hash to the same slot (a collision)—access can degrade to O(n). But thanks to Python's efficient collision-handling and dynamic resizing, that’s extremely uncommon in practice.\n",
        "\n",
        "So in everyday use, Python dictionaries give you lightning-fast access with nearly constant performance—perfect for lookup-heavy tasks like caching, indexing, or counting.\n",
        "\n",
        "Would you like to see how dictionary access compares with list lookup in terms of speed or implementation?\n",
        "\n"
      ],
      "metadata": {
        "id": "nFNefA2ffeer"
      }
    },
    {
      "cell_type": "markdown",
      "source": [
        "18. In what situations are lists preferred over dictionaries\n",
        "Lists are often the go-to data structure when order and sequence matter, or when you're dealing with collections of similar items that don't need explicit labels. Here are some clear-cut situations where lists outshine dictionaries:"
      ],
      "metadata": {
        "id": "RFeNkS4Ofu0z"
      }
    },
    {
      "cell_type": "markdown",
      "source": [
        "19.Why are dictionaries considered unordered, and how does that affect data retrieval\n",
        "Historically, dictionaries in Python were considered unordered because they didn’t preserve the order in which key-value pairs were inserted. This meant that when you iterated over a dictionary, items could come out in any sequence—making it unpredictable for tasks where order mattered.\n",
        "\n",
        "However, starting with Python 3.7, dictionaries officially maintain insertion order as part of the language specification. That means if you create a dictionary like this:\n",
        "\n",
        "python"
      ],
      "metadata": {
        "id": "P6WVuHaggHQr"
      }
    },
    {
      "cell_type": "markdown",
      "source": [
        "20.Explain the difference between a list and a dictionary in terms of data retrieval.\n",
        "\n",
        "The difference between a list and a dictionary in terms of data retrieval boils down to how you access data and what you're retrieving it by:\n",
        "\n",
        "🔢 Lists: Access by Index\n",
        "Lists are ordered collections of items.\n",
        "\n",
        "You retrieve values based on their position in the list (starting from index 0).\n",
        "\n",
        "python\n",
        "fruits = [\"apple\", \"banana\", \"cherry\"]\n",
        "print(fruits[1])  # \"banana\" — retrieved by index\n",
        "✅ Best when you care about the sequence of items.\n",
        "\n",
        "❌ Not ideal for labeled or named access.\n",
        "\n",
        "🗂️ Dictionaries: Access by Key\n",
        "Dictionaries are unordered mappings of key-value pairs (though they preserve insertion order since Python 3.7).\n",
        "\n",
        "You retrieve values by unique keys, not by index.\n",
        "\n",
        "python\n",
        "person = {\"name\": \"Ravi\", \"age\": 25}\n",
        "print(person[\"name\"])  # \"Ravi\" — retrieved by key\n",
        "✅ Best when data has meaningful labels.\n",
        "\n",
        "❌ You can't do person[0] — dictionaries don’t support positional access.\n",
        "\n",
        "⏱️ Bonus: Lookup Performance\n",
        "Dictionary lookups are typically O(1) — very fast because of hashing.\n",
        "\n",
        "List lookups by index are also O(1), but searching for a specific value (e.g., \"banana\" in fruits) is O(n) — slower as the list grows."
      ],
      "metadata": {
        "id": "E66iNPb6gVET"
      }
    },
    {
      "cell_type": "code",
      "source": [
        "#1.Write a code to create a string with your name and print it\n",
        "name = \"Razi Rahman\"\n",
        "print(name)\n"
      ],
      "metadata": {
        "colab": {
          "base_uri": "https://localhost:8080/"
        },
        "id": "Uxey9PD8goce",
        "outputId": "d8d207c2-3520-4317-e5b0-b12dbbbab8db"
      },
      "execution_count": null,
      "outputs": [
        {
          "output_type": "stream",
          "name": "stdout",
          "text": [
            "Razi Rahman\n"
          ]
        }
      ]
    },
    {
      "cell_type": "code",
      "source": [
        "#2Write a code to find the length of the string \"Hello World\"\n",
        "text = \"Hello World\"\n",
        "length = len(text)\n",
        "print(\"Length of the string:\", length)\n"
      ],
      "metadata": {
        "colab": {
          "base_uri": "https://localhost:8080/"
        },
        "id": "FV-FG_Dwgw8P",
        "outputId": "a654ddc2-e534-4b27-cfa2-81cbcc609975"
      },
      "execution_count": null,
      "outputs": [
        {
          "output_type": "stream",
          "name": "stdout",
          "text": [
            "Length of the string: 11\n"
          ]
        }
      ]
    },
    {
      "cell_type": "code",
      "source": [
        "#3 Write a code to slice the first 3 characters from the string \"Python Programming\"\n",
        "\n",
        "text = \"Python Programming\"\n",
        "sliced = text[:3]\n",
        "print(sliced)\n"
      ],
      "metadata": {
        "colab": {
          "base_uri": "https://localhost:8080/"
        },
        "id": "rUUxrsN6g5UR",
        "outputId": "e9aa11c8-cf67-476e-e05a-a398225069dc"
      },
      "execution_count": null,
      "outputs": [
        {
          "output_type": "stream",
          "name": "stdout",
          "text": [
            "Pyt\n"
          ]
        }
      ]
    },
    {
      "cell_type": "code",
      "source": [
        "# 3.Write a code to convert the string \"hello\" to uppercase\n",
        "text = \"hello\"\n",
        "uppercase_text = text.upper()\n",
        "print(uppercase_text)\n"
      ],
      "metadata": {
        "colab": {
          "base_uri": "https://localhost:8080/"
        },
        "id": "PXeWZ9aRg-Mw",
        "outputId": "7bfd1d4a-8b2c-40c3-973a-28520d8b4bae"
      },
      "execution_count": null,
      "outputs": [
        {
          "output_type": "stream",
          "name": "stdout",
          "text": [
            "HELLO\n"
          ]
        }
      ]
    },
    {
      "cell_type": "code",
      "source": [
        "#4 Write a code to replace the word \"apple\" with \"orange\" in the string \"I like apple\n",
        "text = \"I like apple\"\n",
        "new_text = text.replace(\"apple\", \"orange\")\n",
        "print(new_text)\n"
      ],
      "metadata": {
        "colab": {
          "base_uri": "https://localhost:8080/"
        },
        "id": "gwWCwQhHhEqg",
        "outputId": "85a9be0e-7e46-4031-e4aa-403c465571b2"
      },
      "execution_count": null,
      "outputs": [
        {
          "output_type": "stream",
          "name": "stdout",
          "text": [
            "I like orange\n"
          ]
        }
      ]
    },
    {
      "cell_type": "code",
      "source": [
        "#6.Write a code to create a list with numbers 1 to 5 and print it\n",
        "numbers = list(range(1, 6))\n",
        "print(numbers)\n"
      ],
      "metadata": {
        "colab": {
          "base_uri": "https://localhost:8080/"
        },
        "id": "il6u3-NAhWvy",
        "outputId": "36eab614-5d2e-46cd-9b2e-ea11523c47d8"
      },
      "execution_count": null,
      "outputs": [
        {
          "output_type": "stream",
          "name": "stdout",
          "text": [
            "[1, 2, 3, 4, 5]\n"
          ]
        }
      ]
    },
    {
      "cell_type": "code",
      "source": [
        "#7. Write a code to append the number 10 to the list [1, 2, 3, 4]\n",
        "numbers = [1, 2, 3, 4]\n",
        "numbers.append(10)\n",
        "print(numbers)\n"
      ],
      "metadata": {
        "colab": {
          "base_uri": "https://localhost:8080/"
        },
        "id": "7oFsQ64GhfmD",
        "outputId": "808fcec0-52f6-4e5a-f6f3-2d3d256678d9"
      },
      "execution_count": null,
      "outputs": [
        {
          "output_type": "stream",
          "name": "stdout",
          "text": [
            "[1, 2, 3, 4, 10]\n"
          ]
        }
      ]
    },
    {
      "cell_type": "code",
      "source": [
        "#8. Write a code to remove the number 3 from the list [1, 2, 3, 4, 5]\n",
        "\n",
        "numbers = [1, 2, 3, 4, 5]\n",
        "numbers.remove(3)\n",
        "print(numbers)\n"
      ],
      "metadata": {
        "colab": {
          "base_uri": "https://localhost:8080/"
        },
        "id": "utWjC2amhlE3",
        "outputId": "08843bd1-31fd-4027-9d98-f3af1e63ee96"
      },
      "execution_count": null,
      "outputs": [
        {
          "output_type": "stream",
          "name": "stdout",
          "text": [
            "[1, 2, 4, 5]\n"
          ]
        }
      ]
    },
    {
      "cell_type": "code",
      "source": [
        "#9.Write a code to access the second element in the list ['a', 'b', 'c', 'd']\n",
        "my_list = ['a', 'b', 'c', 'd']\n",
        "second_element = my_list[1]\n",
        "print(second_element)"
      ],
      "metadata": {
        "colab": {
          "base_uri": "https://localhost:8080/"
        },
        "id": "XYcE44TbrBHz",
        "outputId": "5bca6595-260e-47db-b4d3-76f337d8ac4d"
      },
      "execution_count": 1,
      "outputs": [
        {
          "output_type": "stream",
          "name": "stdout",
          "text": [
            "b\n"
          ]
        }
      ]
    },
    {
      "cell_type": "code",
      "source": [
        "#10.Write a code to reverse the list [10, 20, 30, 40, 50].\n",
        "\n",
        "numbers = [10, 20, 30, 40, 50]\n",
        "reversed_list = numbers[::-1]\n",
        "print(reversed_list)"
      ],
      "metadata": {
        "colab": {
          "base_uri": "https://localhost:8080/"
        },
        "id": "CU1wWrZFrSfT",
        "outputId": "bc648b7d-3343-4b24-b945-78c2d945f78c"
      },
      "execution_count": 2,
      "outputs": [
        {
          "output_type": "stream",
          "name": "stdout",
          "text": [
            "[50, 40, 30, 20, 10]\n"
          ]
        }
      ]
    },
    {
      "cell_type": "code",
      "source": [
        "#11.Write a code to create a tuple with the elements 100, 200, 300 and print it\n",
        "my_tuple = (100, 200, 300)\n",
        "print(my_tuple)\n"
      ],
      "metadata": {
        "colab": {
          "base_uri": "https://localhost:8080/"
        },
        "id": "kLYAMDKErcaK",
        "outputId": "461ccd60-fe16-47b6-d96a-0603ac1390dc"
      },
      "execution_count": 3,
      "outputs": [
        {
          "output_type": "stream",
          "name": "stdout",
          "text": [
            "(100, 200, 300)\n"
          ]
        }
      ]
    },
    {
      "cell_type": "code",
      "source": [
        "#12. Write a code to access the second-to-last element of the tuple ('red', 'green', 'blue', 'yellow').\n",
        "colors = ('red', 'green', 'blue', 'yellow')\n",
        "second_to_last = colors[-2]\n",
        "print(second_to_last)\n"
      ],
      "metadata": {
        "colab": {
          "base_uri": "https://localhost:8080/"
        },
        "id": "sueEpzcArmrl",
        "outputId": "cb8bc448-a6ed-4893-f0d1-4ee970303c8f"
      },
      "execution_count": 4,
      "outputs": [
        {
          "output_type": "stream",
          "name": "stdout",
          "text": [
            "blue\n"
          ]
        }
      ]
    },
    {
      "cell_type": "code",
      "source": [
        "#13.Write a code to find the minimum number in the tuple (10, 20, 5, 15)\n",
        "numbers = (10, 20, 5, 15)\n",
        "min_value = min(numbers)\n",
        "print(min_value)\n"
      ],
      "metadata": {
        "colab": {
          "base_uri": "https://localhost:8080/"
        },
        "id": "jq23GACorwvH",
        "outputId": "c7df7a5e-e41e-4a6b-a983-72043765f27d"
      },
      "execution_count": 5,
      "outputs": [
        {
          "output_type": "stream",
          "name": "stdout",
          "text": [
            "5\n"
          ]
        }
      ]
    },
    {
      "cell_type": "code",
      "source": [
        "#14.Write a code to find the index of the element \"cat\" in the tuple ('dog', 'cat', 'rabbit')\n",
        "animals = ('dog', 'cat', 'rabbit')\n",
        "index_of_cat = animals.index('cat')\n",
        "print(index_of_cat)\n"
      ],
      "metadata": {
        "colab": {
          "base_uri": "https://localhost:8080/"
        },
        "id": "oAnVf3sOr0rC",
        "outputId": "d69b8510-3e29-4c97-a6d0-591ae4fd5239"
      },
      "execution_count": 7,
      "outputs": [
        {
          "output_type": "stream",
          "name": "stdout",
          "text": [
            "1\n"
          ]
        }
      ]
    },
    {
      "cell_type": "code",
      "source": [
        "#15.Write a code to create a tuple containing three different fruits and check if \"kiwi\" is in it.\n",
        "\n",
        "fruits = ('apple', 'banana', 'orange')\n",
        "is_kiwi_present = 'kiwi' in fruits\n",
        "print(is_kiwi_present)\n"
      ],
      "metadata": {
        "colab": {
          "base_uri": "https://localhost:8080/"
        },
        "id": "y6R8QR5msCBr",
        "outputId": "028f93bf-5c5f-4ef0-9037-180ca46ee2d9"
      },
      "execution_count": 9,
      "outputs": [
        {
          "output_type": "stream",
          "name": "stdout",
          "text": [
            "False\n"
          ]
        }
      ]
    },
    {
      "cell_type": "code",
      "source": [
        "# 16. Write a code to create a set with the elements 'a', 'b', 'c' and print it.\n",
        "my_set = {'a', 'b', 'c'}\n",
        "print(my_set)\n"
      ],
      "metadata": {
        "colab": {
          "base_uri": "https://localhost:8080/"
        },
        "id": "Nbb2osinsQxO",
        "outputId": "b3215a35-6ac8-4a76-cadd-0c74798aaa8c"
      },
      "execution_count": 10,
      "outputs": [
        {
          "output_type": "stream",
          "name": "stdout",
          "text": [
            "{'b', 'a', 'c'}\n"
          ]
        }
      ]
    },
    {
      "cell_type": "code",
      "source": [
        "#17 Write a code to clear all elements from the set {1, 2, 3, 4, 5}.\n",
        "my_set = {1, 2, 3, 4, 5}\n",
        "my_set.clear()\n",
        "print(my_set)\n"
      ],
      "metadata": {
        "colab": {
          "base_uri": "https://localhost:8080/"
        },
        "id": "nbd-4VbZsWO-",
        "outputId": "ee1be6ba-1e9b-4e04-f32c-11eb5c6a03a1"
      },
      "execution_count": 11,
      "outputs": [
        {
          "output_type": "stream",
          "name": "stdout",
          "text": [
            "set()\n"
          ]
        }
      ]
    },
    {
      "cell_type": "code",
      "source": [
        "# 18. Write a code to remove the element 4 from the set {1, 2, 3, 4}.\n",
        "my_set = {1, 2, 3, 4}\n",
        "my_set.remove(4)\n",
        "print(my_set)\n"
      ],
      "metadata": {
        "colab": {
          "base_uri": "https://localhost:8080/"
        },
        "id": "WH8zT8QAshBG",
        "outputId": "77391622-5fe6-4709-caf3-4634d019f51d"
      },
      "execution_count": 12,
      "outputs": [
        {
          "output_type": "stream",
          "name": "stdout",
          "text": [
            "{1, 2, 3}\n"
          ]
        }
      ]
    },
    {
      "cell_type": "code",
      "source": [
        "#19. Write a code to find the union of two sets {1, 2, 3} and {3, 4, 5}\n",
        "set1 = {1, 2, 3}\n",
        "set2 = {3, 4, 5}\n",
        "\n",
        "union_set = set1.union(set2)\n",
        "print(union_set)\n"
      ],
      "metadata": {
        "colab": {
          "base_uri": "https://localhost:8080/"
        },
        "id": "bf_BJvNRsw0G",
        "outputId": "d0047a1b-7a45-4a5d-c663-03eecb3400aa"
      },
      "execution_count": 13,
      "outputs": [
        {
          "output_type": "stream",
          "name": "stdout",
          "text": [
            "{1, 2, 3, 4, 5}\n"
          ]
        }
      ]
    },
    {
      "cell_type": "code",
      "source": [
        "#20.Write a code to find the intersection of two sets {1, 2, 3} and {2, 3, 4}\n",
        "set1 = {1, 2, 3}\n",
        "set2 = {2, 3, 4}\n",
        "\n",
        "intersection_set = set1.intersection(set2)\n",
        "print(intersection_set)\n"
      ],
      "metadata": {
        "colab": {
          "base_uri": "https://localhost:8080/"
        },
        "id": "EhUSIT3is6Jg",
        "outputId": "5d6c1a8d-fc1b-4818-8b07-3134e8f94e18"
      },
      "execution_count": 14,
      "outputs": [
        {
          "output_type": "stream",
          "name": "stdout",
          "text": [
            "{2, 3}\n"
          ]
        }
      ]
    },
    {
      "cell_type": "code",
      "source": [
        "#21.Write a code to create a dictionary with the keys \"name\", \"age\", and \"city\", and print it.\n",
        "person_info = {\n",
        "    \"name\": \"Alice\",\n",
        "    \"age\": 28,\n",
        "    \"city\": \"Mumbai\"\n",
        "}\n",
        "print(person_info)\n"
      ],
      "metadata": {
        "colab": {
          "base_uri": "https://localhost:8080/"
        },
        "id": "F7k-r7UetGey",
        "outputId": "b3d40d4a-7f02-4119-8ebb-1dc2f442cd74"
      },
      "execution_count": 15,
      "outputs": [
        {
          "output_type": "stream",
          "name": "stdout",
          "text": [
            "{'name': 'Alice', 'age': 28, 'city': 'Mumbai'}\n"
          ]
        }
      ]
    },
    {
      "cell_type": "code",
      "source": [
        "#22. Write a code to add a new key-value pair \"country\": \"USA\" to the dictionary {'name': 'John', 'age': 25}.\n",
        "person = {'name': 'John', 'age': 25}\n",
        "person['country'] = 'USA'\n",
        "print(person)\n"
      ],
      "metadata": {
        "colab": {
          "base_uri": "https://localhost:8080/"
        },
        "id": "41Mk9zBuH-Yp",
        "outputId": "2bbce03f-52f0-46fa-8b42-8e5e6cc44ad9"
      },
      "execution_count": 1,
      "outputs": [
        {
          "output_type": "stream",
          "name": "stdout",
          "text": [
            "{'name': 'John', 'age': 25, 'country': 'USA'}\n"
          ]
        }
      ]
    },
    {
      "cell_type": "code",
      "source": [
        " #23. Write a code to access the value associated with the key \"name\" in the dictionary {'name': 'Alice', 'age': 30}\n",
        "person = {'name': 'Alice', 'age': 30}\n",
        "value = person['name']\n",
        "print(value)\n",
        "\n"
      ],
      "metadata": {
        "colab": {
          "base_uri": "https://localhost:8080/"
        },
        "id": "ecLt1yMsIRK9",
        "outputId": "7f1c7056-fb09-4cbf-98f2-09c6e387ecb1"
      },
      "execution_count": 2,
      "outputs": [
        {
          "output_type": "stream",
          "name": "stdout",
          "text": [
            "Alice\n"
          ]
        }
      ]
    },
    {
      "cell_type": "code",
      "source": [
        "#24. Write a code to remove the key \"age\" from the dictionary {'name': 'Bob', 'age': 22, 'city': 'New York'}.\n",
        "person = {'name': 'Bob', 'age': 22, 'city': 'New York'}\n",
        "del person['age']\n",
        "print(person)\n"
      ],
      "metadata": {
        "colab": {
          "base_uri": "https://localhost:8080/"
        },
        "id": "TidOf9qBIi-V",
        "outputId": "2ee3909f-b25e-4d07-f75e-85644f1af4a2"
      },
      "execution_count": 3,
      "outputs": [
        {
          "output_type": "stream",
          "name": "stdout",
          "text": [
            "{'name': 'Bob', 'city': 'New York'}\n"
          ]
        }
      ]
    },
    {
      "cell_type": "code",
      "source": [
        "# 25. Write a code to check if the key \"city\" exists in the dictionary {'name': 'Alice', 'city': 'Paris'}.\n",
        "person = {'name': 'Alice', 'city': 'Paris'}\n",
        "has_city = 'city' in person\n",
        "print(has_city)\n"
      ],
      "metadata": {
        "colab": {
          "base_uri": "https://localhost:8080/"
        },
        "id": "pYb53WF0IrQ9",
        "outputId": "75cd2f1a-2ab6-4696-e09c-aea2e6d69262"
      },
      "execution_count": 4,
      "outputs": [
        {
          "output_type": "stream",
          "name": "stdout",
          "text": [
            "True\n"
          ]
        }
      ]
    },
    {
      "cell_type": "code",
      "source": [
        "# 26. Write a code to create a list, a tuple, and a dictionary, and print them all.\n",
        "# Create a list\n",
        "my_list = [1, 2, 3, 4]\n",
        "\n",
        "# Create a tuple\n",
        "my_tuple = ('apple', 'banana', 'cherry')\n",
        "\n",
        "# Create a dictionary\n",
        "my_dict = {'name': 'Ravi', 'age': 25, 'city': 'Delhi'}\n",
        "\n",
        "# Print them all\n",
        "print(\"List:\", my_list)\n",
        "print(\"Tuple:\", my_tuple)\n",
        "print(\"Dictionary:\", my_dict)\n"
      ],
      "metadata": {
        "colab": {
          "base_uri": "https://localhost:8080/"
        },
        "id": "HN8xbliJIzRt",
        "outputId": "03d41016-8372-4a58-8a77-570fb751ad0d"
      },
      "execution_count": 5,
      "outputs": [
        {
          "output_type": "stream",
          "name": "stdout",
          "text": [
            "List: [1, 2, 3, 4]\n",
            "Tuple: ('apple', 'banana', 'cherry')\n",
            "Dictionary: {'name': 'Ravi', 'age': 25, 'city': 'Delhi'}\n"
          ]
        }
      ]
    },
    {
      "cell_type": "code",
      "source": [
        "#27. Write a code to create a list of 5 random numbers between 1 and 100, sort it in ascending order, and print the result.(replaced)\n",
        "import random\n",
        "\n",
        "# Create a list of 5 random numbers between 1 and 100\n",
        "random_numbers = [random.randint(1, 100) for _ in range(5)]\n",
        "\n",
        "# Sort the list in ascending order\n",
        "random_numbers.sort()\n",
        "\n",
        "# Print the result\n",
        "print(random_numbers)\n"
      ],
      "metadata": {
        "colab": {
          "base_uri": "https://localhost:8080/"
        },
        "id": "n7iV5-pcJIDA",
        "outputId": "30028a90-3a4c-43dc-e8a6-e17051fe6af1"
      },
      "execution_count": 6,
      "outputs": [
        {
          "output_type": "stream",
          "name": "stdout",
          "text": [
            "[8, 13, 24, 65, 72]\n"
          ]
        }
      ]
    },
    {
      "cell_type": "code",
      "source": [
        "#28. Write a code to create a list with strings and print the element at the third index.\n",
        "# Create a list of strings\n",
        "my_strings = ['apple', 'banana', 'cherry', 'date', 'elderberry']\n",
        "\n",
        "# Print the element at the third index (remember, indexing starts from 0)\n",
        "print(my_strings[3])\n"
      ],
      "metadata": {
        "colab": {
          "base_uri": "https://localhost:8080/"
        },
        "id": "6tC-qi1YJPRN",
        "outputId": "7e68dee4-2dc4-4341-9d93-810714f8ae27"
      },
      "execution_count": 7,
      "outputs": [
        {
          "output_type": "stream",
          "name": "stdout",
          "text": [
            "date\n"
          ]
        }
      ]
    },
    {
      "cell_type": "code",
      "source": [
        "# 29. Write a code to combine two dictionaries into one and print the result.\n",
        "dict1 = {'name': 'Alice', 'age': 30}\n",
        "dict2 = {'city': 'Paris', 'country': 'France'}\n",
        "\n",
        "# Combine the dictionaries\n",
        "combined_dict = {**dict1, **dict2}\n",
        "\n",
        "# Print the result\n",
        "print(combined_dict)\n"
      ],
      "metadata": {
        "colab": {
          "base_uri": "https://localhost:8080/"
        },
        "id": "2PYu1qJZJq4l",
        "outputId": "1e15345c-d24c-4fc4-c06e-2f1d8bd0f5e9"
      },
      "execution_count": 8,
      "outputs": [
        {
          "output_type": "stream",
          "name": "stdout",
          "text": [
            "{'name': 'Alice', 'age': 30, 'city': 'Paris', 'country': 'France'}\n"
          ]
        }
      ]
    },
    {
      "cell_type": "code",
      "source": [
        "# 30. Write a code to convert a list of strings into a set.\n",
        "# Create a list of strings\n",
        "string_list = ['apple', 'banana', 'apple', 'cherry']\n",
        "\n",
        "# Convert the list into a set\n",
        "string_set = set(string_list)\n",
        "\n",
        "# Print the set\n",
        "print(string_set)\n"
      ],
      "metadata": {
        "colab": {
          "base_uri": "https://localhost:8080/"
        },
        "id": "AtQNv4buJvdZ",
        "outputId": "bf5971f3-d445-4cb5-c4f3-077ca6e8b17b"
      },
      "execution_count": 9,
      "outputs": [
        {
          "output_type": "stream",
          "name": "stdout",
          "text": [
            "{'banana', 'apple', 'cherry'}\n"
          ]
        }
      ]
    }
  ]
}