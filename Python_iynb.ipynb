{
  "nbformat": 4,
  "nbformat_minor": 0,
  "metadata": {
    "colab": {
      "provenance": []
    },
    "kernelspec": {
      "name": "python3",
      "display_name": "Python 3"
    },
    "language_info": {
      "name": "python"
    }
  },
  "cells": [
    {
      "cell_type": "code",
      "execution_count": null,
      "metadata": {
        "id": "ZPS1wfxhFLth"
      },
      "outputs": [],
      "source": []
    },
    {
      "cell_type": "markdown",
      "source": [],
      "metadata": {
        "id": "akET9AtWFc0T"
      }
    },
    {
      "cell_type": "code",
      "source": [],
      "metadata": {
        "id": "RYUjzKypFdLP"
      },
      "execution_count": null,
      "outputs": []
    },
    {
      "cell_type": "markdown",
      "source": [
        " 1.What is Python, and why is it popular\n",
        "    .Python is a high-level, general-purpose programming language known for its simplicity and readability\n",
        "    Ease of learning\n",
        "    Versatility\n",
        "    Strong Community Support\n",
        "    Its widespread adoption in machine learning, data science, and web development has further solidified Python as one of the most in-demand programming languages.\n",
        "2. What is an interpreter in Python\n",
        "    An interpreter in Python is a program that reads and executes Python code line by line, rather than compiling the entire program beforehand like a compiler does. This allows Python to be more interactive and flexible.\n",
        "3.What are pre-defined keywords in Python\n",
        "    In Python, pre-defined keywords are reserved words that have specific meanings and cannot be used as variable names.\n",
        "      1.If,Else,Elif - Used for conditional\n",
        "      2.for while ,break - control loops and iteration .\n",
        "    Python has around 35 keyword\n",
        "\n",
        "4.Can keywords be used as variable names\n",
        "    no\n",
        "\n",
        "5. What is mutability in Python\n",
        "    In Python, mutability refers to whether an object's state can be changed after it is created.\n",
        "\n",
        "    Mutable vs Immutable Objects\n",
        "    Mutable Objects – Can be modified after creation.\n",
        "    Examples: list, dict, set\n",
        "    Examples: int, float, str, tuple\n",
        "6. Why are lists mutable, but tuples are immutable\n",
        "\n",
        "    Lists are designed for dynamic data—you can add, remove, or modify elements.\n",
        "\n",
        "    They store references to objects, meaning you can change the contents without creating a new list\n",
        "\n",
        "    Tuples are optimized for fixed data—once created, their contents cannot be changed.\n",
        "\n",
        "    Tuples are optimized for fixed data—once created, their contents cannot be changed.\n",
        "\n",
        "    They store references to objects, but unlike lists, they do not allow modifications.\n",
        "\n",
        "7.What is the difference between “==” and “is” operators in Python\n",
        "    == is used to compare the values\n",
        "    Is is used to compare the value as well as object\n",
        "8.What are logical operators in Python\n",
        "    Logical operators in Python are used to combine conditional statements and evaluate expressions based on Boolean logic.\n",
        "      1.AND\n",
        "      2.OR\n",
        "      3.Not\n",
        "\n",
        "9.What is type casting in Python\n",
        "    Type casting in Python is the process of converting one data type into another. It can be done in two way\n",
        "      1. Implicit Type Casting\n",
        "        Python automatically converts one data type to another when needed.\n",
        "      2.Explicit Type Casting\n",
        "        The programmer manually converts data types using built-in functions.\n",
        "10.What is the difference between implicit and explicit type casting\n",
        "        1. Implicit Type Casting\n",
        "        Python automatically converts one data type to another when needed.\n",
        "        2.Explicit Type Casting\n",
        "        The programmer manually converts data types using built-in functions.\n",
        "11. What is the purpose of conditional statements in Python\n",
        "        Conditional statements in Python are used to control the flow of execution based on specific conditions. They allow a program to make decisions and execute different blocks of code depending on whether a condition evaluates to True or False.\n",
        "12.How does the elif statement work\n",
        "    \n",
        "      Efficiency – Once a condition is True, Python skips the rest.\n",
        "\n",
        "  Efficiency – Once a condition is True, Python skips the rest.\n",
        "\n",
        "  Better Readability – Avoids unnecessary checks and makes code cleaner.\n",
        "\n",
        "  Logical Flow – Ensures only one block executes.\n",
        "13.What is the difference between for and while loop\n",
        "    The difference between for and while loops in Python comes down to how they iterate and when they stop.\n",
        "\n",
        "    The difference between for and while loops in Python comes down to how they iterate and when they stop.\n",
        "\n",
        "    1. for Loop\n",
        "    Used when you know the number of iterations in advance.\n",
        "\n",
        "    Iterates over a sequence (list, tuple, range, etc.).\n",
        "\n",
        "    Example:\n",
        "\n",
        "    python\n",
        "    for i in range(5):  # Runs exactly 5 times\n",
        "        print(i)\n",
        "    Best for iterating over collections or fixed ranges.\n",
        "\n",
        "    2. while Loop\n",
        "    Used when you don’t know the number of iterations beforehand.\n",
        "\n",
        "    Runs as long as a condition remains True.\n",
        "\n",
        "    Example:\n",
        "\n",
        "    python\n",
        "    x = 0\n",
        "    while x < 5:  # Runs until x reaches 5\n",
        "        print(x)\n",
        "        x += 1\n",
        "    Best for indefinite loops where the stopping condition depends on runtime logic.\n",
        "\n",
        "14.Describe a scenario where a while loop is more suitable than a for loop.\n",
        "\n",
        "    A while loop is more suitable when the number of iterations is not predetermined and depends on a condition that changes dynamically\n",
        "    \n"
      ],
      "metadata": {
        "id": "JZ9bPKSqFjm3"
      }
    },
    {
      "cell_type": "code",
      "source": [
        "   # Write a Python program to print \"Hello, World!\n",
        "\n",
        "print(\"Hello, World\")\n"
      ],
      "metadata": {
        "colab": {
          "base_uri": "https://localhost:8080/"
        },
        "id": "stLUwDIvIQxv",
        "outputId": "47e8bc93-4951-47b4-a236-fb8389c02caf"
      },
      "execution_count": null,
      "outputs": [
        {
          "output_type": "stream",
          "name": "stdout",
          "text": [
            "Hello, World\n"
          ]
        }
      ]
    },
    {
      "cell_type": "code",
      "source": [
        "# Write a Python program that displays your name and age\n",
        "name =input(\"Enter your  Name\")\n",
        "age =int(input(\"enter yout age\"))\n",
        "\n",
        "print(f\"{name} age is {age}\")\n",
        "\n"
      ],
      "metadata": {
        "id": "cSe0_21SJ9jr",
        "colab": {
          "base_uri": "https://localhost:8080/"
        },
        "outputId": "5b1f7f52-4fc8-46a2-afbc-e4c45c807616"
      },
      "execution_count": null,
      "outputs": [
        {
          "output_type": "stream",
          "name": "stdout",
          "text": [
            "Enter your  NameRazi Rahman\n",
            "enter yout age23\n",
            "Razi Rahman age is 23\n"
          ]
        }
      ]
    },
    {
      "cell_type": "code",
      "source": [
        "#Write code to print all the pre-defined keywords in Python using the keyword library\n",
        "import keyword\n",
        "\n",
        "# Print all Python keywords\n",
        "print(\"Python Keywords:\")\n",
        "print(keyword.kwlist)\n"
      ],
      "metadata": {
        "colab": {
          "base_uri": "https://localhost:8080/"
        },
        "id": "IxYvGYzFtBXB",
        "outputId": "8d0268f1-8e2d-4d2e-f002-ddcdb1b2f6bd"
      },
      "execution_count": null,
      "outputs": [
        {
          "output_type": "stream",
          "name": "stdout",
          "text": [
            "Python Keywords:\n",
            "['False', 'None', 'True', 'and', 'as', 'assert', 'async', 'await', 'break', 'class', 'continue', 'def', 'del', 'elif', 'else', 'except', 'finally', 'for', 'from', 'global', 'if', 'import', 'in', 'is', 'lambda', 'nonlocal', 'not', 'or', 'pass', 'raise', 'return', 'try', 'while', 'with', 'yield']\n"
          ]
        }
      ]
    },
    {
      "cell_type": "code",
      "source": [
        "\n",
        "# Write a program that checks if a given word is a Python keyword.\n",
        "import keyword\n",
        "\n",
        "# Function to check if a word is a Python keyword\n",
        "def check_keyword(word):\n",
        "    if keyword.iskeyword(word):\n",
        "        print(f\"'{word}' is a Python keyword.\")\n",
        "    else:\n",
        "        print(f\"'{word}' is NOT a Python keyword.\")\n",
        "\n",
        "# Example usage\n",
        "word = input(\"Enter a word to check: \")\n",
        "check_keyword(word)\n"
      ],
      "metadata": {
        "colab": {
          "base_uri": "https://localhost:8080/"
        },
        "id": "zefYj7OPtQL8",
        "outputId": "6d02a2b2-9cf2-45d0-afd5-929ac9a1dcb1"
      },
      "execution_count": null,
      "outputs": [
        {
          "output_type": "stream",
          "name": "stdout",
          "text": [
            "Enter a word to check: int\n",
            "'int' is NOT a Python keyword.\n"
          ]
        }
      ]
    },
    {
      "cell_type": "code",
      "source": [
        "#Create a list and tuple in Python, and demonstrate how attempting to change an element works differently\n",
        "# Creating a list\n",
        "my_list = [1, 2, 3]\n",
        "print(\"Original list:\", my_list)\n",
        "\n",
        "# Changing an element in the list\n",
        "my_list[1] = 99  # Modifying the second element\n",
        "print(\"Modified list:\", my_list)\n",
        "\n",
        "# Creating a tuple\n",
        "my_tuple = (1, 2, 3)\n",
        "print(\"Original tuple:\", my_tuple)\n",
        "\n",
        "# Attempting to change an element in the tuple\n",
        "try:\n",
        "    my_tuple[1] = 99  # This will raise an error\n",
        "except TypeError as e:\n",
        "    print(\"Error:\", e)\n"
      ],
      "metadata": {
        "colab": {
          "base_uri": "https://localhost:8080/"
        },
        "id": "8yQCFqq5trgR",
        "outputId": "2824f5e0-0fb2-4e89-c795-d17e7be3e663"
      },
      "execution_count": null,
      "outputs": [
        {
          "output_type": "stream",
          "name": "stdout",
          "text": [
            "Original list: [1, 2, 3]\n",
            "Modified list: [1, 99, 3]\n",
            "Original tuple: (1, 2, 3)\n",
            "Error: 'tuple' object does not support item assignment\n"
          ]
        }
      ]
    },
    {
      "cell_type": "code",
      "source": [
        "# Write a function to demonstrate the behavior of mutable and immutable arguments\n",
        "\n",
        "def modify_arguments(immutable_arg, mutable_arg):\n",
        "    print(\"Inside function before modification:\")\n",
        "    print(\"Immutable argument:\", immutable_arg)\n",
        "    print(\"Mutable argument:\", mutable_arg)\n",
        "\n",
        "    # Attempt to modify the immutable argument (integer)\n",
        "    immutable_arg += 10  # Creates a new integer object\n",
        "\n",
        "    # Modify the mutable argument (list)\n",
        "    mutable_arg.append(99)  # Alters the existing list object\n",
        "\n",
        "    print(\"Inside function after modification:\")\n",
        "    print(\"Immutable argument:\", immutable_arg)\n",
        "    print(\"Mutable argument:\", mutable_arg)\n",
        "\n",
        "# Defining an integer (immutable) and a list (mutable)\n",
        "immutable_value = 5\n",
        "mutable_list = [1, 2, 3]\n",
        "\n",
        "print(\"Before function call:\")\n",
        "print(\"Immutable argument:\", immutable_value)\n",
        "print(\"Mutable argument:\", mutable_list)\n",
        "\n",
        "modify_arguments(immutable_value, mutable_list)\n",
        "\n",
        "print(\"After function call:\")\n",
        "print(\"Immutable argument:\", immutable_value)  # Unchanged\n",
        "print(\"Mutable argument:\", mutable_list)  # Changed\n"
      ],
      "metadata": {
        "colab": {
          "base_uri": "https://localhost:8080/"
        },
        "id": "qKz6BF3cuBMr",
        "outputId": "fd337e9c-6082-4658-a887-eff16c4c05f7"
      },
      "execution_count": null,
      "outputs": [
        {
          "output_type": "stream",
          "name": "stdout",
          "text": [
            "Before function call:\n",
            "Immutable argument: 5\n",
            "Mutable argument: [1, 2, 3]\n",
            "Inside function before modification:\n",
            "Immutable argument: 5\n",
            "Mutable argument: [1, 2, 3]\n",
            "Inside function after modification:\n",
            "Immutable argument: 15\n",
            "Mutable argument: [1, 2, 3, 99]\n",
            "After function call:\n",
            "Immutable argument: 5\n",
            "Mutable argument: [1, 2, 3, 99]\n"
          ]
        }
      ]
    },
    {
      "cell_type": "code",
      "source": [
        "# Write a program that performs basic arithmetic operations on two user-input numbers\n",
        "# Get user input\n",
        "num1 = float(input(\"Enter first number: \"))\n",
        "num2 = float(input(\"Enter second number: \"))\n",
        "\n",
        "# Perform arithmetic operations\n",
        "addition = num1 + num2\n",
        "subtraction = num1 - num2\n",
        "multiplication = num1 * num2\n",
        "division = num1 / num2 if num2 != 0 else \"Undefined (division by zero)\"\n",
        "\n",
        "# Display results\n",
        "print(f\"Addition: {addition}\")\n",
        "print(f\"Subtraction: {subtraction}\")\n",
        "print(f\"Multiplication: {multiplication}\")\n",
        "print(f\"Division: {division}\")\n"
      ],
      "metadata": {
        "id": "AYUnaANQa3bw",
        "colab": {
          "base_uri": "https://localhost:8080/"
        },
        "outputId": "e292183f-feef-4393-9cc0-656b43000633"
      },
      "execution_count": 1,
      "outputs": [
        {
          "output_type": "stream",
          "name": "stdout",
          "text": [
            "Enter first number: 23.5\n",
            "Enter second number: 45.5\n",
            "Addition: 69.0\n",
            "Subtraction: -22.0\n",
            "Multiplication: 1069.25\n",
            "Division: 0.5164835164835165\n"
          ]
        }
      ]
    },
    {
      "cell_type": "code",
      "source": [
        "# Write a program to demonstrate the use of logical operators.\n",
        "# Get user input\n",
        "x = int(input(\"Enter a number: \"))\n",
        "y = int(input(\"Enter another number: \"))\n",
        "\n",
        "# Demonstrating logical operators\n",
        "print(f\"x > 5 and y > 5: {x > 5 and y > 5}\")  # True if both x and y are greater than 5\n",
        "print(f\"x > 5 or y > 5: {x > 5 or y > 5}\")    # True if at least one of x or y is greater than 5\n",
        "print(f\"not (x > 5): {not (x > 5)}\")          # True if x is NOT greater than 5\n"
      ],
      "metadata": {
        "colab": {
          "base_uri": "https://localhost:8080/"
        },
        "id": "clOrP021mG8b",
        "outputId": "f8287479-a198-4c9b-b3b7-9a58d1d40d6e"
      },
      "execution_count": 2,
      "outputs": [
        {
          "output_type": "stream",
          "name": "stdout",
          "text": [
            "Enter a number: 12\n",
            "Enter another number: 45\n",
            "x > 5 and y > 5: True\n",
            "x > 5 or y > 5: True\n",
            "not (x > 5): False\n"
          ]
        }
      ]
    },
    {
      "cell_type": "code",
      "source": [
        "#Write a Python program to convert user input from string to integer, float, and boolean types\n",
        "# Get user input as a string\n",
        "user_input = input(\"Enter a value: \")\n",
        "\n",
        "# Convert input to different types\n",
        "try:\n",
        "    int_value = int(user_input)\n",
        "    print(f\"Integer conversion: {int_value}\")\n",
        "except ValueError:\n",
        "    print(\"Invalid integer conversion\")\n",
        "\n",
        "try:\n",
        "    float_value = float(user_input)\n",
        "    print(f\"Float conversion: {float_value}\")\n",
        "except ValueError:\n",
        "    print(\"Invalid float conversion\")\n",
        "\n",
        "# Boolean conversion (non-empty string evaluates to True, empty string is False)\n",
        "bool_value = bool(user_input)\n",
        "print(f\"Boolean conversion: {bool_value}\")\n"
      ],
      "metadata": {
        "colab": {
          "base_uri": "https://localhost:8080/"
        },
        "id": "j861cKu6mO0O",
        "outputId": "e9049f62-721c-4d57-8cef-36c5a4ac4975"
      },
      "execution_count": 3,
      "outputs": [
        {
          "output_type": "stream",
          "name": "stdout",
          "text": [
            "Enter a value: 45\n",
            "Integer conversion: 45\n",
            "Float conversion: 45.0\n",
            "Boolean conversion: True\n"
          ]
        }
      ]
    },
    {
      "cell_type": "code",
      "source": [
        "#Write code to demonstrate type casting with list elements.\n",
        "# Define a list with mixed types\n",
        "mixed_list = [\"10\", \"20.5\", \"True\", \"False\"]\n",
        "\n",
        "# Type casting each element\n",
        "int_list = [int(x) for x in mixed_list if x.isdigit()]  # Convert numeric strings to integers\n",
        "float_list = [float(x) for x in mixed_list if x.replace('.', '', 1).isdigit()]  # Convert numeric strings to floats\n",
        "bool_list = [x.lower() == \"true\" for x in mixed_list]  # Convert string \"True\" or \"False\" to boolean\n",
        "\n",
        "# Display results\n",
        "print(f\"Original List: {mixed_list}\")\n",
        "print(f\"Integer List: {int_list}\")\n",
        "print(f\"Float List: {float_list}\")\n",
        "print(f\"Boolean List: {bool_list}\")\n",
        "\n"
      ],
      "metadata": {
        "colab": {
          "base_uri": "https://localhost:8080/"
        },
        "id": "k_BuGXLFmVcG",
        "outputId": "2ff1d85f-6f88-43e4-d7e2-48bd2d756e96"
      },
      "execution_count": 4,
      "outputs": [
        {
          "output_type": "stream",
          "name": "stdout",
          "text": [
            "Original List: ['10', '20.5', 'True', 'False']\n",
            "Integer List: [10]\n",
            "Float List: [10.0, 20.5]\n",
            "Boolean List: [False, False, True, False]\n"
          ]
        }
      ]
    },
    {
      "cell_type": "code",
      "source": [
        "# Write a program that checks if a number is positive, negative, or zero\n",
        "# Get user input\n",
        "num = float(input(\"Enter a number: \"))\n",
        "\n",
        "# Check and display result\n",
        "if num > 0:\n",
        "    print(\"The number is positive.\")\n",
        "elif num < 0:\n",
        "    print(\"The number is negative.\")\n",
        "else:\n",
        "    print(\"The number is zero.\")\n"
      ],
      "metadata": {
        "colab": {
          "base_uri": "https://localhost:8080/"
        },
        "id": "haLJh8d9madq",
        "outputId": "7ad9b133-6a6d-4f08-c357-fe3002295066"
      },
      "execution_count": 5,
      "outputs": [
        {
          "output_type": "stream",
          "name": "stdout",
          "text": [
            "Enter a number: 46\n",
            "The number is positive.\n"
          ]
        }
      ]
    },
    {
      "cell_type": "code",
      "source": [
        "# Write a for loop to print numbers from 1 to 10\n",
        "# Using a for loop to print numbers from 1 to 10\n",
        "for num in range(1, 11):\n",
        "    print(num)\n"
      ],
      "metadata": {
        "colab": {
          "base_uri": "https://localhost:8080/"
        },
        "id": "UZFuZXK9mdh-",
        "outputId": "62d8e3dc-4f62-4dbb-b3e8-9a276af129a3"
      },
      "execution_count": 6,
      "outputs": [
        {
          "output_type": "stream",
          "name": "stdout",
          "text": [
            "1\n",
            "2\n",
            "3\n",
            "4\n",
            "5\n",
            "6\n",
            "7\n",
            "8\n",
            "9\n",
            "10\n"
          ]
        }
      ]
    },
    {
      "cell_type": "code",
      "source": [
        "#Write a Python program to find the sum of all even numbers between 1 and 50\n",
        "# Initialize sum variable\n",
        "even_sum = 0\n",
        "\n",
        "# Loop through numbers from 1 to 50\n",
        "for num in range(2, 51, 2):  # Start at 2, step by 2 to get only even numbers\n",
        "    even_sum += num\n",
        "\n",
        "# Display the result\n",
        "print(f\"Sum of even numbers from 1 to 50: {even_sum}\")\n"
      ],
      "metadata": {
        "colab": {
          "base_uri": "https://localhost:8080/"
        },
        "id": "knv9LMdnmk8G",
        "outputId": "404dbfa8-7c2e-4916-ecbc-12ed25ee2325"
      },
      "execution_count": 7,
      "outputs": [
        {
          "output_type": "stream",
          "name": "stdout",
          "text": [
            "Sum of even numbers from 1 to 50: 650\n"
          ]
        }
      ]
    },
    {
      "cell_type": "code",
      "source": [
        "#Write a program to reverse a string using a while loop.\n",
        "# Get user input\n",
        "string = input(\"Enter a string: \")\n",
        "\n",
        "# Initialize variables\n",
        "reversed_string = \"\"\n",
        "index = len(string) - 1  # Start from the last character\n",
        "\n",
        "# Reverse the string using a while loop\n",
        "while index >= 0:\n",
        "    reversed_string += string[index]\n",
        "    index -= 1  # Move to the previous character\n",
        "\n",
        "# Display the reversed string\n",
        "print(f\"Reversed string: {reversed_string}\")\n"
      ],
      "metadata": {
        "colab": {
          "base_uri": "https://localhost:8080/"
        },
        "id": "8rn2PrkBmqGm",
        "outputId": "7ba93631-63a9-4fbd-875b-6d7cad3c0db7"
      },
      "execution_count": 8,
      "outputs": [
        {
          "output_type": "stream",
          "name": "stdout",
          "text": [
            "Enter a string: Raziids\n",
            "Reversed string: sdiizaR\n"
          ]
        }
      ]
    },
    {
      "cell_type": "code",
      "source": [
        "#Write a Python program to calculate the factorial of a number provided by the user using a while loop\n",
        "\n",
        "# Get user input\n",
        "num = int(input(\"Enter a number: \"))\n",
        "\n",
        "# Initialize variables\n",
        "factorial = 1\n",
        "i = num\n",
        "\n",
        "# Calculate factorial using a while loop\n",
        "while i > 0:\n",
        "    factorial *= i\n",
        "    i -= 1\n",
        "\n",
        "# Display the result\n",
        "print(f\"Factorial of {num} is: {factorial}\")\n",
        "\n",
        "\n",
        "\n",
        "\n",
        "\n",
        "\n",
        "\n",
        "\n",
        "\n",
        "\n",
        "\n",
        "\n",
        "\n",
        "\n",
        "\n",
        "\n",
        "\n",
        "\n",
        "\n",
        "\n",
        "\n",
        "\n",
        "\n",
        "\n",
        "\n",
        "\n",
        "\n",
        "\n",
        "\n",
        "\n",
        "\n",
        "\n",
        "\n",
        "\n",
        "\n",
        "\n",
        "\n",
        "\n",
        "\n",
        "\n",
        "\n",
        "\n",
        "\n",
        "\n",
        "\n",
        "\n",
        "\n",
        "\n",
        "\n",
        "\n",
        "\n",
        "\n",
        "\n",
        "\n",
        "\n",
        "\n",
        "\n",
        "\n",
        "\n",
        "\n",
        "\n",
        "\n",
        "\n",
        "\n",
        "\n",
        "\n",
        "\n",
        "\n",
        "\n",
        "\n",
        "\n",
        "\n",
        "\n",
        "\n",
        "\n",
        "\n",
        "\n",
        "\n",
        "\n",
        "\n",
        "\n",
        "\n",
        "\n",
        "\n",
        "\n",
        "\n",
        "\n",
        "\n",
        "\n",
        "\n",
        "\n",
        "\n",
        "\n",
        "\n",
        "\n",
        "\n",
        "\n",
        "\n",
        "\n",
        "\n",
        "\n",
        "\n",
        "\n",
        "\n",
        "\n",
        "\n",
        "\n",
        "\n",
        "\n",
        "\n",
        "\n",
        "\n",
        "\n",
        "\n",
        "\n",
        "\n",
        "\n",
        "\n",
        "\n",
        "\n",
        "\n",
        "\n",
        "\n",
        "\n",
        "\n",
        "\n",
        "\n",
        "\n",
        "\n",
        "\n",
        "\n",
        "\n",
        "\n",
        "\n",
        "\n",
        "\n",
        "\n",
        "\n",
        "\n",
        "\n",
        "\n",
        "\n",
        "\n",
        "\n",
        "\n",
        "\n",
        "\n",
        "\n",
        "\n",
        "\n",
        "\n",
        "\n",
        "\n",
        "\n",
        "\n",
        "\n",
        "\n",
        "\n",
        "\n",
        "\n",
        "\n",
        "\n",
        "\n",
        "\n",
        "\n",
        "\n",
        "\n",
        "\n",
        "\n",
        "\n",
        "\n",
        "\n",
        "\n",
        "\n",
        "\n",
        "\n",
        "\n",
        "\n",
        "\n",
        "\n",
        "\n",
        "\n",
        "\n",
        "\n",
        "\n",
        "\n",
        "\n",
        "\n",
        "\n",
        "\n",
        "\n",
        "\n",
        "\n",
        "\n",
        "\n",
        "\n",
        "\n",
        "\n",
        "\n",
        "\n",
        "\n",
        "\n",
        "\n",
        "\n",
        "\n",
        "\n",
        "\n",
        "\n",
        "\n",
        "\n",
        "\n",
        "\n",
        "\n",
        "\n",
        "\n",
        "\n",
        "\n",
        "\n",
        "\n",
        "\n",
        "\n",
        "\n",
        "\n",
        "\n",
        "\n",
        "\n",
        "\n",
        "\n",
        "\n",
        "\n",
        "\n"
      ],
      "metadata": {
        "colab": {
          "base_uri": "https://localhost:8080/"
        },
        "id": "HGZzFiM7myZj",
        "outputId": "04dd11af-d214-4fe2-92cd-199daf0a3c89"
      },
      "execution_count": 11,
      "outputs": [
        {
          "output_type": "stream",
          "name": "stdout",
          "text": [
            "Enter a number: 12\n",
            "Factorial of 12 is: 479001600\n"
          ]
        }
      ]
    }
  ]
}