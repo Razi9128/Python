{
  "nbformat": 4,
  "nbformat_minor": 0,
  "metadata": {
    "colab": {
      "provenance": [],
      "authorship_tag": "ABX9TyO9JF3ndUmcThEVzsgqtBbJ",
      "include_colab_link": true
    },
    "kernelspec": {
      "name": "python3",
      "display_name": "Python 3"
    },
    "language_info": {
      "name": "python"
    }
  },
  "cells": [
    {
      "cell_type": "markdown",
      "metadata": {
        "id": "view-in-github",
        "colab_type": "text"
      },
      "source": [
        "<a href=\"https://colab.research.google.com/github/Razi9128/Python/blob/main/Statistics_Advanced_1%7C.ipynb\" target=\"_parent\"><img src=\"https://colab.research.google.com/assets/colab-badge.svg\" alt=\"Open In Colab\"/></a>"
      ]
    },
    {
      "cell_type": "code",
      "execution_count": null,
      "metadata": {
        "id": "YCVWayaY18Mw"
      },
      "outputs": [],
      "source": []
    },
    {
      "cell_type": "markdown",
      "source": [
        "Question 1: What is a random variable in probability theory?\n",
        "\n",
        "A random variable in probability theory is a function that assigns numerical values to the outcomes of a random experiment. It provides a way to quantify uncertainty by mapping each possible outcome to a number, allowing us to analyze and compute probabilities and expectations.\n",
        "\n",
        "🔍 Key Concepts\n",
        "Types of Random Variables:\n",
        "\n",
        "Discrete: Takes on countable values (e.g., number of heads in 3 coin tosses).\n",
        "\n",
        "Continuous: Takes on values from a continuous range (e.g., height of a person).\n",
        "\n",
        "Notation:\n",
        "\n",
        "Usually denoted by capital letters like\n",
        "𝑋\n",
        ",\n",
        "𝑌\n",
        ", or\n",
        "𝑍\n",
        ".\n",
        "\n",
        "The actual values it can take are denoted by lowercase letters (e.g.,\n",
        "𝑥\n",
        ").\n",
        "\n",
        "Probability Distribution:\n",
        "\n",
        "Describes how probabilities are assigned to values of the random variable.\n",
        "\n",
        "For discrete variables: Probability Mass Function (PMF).\n",
        "\n",
        "For continuous variables: Probability Density Function (PDF).\n",
        "\n",
        "Examples:\n",
        "\n",
        "Tossing a die: Let\n",
        "𝑋\n",
        " be the outcome.\n",
        "𝑋\n",
        " can be 1 through 6.\n",
        "\n",
        "Measuring rainfall: Let\n",
        "𝑌\n",
        " be the amount in mm.\n",
        "𝑌\n",
        " can be any non-negative real number.\n",
        "\n",
        "Purpose:\n",
        "\n",
        "Enables statistical analysis, modeling, and inference.\n",
        "\n",
        "Forms the foundation for concepts like expectation, variance, and hypothesis testing."
      ],
      "metadata": {
        "id": "_T-F_W7f1_EL"
      }
    },
    {
      "cell_type": "markdown",
      "source": [
        "Question 2: What are the types of random variables?\n",
        "\n",
        "There are two main types of random variables:\n",
        "\n",
        "### 1️⃣ Discrete Random Variable\n",
        "- Takes on **countable** values (finite or countably infinite).\n",
        "- Examples: Number of heads in 10 coin tosses, number of students in a class.\n",
        "- Associated with a **Probability Mass Function (PMF)**.\n",
        "\n",
        "### 2️⃣ Continuous Random Variable\n",
        "- Takes on **uncountably infinite** values within a range.\n",
        "- Examples: Height of a person, time taken to run a race.\n",
        "- Associated with a **Probability Density Function (PDF)**.\n",
        "\n",
        "Each type has distinct mathematical tools and applications in probability and statistics."
      ],
      "metadata": {
        "id": "Y2OJZ9NV2Wy2"
      }
    },
    {
      "cell_type": "markdown",
      "source": [
        "Question 3: Explain the difference between discrete and continuous distributions.\n",
        "\n",
        "Here’s a detailed explanation of the difference between **discrete** and **continuous distributions**:\n",
        "\n",
        "### 📊 Discrete Distribution\n",
        "- **Definition**: Describes the probability of outcomes for a discrete random variable.\n",
        "- **Values**: Countable (e.g., 0, 1, 2, 3…).\n",
        "- **Probability Function**: Uses a **Probability Mass Function (PMF)**.\n",
        "- **Example**: Number of defective items in a batch. You can have 0, 1, 2, etc., but not 2.5 defective items.\n",
        "\n",
        "### 📈 Continuous Distribution\n",
        "- **Definition**: Describes the probability of outcomes for a continuous random variable.\n",
        "- **Values**: Uncountably infinite within an interval (e.g., all real numbers between 0 and 1).\n",
        "- **Probability Function**: Uses a **Probability Density Function (PDF)**.\n",
        "- **Example**: Time taken to complete a task. It could be 2.3 seconds, 2.31 seconds, etc.\n",
        "\n",
        "### 🔍 Key Differences\n",
        "\n",
        "| Feature                  | Discrete Distribution             | Continuous Distribution            |\n",
        "|--------------------------|-----------------------------------|------------------------------------|\n",
        "| Type of Variable         | Discrete (countable)              | Continuous (uncountable)           |\n",
        "| Probability Function     | PMF                               | PDF                                |\n",
        "| Probability of Exact Value | Non-zero                         | Zero (probability over interval)   |\n",
        "| Examples                 | Dice rolls, number of emails      | Temperature, height, time          |\n",
        "\n",
        "Let me know if you'd like visual aids or practice questions to reinforce this!"
      ],
      "metadata": {
        "id": "WsaHrzJm2eZs"
      }
    },
    {
      "cell_type": "markdown",
      "source": [
        "Question 4: What is a binomial distribution, and how is it used in probability?\n",
        "\n",
        "### 🎯 Binomial Distribution: Definition and Use\n",
        "\n",
        "A **binomial distribution** is a discrete probability distribution that models the number of successes in a fixed number of independent trials, each with the same probability of success.\n",
        "\n",
        "### 📌 Key Characteristics\n",
        "- **Fixed number of trials**: Denoted by \\( n \\)\n",
        "- **Two possible outcomes**: Success or failure\n",
        "- **Constant probability of success**: Denoted by \\( p \\)\n",
        "- **Random variable**: Counts the number of successes\n",
        "\n",
        "### 📐 Probability Formula\n",
        "The probability of getting exactly \\( k \\) successes in \\( n \\) trials is:\n",
        "\n",
        "\\[\n",
        "P(X = k) = \\binom{n}{k} p^k (1 - p)^{n - k}\n",
        "\\]\n",
        "\n",
        "Where:\n",
        "- \\( \\binom{n}{k} \\) is the binomial coefficient\n",
        "- \\( p \\) is the probability of success\n",
        "- \\( (1 - p) \\) is the probability of failure\n",
        "\n",
        "### 📊 Applications\n",
        "- Quality control (e.g., number of defective items in a batch)\n",
        "- Survey analysis (e.g., number of people who say “yes”)\n",
        "- Clinical trials (e.g., number of patients responding to treatment)\n",
        "\n",
        "It’s widely used when outcomes are binary and trials are independent. Let me know if you’d like to see a Python example or a visual explanation!"
      ],
      "metadata": {
        "id": "RHLlnC4v2ooZ"
      }
    },
    {
      "cell_type": "markdown",
      "source": [
        "Question 5: What is the standard normal distribution, and why is it important?\n",
        "\n",
        "### 🌐 Standard Normal Distribution: Definition and Importance\n",
        "\n",
        "The **standard normal distribution** is a special case of the normal distribution with:\n",
        "\n",
        "- **Mean (μ)** = 0  \n",
        "- **Standard deviation (σ)** = 1\n",
        "\n",
        "It is represented by the random variable \\( Z \\), and its probability density function is symmetric and bell-shaped.\n",
        "\n",
        "### 📌 Why It’s Important\n",
        "\n",
        "- **Universal Reference**: Many statistical methods and tables (like Z-tables) are based on the standard normal distribution.\n",
        "- **Simplifies Calculations**: Any normal distribution can be converted to standard normal using the formula:\n",
        "\n",
        "  \\[\n",
        "  Z = \\frac{X - \\mu}{\\sigma}\n",
        "  \\]\n",
        "\n",
        "- **Foundation for Hypothesis Testing**: Used in Z-tests, confidence intervals, and p-value calculations.\n",
        "- **Central Limit Theorem**: As sample size increases, the sampling distribution of the mean approaches a standard normal distribution.\n",
        "\n",
        "It’s a cornerstone of inferential statistics and helps standardize diverse data for comparison and analysis."
      ],
      "metadata": {
        "id": "JCqYZHhy2u_Q"
      }
    },
    {
      "cell_type": "markdown",
      "source": [
        "Question 6: What is the Central Limit Theorem (CLT), and why is it critical in statistics?\n",
        "\n",
        "### 📘 Central Limit Theorem (CLT): Definition and Importance\n",
        "\n",
        "The **Central Limit Theorem (CLT)** states that the sampling distribution of the sample mean approaches a **normal distribution** as the sample size becomes large, regardless of the shape of the population distribution—provided the samples are independent and identically distributed.\n",
        "\n",
        "### 🔍 Formal Statement\n",
        "If \\( X_1, X_2, ..., X_n \\) are i.i.d. random variables with mean \\( \\mu \\) and standard deviation \\( \\sigma \\), then the standardized sample mean:\n",
        "\n",
        "\\[\n",
        "Z = \\frac{\\bar{X} - \\mu}{\\sigma / \\sqrt{n}}\n",
        "\\]\n",
        "\n",
        "approaches a standard normal distribution as \\( n \\to \\infty \\).\n",
        "\n",
        "### 🎯 Why It’s Critical in Statistics\n",
        "\n",
        "- **Enables Normal Approximation**: Even if the population is not normal, the sample mean behaves normally for large \\( n \\).\n",
        "- **Foundation for Inference**: Justifies using Z-tests, confidence intervals, and other parametric methods.\n",
        "- **Simplifies Analysis**: Allows statisticians to use well-understood normal distribution tools for complex problems.\n",
        "\n",
        "It’s one of the most powerful and widely used theorems in statistics because it bridges the gap between raw data and inferential methods.\n",
        "\n",
        "Would you like a visual simulation or Python code to see CLT in action?"
      ],
      "metadata": {
        "id": "BPZjP2DH2z3z"
      }
    },
    {
      "cell_type": "markdown",
      "source": [
        "Question 7: What is the significance of confidence intervals in statistical analysis?\n",
        "\n",
        "### 📏 Confidence Intervals: Significance in Statistical Analysis\n",
        "\n",
        "A **confidence interval (CI)** is a range of values, derived from sample data, that is likely to contain the true population parameter (such as mean or proportion) with a specified level of confidence.\n",
        "\n",
        "### 🔍 Key Features\n",
        "- **Confidence Level**: Typically 90%, 95%, or 99%, indicating how sure we are that the interval contains the true value.\n",
        "- **Interval Format**: Usually written as \\( \\bar{x} \\pm \\text{margin of error} \\)\n",
        "- **Based on Sampling**: Reflects uncertainty due to random sampling.\n",
        "\n",
        "### 🎯 Why It’s Important\n",
        "\n",
        "- **Quantifies Uncertainty**: Instead of giving a single estimate, it provides a range where the true value likely lies.\n",
        "- **Supports Decision-Making**: Helps assess reliability of estimates in fields like medicine, economics, and engineering.\n",
        "- **Foundation for Hypothesis Testing**: If a hypothesized value lies outside the CI, it may be rejected.\n",
        "\n",
        "Confidence intervals are essential for interpreting data responsibly and making informed conclusions under uncertainty.\n",
        "\n",
        "Would you like to see how to calculate one using Python or with a real-world example?"
      ],
      "metadata": {
        "id": "YgPvGsw326bW"
      }
    },
    {
      "cell_type": "markdown",
      "source": [
        "Question 8: What is the concept of expected value in a probability distribution?\n",
        "\n",
        "### 🎯 Expected Value: Concept in Probability Distribution\n",
        "\n",
        "The **expected value** (or **mean**) of a random variable is the long-run average value it takes after many repetitions of a random experiment. It represents the center or \"balancing point\" of the distribution.\n",
        "\n",
        "---\n",
        "\n",
        "### 📐 Mathematical Definition\n",
        "\n",
        "- For a **discrete** random variable \\( X \\) with values \\( x_1, x_2, ..., x_n \\) and probabilities \\( p_1, p_2, ..., p_n \\):\n",
        "\n",
        "  \\[\n",
        "  E(X) = \\sum_{i=1}^{n} x_i \\cdot p_i\n",
        "  \\]\n",
        "\n",
        "- For a **continuous** random variable with probability density function \\( f(x) \\):\n",
        "\n",
        "  \\[\n",
        "  E(X) = \\int_{-\\infty}^{\\infty} x \\cdot f(x) \\, dx\n",
        "  \\]\n",
        "\n",
        "---\n",
        "\n",
        "### 📊 Interpretation\n",
        "\n",
        "- It’s the **weighted average** of all possible values.\n",
        "- Helps predict outcomes in the long run.\n",
        "- Used in decision-making, risk analysis, and economics.\n",
        "\n",
        "---\n",
        "\n",
        "### 🧠 Example\n",
        "\n",
        "If you roll a fair six-sided die, the expected value is:\n",
        "\n",
        "\\[\n",
        "E(X) = \\frac{1 + 2 + 3 + 4 + 5 + 6}{6} = 3.5\n",
        "\\]\n",
        "\n",
        "Even though 3.5 isn’t a possible outcome, it’s the average result over many rolls.\n",
        "\n",
        "Would you like to see how expected value applies in real-world scenarios like insurance or games?"
      ],
      "metadata": {
        "id": "PE_x10jR3C3t"
      }
    },
    {
      "cell_type": "markdown",
      "source": [],
      "metadata": {
        "id": "XBw5f1kk3Hkm"
      }
    },
    {
      "cell_type": "code",
      "source": [
        "\"\"\"Question 9: Write a Python program to generate 1000 random numbers from a normal\n",
        "distribution with mean = 50 and standard deviation = 5. Compute its mean and standard\n",
        "deviation using NumPy, and draw a histogram to visualize the distribution.\n",
        "(Include your Python code and output in the code box below.)\"\"\"\n",
        "\n",
        "\n",
        "\n",
        "import numpy as np\n",
        "import matplotlib.pyplot as plt\n",
        "import seaborn as sns\n",
        "import os\n",
        "\n",
        "# Set seaborn style for better aesthetics\n",
        "sns.set(style=\"whitegrid\")\n",
        "\n",
        "# Parameters for the normal distribution\n",
        "mean = 50\n",
        "std_dev = 5\n",
        "num_samples = 1000\n",
        "\n",
        "# Generate random numbers from the normal distribution\n",
        "data = np.random.normal(loc=mean, scale=std_dev, size=num_samples)\n",
        "\n",
        "# Compute mean and standard deviation\n",
        "computed_mean = np.mean(data)\n",
        "computed_std = np.std(data)\n",
        "\n",
        "print(f\"Computed Mean: {computed_mean:.2f}\")\n",
        "print(f\"Computed Standard Deviation: {computed_std:.2f}\")\n",
        "\n",
        "# Create output directory if it doesn't exist\n",
        "output_dir = \"/mnt/data\"\n",
        "os.makedirs(output_dir, exist_ok=True)\n",
        "\n",
        "# Plot histogram\n",
        "plt.figure(figsize=(10, 6))\n",
        "sns.histplot(data, bins=30, kde=True, color='skyblue')\n",
        "plt.title(\"Histogram of Normally Distributed Data (μ=50, σ=5)\", fontsize=14)\n",
        "plt.xlabel(\"Value\", fontsize=12)\n",
        "plt.ylabel(\"Frequency\", fontsize=12)\n",
        "plt.tight_layout()\n",
        "\n",
        "# Save the plot\n",
        "plot_path = os.path.join(output_dir, \"normal_distribution_histogram.png\")\n",
        "plt.savefig(plot_path)\n",
        "plt.close()\n"
      ],
      "metadata": {
        "colab": {
          "base_uri": "https://localhost:8080/"
        },
        "id": "UJi-4x4l3JwP",
        "outputId": "57c13568-06ba-4535-f5ab-04023355d13b"
      },
      "execution_count": 1,
      "outputs": [
        {
          "output_type": "stream",
          "name": "stdout",
          "text": [
            "Computed Mean: 50.05\n",
            "Computed Standard Deviation: 5.15\n"
          ]
        }
      ]
    },
    {
      "cell_type": "code",
      "source": [
        "\"\"\"Question 10: You are working as a data analyst for a retail company. The company has\n",
        "collected daily sales data for 2 years and wants you to identify the overall sales trend.\n",
        "daily_sales = [220, 245, 210, 265, 230, 250, 260, 275, 240, 255,\n",
        "235, 260, 245, 250, 225, 270, 265, 255, 250, 260]\n",
        "● Explain how you would apply the Central Limit Theorem to estimate the average sales\n",
        "with a 95% confidence interval.\n",
        "● Write the Python code to compute the mean sales and its confidence interval. \"\"\"\n",
        "\n",
        "\n",
        "import numpy as np\n",
        "from scipy import stats\n",
        "\n",
        "# Daily sales data\n",
        "daily_sales = [220, 245, 210, 265, 230, 250, 260, 275, 240, 255,\n",
        "               235, 260, 245, 250, 225, 270, 265, 255, 250, 260]\n",
        "\n",
        "# Calculate sample mean and standard error\n",
        "mean_sales = np.mean(daily_sales)\n",
        "std_error = stats.sem(daily_sales)\n",
        "\n",
        "# Compute 95% confidence interval using t-distribution\n",
        "confidence = 0.95\n",
        "n = len(daily_sales)\n",
        "t_critical = stats.t.ppf((1 + confidence) / 2, df=n-1)\n",
        "margin_of_error = t_critical * std_error\n",
        "\n",
        "lower_bound = mean_sales - margin_of_error\n",
        "upper_bound = mean_sales + margin_of_error\n",
        "\n",
        "print(f\"Mean Sales: {mean_sales:.2f}\")\n",
        "print(f\"95% Confidence Interval: ({lower_bound:.2f}, {upper_bound:.2f})\")\n"
      ],
      "metadata": {
        "colab": {
          "base_uri": "https://localhost:8080/"
        },
        "id": "xuDKECfe38Gr",
        "outputId": "e9243ec1-5bf0-44f5-9715-b43ec8d8ce04"
      },
      "execution_count": 2,
      "outputs": [
        {
          "output_type": "stream",
          "name": "stdout",
          "text": [
            "Mean Sales: 248.25\n",
            "95% Confidence Interval: (240.17, 256.33)\n"
          ]
        }
      ]
    }
  ]
}